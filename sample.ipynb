{
 "cells": [
  {
   "cell_type": "markdown",
   "id": "8a77807f92f26ee",
   "metadata": {},
   "source": [
    "# Laboratorio 2 - BI\n",
    "\n",
    "| ID | Nombre            | Código        | Correo                        |\n",
    "|----|-------------------|---------------|-------------------------------|\n",
    "| 1  | Adrian Velasquez  | 202222737     | a.velasquezs@uniandes.edu.co  |\n",
    "| 2  | Andres Molano     | 202215460     | a.molanob@uniandes.edu.co     |\n",
    "| 3  | Sebastian Ramirez | 202123415     | s.ramirez112@uniandes.edu.co  |"
   ]
  },
  {
   "cell_type": "code",
   "id": "fbc121e30a2defb3",
   "metadata": {
    "ExecuteTime": {
     "end_time": "2025-09-17T22:14:47.548974Z",
     "start_time": "2025-09-17T22:14:47.546653Z"
    }
   },
   "source": [
    "print(\"Hello World!\")\n"
   ],
   "outputs": [
    {
     "name": "stdout",
     "output_type": "stream",
     "text": [
      "Hello World!\n"
     ]
    }
   ],
   "execution_count": 20
  },
  {
   "metadata": {
    "ExecuteTime": {
     "end_time": "2025-09-17T22:14:47.576248Z",
     "start_time": "2025-09-17T22:14:47.574608Z"
    }
   },
   "cell_type": "code",
   "source": [
    "import pandas as pd\n",
    "import matplotlib.pyplot as plt\n",
    "import numpy as np\n",
    "import seaborn as sns"
   ],
   "id": "d55cc46cf8cab755",
   "outputs": [],
   "execution_count": 21
  },
  {
   "metadata": {
    "ExecuteTime": {
     "end_time": "2025-09-17T22:14:47.604197Z",
     "start_time": "2025-09-17T22:14:47.586921Z"
    }
   },
   "cell_type": "code",
   "source": [
    "TRAIN = \"data/train.csv\"\n",
    "df_original = pd.read_csv(TRAIN)\n",
    "df_original.head()"
   ],
   "id": "5d94cea613489416",
   "outputs": [
    {
     "data": {
      "text/plain": [
       "      Area  Perimetro  LongitudEjeMayor  LongitudEjeMenor  RelacionAspecto  \\\n",
       "0  44974.0   791935.0        297.061200        193.430071         1.535755   \n",
       "1  52199.0   919891.0        383.712441               NaN         2.201827   \n",
       "2      NaN  1103196.0        438.347845        238.552533         1.837532   \n",
       "3  66926.0  1043841.0        429.151047        199.455692         2.151611   \n",
       "4  38439.0   728262.0        266.152672        184.630304         1.441544   \n",
       "\n",
       "   Excentricidad  AreaConvexa  DiametroEquivalente    Medida   Solidez  \\\n",
       "0       0.758953        45499           239.296208  0.779162  0.988461   \n",
       "1       0.890916        52840           257.801922  0.696209  0.987869   \n",
       "2       0.838950        82342           322.732223  0.812709  0.993466   \n",
       "3       0.885432        67662           291.912367  0.812524  0.989122   \n",
       "4       0.720263        38863           221.228513  0.807881  0.989090   \n",
       "\n",
       "   Redondez  Compacidad  FactorForma1  FactorForma2  FactorForma3  \\\n",
       "0  0.901140    0.805545      0.006605      0.001716      0.648903   \n",
       "1  0.775174    0.671862      0.007351      0.000924      0.451399   \n",
       "2  0.844654    0.736247      0.005359      0.000971      0.542059   \n",
       "3       NaN    0.680209      0.006412      0.000847      0.462684   \n",
       "4       NaN    0.831209      0.006924      0.002039      0.690909   \n",
       "\n",
       "   FactorForma4  \n",
       "0      0.996556  \n",
       "1      0.993902  \n",
       "2      0.996051  \n",
       "3      0.995516  \n",
       "4      0.995975  "
      ],
      "text/html": [
       "<div>\n",
       "<style scoped>\n",
       "    .dataframe tbody tr th:only-of-type {\n",
       "        vertical-align: middle;\n",
       "    }\n",
       "\n",
       "    .dataframe tbody tr th {\n",
       "        vertical-align: top;\n",
       "    }\n",
       "\n",
       "    .dataframe thead th {\n",
       "        text-align: right;\n",
       "    }\n",
       "</style>\n",
       "<table border=\"1\" class=\"dataframe\">\n",
       "  <thead>\n",
       "    <tr style=\"text-align: right;\">\n",
       "      <th></th>\n",
       "      <th>Area</th>\n",
       "      <th>Perimetro</th>\n",
       "      <th>LongitudEjeMayor</th>\n",
       "      <th>LongitudEjeMenor</th>\n",
       "      <th>RelacionAspecto</th>\n",
       "      <th>Excentricidad</th>\n",
       "      <th>AreaConvexa</th>\n",
       "      <th>DiametroEquivalente</th>\n",
       "      <th>Medida</th>\n",
       "      <th>Solidez</th>\n",
       "      <th>Redondez</th>\n",
       "      <th>Compacidad</th>\n",
       "      <th>FactorForma1</th>\n",
       "      <th>FactorForma2</th>\n",
       "      <th>FactorForma3</th>\n",
       "      <th>FactorForma4</th>\n",
       "    </tr>\n",
       "  </thead>\n",
       "  <tbody>\n",
       "    <tr>\n",
       "      <th>0</th>\n",
       "      <td>44974.0</td>\n",
       "      <td>791935.0</td>\n",
       "      <td>297.061200</td>\n",
       "      <td>193.430071</td>\n",
       "      <td>1.535755</td>\n",
       "      <td>0.758953</td>\n",
       "      <td>45499</td>\n",
       "      <td>239.296208</td>\n",
       "      <td>0.779162</td>\n",
       "      <td>0.988461</td>\n",
       "      <td>0.901140</td>\n",
       "      <td>0.805545</td>\n",
       "      <td>0.006605</td>\n",
       "      <td>0.001716</td>\n",
       "      <td>0.648903</td>\n",
       "      <td>0.996556</td>\n",
       "    </tr>\n",
       "    <tr>\n",
       "      <th>1</th>\n",
       "      <td>52199.0</td>\n",
       "      <td>919891.0</td>\n",
       "      <td>383.712441</td>\n",
       "      <td>NaN</td>\n",
       "      <td>2.201827</td>\n",
       "      <td>0.890916</td>\n",
       "      <td>52840</td>\n",
       "      <td>257.801922</td>\n",
       "      <td>0.696209</td>\n",
       "      <td>0.987869</td>\n",
       "      <td>0.775174</td>\n",
       "      <td>0.671862</td>\n",
       "      <td>0.007351</td>\n",
       "      <td>0.000924</td>\n",
       "      <td>0.451399</td>\n",
       "      <td>0.993902</td>\n",
       "    </tr>\n",
       "    <tr>\n",
       "      <th>2</th>\n",
       "      <td>NaN</td>\n",
       "      <td>1103196.0</td>\n",
       "      <td>438.347845</td>\n",
       "      <td>238.552533</td>\n",
       "      <td>1.837532</td>\n",
       "      <td>0.838950</td>\n",
       "      <td>82342</td>\n",
       "      <td>322.732223</td>\n",
       "      <td>0.812709</td>\n",
       "      <td>0.993466</td>\n",
       "      <td>0.844654</td>\n",
       "      <td>0.736247</td>\n",
       "      <td>0.005359</td>\n",
       "      <td>0.000971</td>\n",
       "      <td>0.542059</td>\n",
       "      <td>0.996051</td>\n",
       "    </tr>\n",
       "    <tr>\n",
       "      <th>3</th>\n",
       "      <td>66926.0</td>\n",
       "      <td>1043841.0</td>\n",
       "      <td>429.151047</td>\n",
       "      <td>199.455692</td>\n",
       "      <td>2.151611</td>\n",
       "      <td>0.885432</td>\n",
       "      <td>67662</td>\n",
       "      <td>291.912367</td>\n",
       "      <td>0.812524</td>\n",
       "      <td>0.989122</td>\n",
       "      <td>NaN</td>\n",
       "      <td>0.680209</td>\n",
       "      <td>0.006412</td>\n",
       "      <td>0.000847</td>\n",
       "      <td>0.462684</td>\n",
       "      <td>0.995516</td>\n",
       "    </tr>\n",
       "    <tr>\n",
       "      <th>4</th>\n",
       "      <td>38439.0</td>\n",
       "      <td>728262.0</td>\n",
       "      <td>266.152672</td>\n",
       "      <td>184.630304</td>\n",
       "      <td>1.441544</td>\n",
       "      <td>0.720263</td>\n",
       "      <td>38863</td>\n",
       "      <td>221.228513</td>\n",
       "      <td>0.807881</td>\n",
       "      <td>0.989090</td>\n",
       "      <td>NaN</td>\n",
       "      <td>0.831209</td>\n",
       "      <td>0.006924</td>\n",
       "      <td>0.002039</td>\n",
       "      <td>0.690909</td>\n",
       "      <td>0.995975</td>\n",
       "    </tr>\n",
       "  </tbody>\n",
       "</table>\n",
       "</div>"
      ]
     },
     "execution_count": 22,
     "metadata": {},
     "output_type": "execute_result"
    }
   ],
   "execution_count": 22
  },
  {
   "metadata": {
    "ExecuteTime": {
     "end_time": "2025-09-17T22:14:47.625147Z",
     "start_time": "2025-09-17T22:14:47.623694Z"
    }
   },
   "cell_type": "code",
   "source": [
    "size_og, cols_og = df_original.shape\n",
    "print(f\"tamaño original: {size_og}\\ncolumnas original: {cols_og}\")"
   ],
   "id": "218a6180f1651c58",
   "outputs": [
    {
     "name": "stdout",
     "output_type": "stream",
     "text": [
      "tamaño original: 14291\n",
      "columnas original: 16\n"
     ]
    }
   ],
   "execution_count": 23
  },
  {
   "metadata": {
    "ExecuteTime": {
     "end_time": "2025-09-17T22:14:47.653442Z",
     "start_time": "2025-09-17T22:14:47.651866Z"
    }
   },
   "cell_type": "code",
   "source": [
    "cat_cols = df_original.select_dtypes(include=\"object\")\n",
    "num_cols = df_original.select_dtypes(include=\"number\")"
   ],
   "id": "2d129ed71601f8f8",
   "outputs": [],
   "execution_count": 24
  },
  {
   "metadata": {
    "ExecuteTime": {
     "end_time": "2025-09-17T22:14:58.454698Z",
     "start_time": "2025-09-17T22:14:58.451897Z"
    }
   },
   "cell_type": "code",
   "source": "cat_cols.info()",
   "id": "29d25691da547d3d",
   "outputs": [
    {
     "name": "stdout",
     "output_type": "stream",
     "text": [
      "<class 'pandas.core.frame.DataFrame'>\n",
      "RangeIndex: 14291 entries, 0 to 14290\n",
      "Empty DataFrame\n"
     ]
    }
   ],
   "execution_count": 29
  },
  {
   "metadata": {
    "ExecuteTime": {
     "end_time": "2025-09-17T22:14:47.662891Z",
     "start_time": "2025-09-17T22:14:47.659859Z"
    }
   },
   "cell_type": "code",
   "source": "num_cols.info()",
   "id": "e738758512c3a0ed",
   "outputs": [
    {
     "name": "stdout",
     "output_type": "stream",
     "text": [
      "<class 'pandas.core.frame.DataFrame'>\n",
      "RangeIndex: 14291 entries, 0 to 14290\n",
      "Data columns (total 16 columns):\n",
      " #   Column               Non-Null Count  Dtype  \n",
      "---  ------               --------------  -----  \n",
      " 0   Area                 13381 non-null  float64\n",
      " 1   Perimetro            14291 non-null  float64\n",
      " 2   LongitudEjeMayor     13361 non-null  float64\n",
      " 3   LongitudEjeMenor     13365 non-null  float64\n",
      " 4   RelacionAspecto      13608 non-null  float64\n",
      " 5   Excentricidad        14291 non-null  float64\n",
      " 6   AreaConvexa          14291 non-null  int64  \n",
      " 7   DiametroEquivalente  14291 non-null  float64\n",
      " 8   Medida               14291 non-null  float64\n",
      " 9   Solidez              12991 non-null  float64\n",
      " 10  Redondez             11729 non-null  float64\n",
      " 11  Compacidad           12845 non-null  float64\n",
      " 12  FactorForma1         14291 non-null  float64\n",
      " 13  FactorForma2         14291 non-null  float64\n",
      " 14  FactorForma3         14291 non-null  float64\n",
      " 15  FactorForma4         14291 non-null  float64\n",
      "dtypes: float64(15), int64(1)\n",
      "memory usage: 1.7 MB\n"
     ]
    }
   ],
   "execution_count": 25
  },
  {
   "metadata": {
    "ExecuteTime": {
     "end_time": "2025-09-17T22:15:44.413473Z",
     "start_time": "2025-09-17T22:15:44.407536Z"
    }
   },
   "cell_type": "code",
   "source": "df_original.info()",
   "id": "f1d9a98b23be07a7",
   "outputs": [
    {
     "name": "stdout",
     "output_type": "stream",
     "text": [
      "<class 'pandas.core.frame.DataFrame'>\n",
      "RangeIndex: 14291 entries, 0 to 14290\n",
      "Data columns (total 16 columns):\n",
      " #   Column               Non-Null Count  Dtype  \n",
      "---  ------               --------------  -----  \n",
      " 0   Area                 13381 non-null  float64\n",
      " 1   Perimetro            14291 non-null  float64\n",
      " 2   LongitudEjeMayor     13361 non-null  float64\n",
      " 3   LongitudEjeMenor     13365 non-null  float64\n",
      " 4   RelacionAspecto      13608 non-null  float64\n",
      " 5   Excentricidad        14291 non-null  float64\n",
      " 6   AreaConvexa          14291 non-null  int64  \n",
      " 7   DiametroEquivalente  14291 non-null  float64\n",
      " 8   Medida               14291 non-null  float64\n",
      " 9   Solidez              12991 non-null  float64\n",
      " 10  Redondez             11729 non-null  float64\n",
      " 11  Compacidad           12845 non-null  float64\n",
      " 12  FactorForma1         14291 non-null  float64\n",
      " 13  FactorForma2         14291 non-null  float64\n",
      " 14  FactorForma3         14291 non-null  float64\n",
      " 15  FactorForma4         14291 non-null  float64\n",
      "dtypes: float64(15), int64(1)\n",
      "memory usage: 1.7 MB\n"
     ]
    }
   ],
   "execution_count": 30
  },
  {
   "metadata": {
    "ExecuteTime": {
     "end_time": "2025-09-17T22:16:37.996162Z",
     "start_time": "2025-09-17T22:16:37.991612Z"
    }
   },
   "cell_type": "code",
   "source": "df_original.isnull().sum()",
   "id": "fdecaee05b5d6be9",
   "outputs": [
    {
     "data": {
      "text/plain": [
       "Area                    910\n",
       "Perimetro                 0\n",
       "LongitudEjeMayor        930\n",
       "LongitudEjeMenor        926\n",
       "RelacionAspecto         683\n",
       "Excentricidad             0\n",
       "AreaConvexa               0\n",
       "DiametroEquivalente       0\n",
       "Medida                    0\n",
       "Solidez                1300\n",
       "Redondez               2562\n",
       "Compacidad             1446\n",
       "FactorForma1              0\n",
       "FactorForma2              0\n",
       "FactorForma3              0\n",
       "FactorForma4              0\n",
       "dtype: int64"
      ]
     },
     "execution_count": 33,
     "metadata": {},
     "output_type": "execute_result"
    }
   ],
   "execution_count": 33
  },
  {
   "metadata": {
    "ExecuteTime": {
     "end_time": "2025-09-17T22:14:47.751326Z",
     "start_time": "2025-09-17T22:14:47.745478Z"
    }
   },
   "cell_type": "code",
   "source": [
    "dupes = df_original.duplicated().sum()\n",
    "print(f\"duplicados totales: {dupes}\")"
   ],
   "id": "e8a3ef1f9eb934a8",
   "outputs": [
    {
     "name": "stdout",
     "output_type": "stream",
     "text": [
      "duplicados totales: 692\n"
     ]
    }
   ],
   "execution_count": 28
  }
 ],
 "metadata": {
  "kernelspec": {
   "display_name": "Python 3 (ipykernel)",
   "language": "python",
   "name": "python3"
  },
  "language_info": {
   "codemirror_mode": {
    "name": "ipython",
    "version": 3
   },
   "file_extension": ".py",
   "mimetype": "text/x-python",
   "name": "python",
   "nbconvert_exporter": "python",
   "pygments_lexer": "ipython3",
   "version": "3.13.7"
  }
 },
 "nbformat": 4,
 "nbformat_minor": 5
}
