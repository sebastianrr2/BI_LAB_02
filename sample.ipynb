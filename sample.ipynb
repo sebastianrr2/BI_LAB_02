{
 "cells": [
  {
   "cell_type": "markdown",
   "id": "8a77807f92f26ee",
   "metadata": {},
   "source": [
    "# Laboratorio 2 - BI\n",
    "\n",
    "| ID | Nombre            | Código        | Correo                        |\n",
    "|----|-------------------|---------------|-------------------------------|\n",
    "| 1  | Adrian Velasquez  | 202222737     | a.velasquezs@uniandes.edu.co  |\n",
    "| 2  | Andres Molano     | 202215460     | a.molanob@uniandes.edu.co     |\n",
    "| 3  | Sebastian Ramirez | 202123415     | s.ramirez112@uniandes.edu.co  |"
   ]
  },
  {
   "cell_type": "code",
   "execution_count": 1240,
   "id": "d55cc46cf8cab755",
   "metadata": {
    "ExecuteTime": {
     "end_time": "2025-09-17T22:14:47.576248Z",
     "start_time": "2025-09-17T22:14:47.574608Z"
    }
   },
   "outputs": [],
   "source": [
    "import pandas as pd\n",
    "import matplotlib.pyplot as plt\n",
    "import numpy as np\n",
    "import seaborn as sns"
   ]
  },
  {
   "cell_type": "code",
   "execution_count": 1241,
   "id": "5d94cea613489416",
   "metadata": {
    "ExecuteTime": {
     "end_time": "2025-09-17T22:14:47.604197Z",
     "start_time": "2025-09-17T22:14:47.586921Z"
    }
   },
   "outputs": [
    {
     "data": {
      "text/plain": [
       "(14291, 19)"
      ]
     },
     "execution_count": 1241,
     "metadata": {},
     "output_type": "execute_result"
    }
   ],
   "source": [
    "TRAIN = \"data/Datos_SenecaféAlpes.csv\"\n",
    "df_original = pd.read_csv(TRAIN, sep=\";\", encoding=\"utf-8\")\n",
    "df_original.head()\n",
    "df_original.shape"
   ]
  },
  {
   "cell_type": "code",
   "execution_count": 1242,
   "id": "218a6180f1651c58",
   "metadata": {
    "ExecuteTime": {
     "end_time": "2025-09-17T22:14:47.625147Z",
     "start_time": "2025-09-17T22:14:47.623694Z"
    }
   },
   "outputs": [
    {
     "name": "stdout",
     "output_type": "stream",
     "text": [
      "tamaño original: 14291\n",
      "columnas original: 19\n"
     ]
    }
   ],
   "source": [
    "size_og, cols_og = df_original.shape\n",
    "print(f\"tamaño original: {size_og}\\ncolumnas original: {cols_og}\")"
   ]
  },
  {
   "cell_type": "code",
   "execution_count": 1243,
   "id": "2d129ed71601f8f8",
   "metadata": {
    "ExecuteTime": {
     "end_time": "2025-09-17T22:14:47.653442Z",
     "start_time": "2025-09-17T22:14:47.651866Z"
    }
   },
   "outputs": [],
   "source": [
    "cat_cols = df_original.select_dtypes(include=\"object\")\n",
    "num_cols = df_original.select_dtypes(include=\"number\")"
   ]
  },
  {
   "cell_type": "code",
   "execution_count": 1244,
   "id": "29d25691da547d3d",
   "metadata": {
    "ExecuteTime": {
     "end_time": "2025-09-17T22:14:58.454698Z",
     "start_time": "2025-09-17T22:14:58.451897Z"
    }
   },
   "outputs": [
    {
     "name": "stdout",
     "output_type": "stream",
     "text": [
      "<class 'pandas.core.frame.DataFrame'>\n",
      "RangeIndex: 14291 entries, 0 to 14290\n",
      "Data columns (total 4 columns):\n",
      " #   Column           Non-Null Count  Dtype \n",
      "---  ------           --------------  ----- \n",
      " 0   ID               14291 non-null  object\n",
      " 1   RelacionAspecto  13825 non-null  object\n",
      " 2   DefectoVisible   11356 non-null  object\n",
      " 3   MétodoSecado     13704 non-null  object\n",
      "dtypes: object(4)\n",
      "memory usage: 446.7+ KB\n"
     ]
    }
   ],
   "source": [
    "cat_cols.info()"
   ]
  },
  {
   "cell_type": "code",
   "execution_count": 1245,
   "id": "e738758512c3a0ed",
   "metadata": {
    "ExecuteTime": {
     "end_time": "2025-09-17T22:14:47.662891Z",
     "start_time": "2025-09-17T22:14:47.659859Z"
    }
   },
   "outputs": [
    {
     "name": "stdout",
     "output_type": "stream",
     "text": [
      "<class 'pandas.core.frame.DataFrame'>\n",
      "RangeIndex: 14291 entries, 0 to 14290\n",
      "Data columns (total 15 columns):\n",
      " #   Column               Non-Null Count  Dtype  \n",
      "---  ------               --------------  -----  \n",
      " 0   Area                 14291 non-null  int64  \n",
      " 1   Perimetro            13054 non-null  float64\n",
      " 2   LongitudEjeMayor     13890 non-null  float64\n",
      " 3   LongitudEjeMenor     14291 non-null  float64\n",
      " 4   Excentricidad        13687 non-null  float64\n",
      " 5   AreaConvexa          12868 non-null  float64\n",
      " 6   DiametroEquivalente  12368 non-null  float64\n",
      " 7   Medida               14291 non-null  float64\n",
      " 8   Solidez              11985 non-null  float64\n",
      " 9   Redondez             12228 non-null  float64\n",
      " 10  Compacidad           13641 non-null  float64\n",
      " 11  FactorForma1         13172 non-null  float64\n",
      " 12  FactorForma2         13185 non-null  float64\n",
      " 13  FactorForma3         13813 non-null  float64\n",
      " 14  FactorForma4         13132 non-null  float64\n",
      "dtypes: float64(14), int64(1)\n",
      "memory usage: 1.6 MB\n"
     ]
    }
   ],
   "source": [
    "num_cols.info()"
   ]
  },
  {
   "cell_type": "code",
   "execution_count": 1246,
   "id": "f1d9a98b23be07a7",
   "metadata": {
    "ExecuteTime": {
     "end_time": "2025-09-17T22:15:44.413473Z",
     "start_time": "2025-09-17T22:15:44.407536Z"
    }
   },
   "outputs": [
    {
     "name": "stdout",
     "output_type": "stream",
     "text": [
      "<class 'pandas.core.frame.DataFrame'>\n",
      "RangeIndex: 14291 entries, 0 to 14290\n",
      "Data columns (total 19 columns):\n",
      " #   Column               Non-Null Count  Dtype  \n",
      "---  ------               --------------  -----  \n",
      " 0   ID                   14291 non-null  object \n",
      " 1   Area                 14291 non-null  int64  \n",
      " 2   Perimetro            13054 non-null  float64\n",
      " 3   LongitudEjeMayor     13890 non-null  float64\n",
      " 4   LongitudEjeMenor     14291 non-null  float64\n",
      " 5   RelacionAspecto      13825 non-null  object \n",
      " 6   Excentricidad        13687 non-null  float64\n",
      " 7   AreaConvexa          12868 non-null  float64\n",
      " 8   DiametroEquivalente  12368 non-null  float64\n",
      " 9   Medida               14291 non-null  float64\n",
      " 10  Solidez              11985 non-null  float64\n",
      " 11  Redondez             12228 non-null  float64\n",
      " 12  Compacidad           13641 non-null  float64\n",
      " 13  FactorForma1         13172 non-null  float64\n",
      " 14  FactorForma2         13185 non-null  float64\n",
      " 15  FactorForma3         13813 non-null  float64\n",
      " 16  FactorForma4         13132 non-null  float64\n",
      " 17  DefectoVisible       11356 non-null  object \n",
      " 18  MétodoSecado         13704 non-null  object \n",
      "dtypes: float64(14), int64(1), object(4)\n",
      "memory usage: 2.1+ MB\n"
     ]
    }
   ],
   "source": [
    "df_original.info()"
   ]
  },
  {
   "cell_type": "code",
   "execution_count": 1247,
   "id": "fdecaee05b5d6be9",
   "metadata": {
    "ExecuteTime": {
     "end_time": "2025-09-17T22:16:37.996162Z",
     "start_time": "2025-09-17T22:16:37.991612Z"
    }
   },
   "outputs": [
    {
     "data": {
      "text/plain": [
       "ID                        0\n",
       "Area                      0\n",
       "Perimetro              1237\n",
       "LongitudEjeMayor        401\n",
       "LongitudEjeMenor          0\n",
       "RelacionAspecto         466\n",
       "Excentricidad           604\n",
       "AreaConvexa            1423\n",
       "DiametroEquivalente    1923\n",
       "Medida                    0\n",
       "Solidez                2306\n",
       "Redondez               2063\n",
       "Compacidad              650\n",
       "FactorForma1           1119\n",
       "FactorForma2           1106\n",
       "FactorForma3            478\n",
       "FactorForma4           1159\n",
       "DefectoVisible         2935\n",
       "MétodoSecado            587\n",
       "dtype: int64"
      ]
     },
     "execution_count": 1247,
     "metadata": {},
     "output_type": "execute_result"
    }
   ],
   "source": [
    "df_original.isnull().sum()"
   ]
  },
  {
   "cell_type": "code",
   "execution_count": 1248,
   "id": "e8a3ef1f9eb934a8",
   "metadata": {
    "ExecuteTime": {
     "end_time": "2025-09-17T22:14:47.751326Z",
     "start_time": "2025-09-17T22:14:47.745478Z"
    }
   },
   "outputs": [
    {
     "name": "stdout",
     "output_type": "stream",
     "text": [
      "duplicados totales: 461\n"
     ]
    }
   ],
   "source": [
    "dupes = df_original.duplicated().sum()\n",
    "print(f\"duplicados totales: {dupes}\")"
   ]
  },
  {
   "cell_type": "code",
   "execution_count": 1249,
   "id": "a73d9ca6",
   "metadata": {},
   "outputs": [
    {
     "data": {
      "text/plain": [
       "(14291, 19)"
      ]
     },
     "execution_count": 1249,
     "metadata": {},
     "output_type": "execute_result"
    }
   ],
   "source": [
    "df_original.shape"
   ]
  },
  {
   "cell_type": "markdown",
   "id": "c1b45d00",
   "metadata": {},
   "source": [
    "## Validez"
   ]
  },
  {
   "cell_type": "code",
   "execution_count": 1250,
   "id": "9e3138c0",
   "metadata": {},
   "outputs": [
    {
     "data": {
      "text/plain": [
       "count     14291.000000\n",
       "mean      53055.408999\n",
       "std       29396.080372\n",
       "min      -62716.000000\n",
       "25%       36338.000000\n",
       "50%       44660.000000\n",
       "75%       61311.000000\n",
       "max      254616.000000\n",
       "Name: Area, dtype: float64"
      ]
     },
     "execution_count": 1250,
     "metadata": {},
     "output_type": "execute_result"
    }
   ],
   "source": [
    "df_original[\"Area\"].describe()\n"
   ]
  },
  {
   "cell_type": "code",
   "execution_count": 1251,
   "id": "de0829c7",
   "metadata": {},
   "outputs": [
    {
     "data": {
      "text/html": [
       "<div>\n",
       "<style scoped>\n",
       "    .dataframe tbody tr th:only-of-type {\n",
       "        vertical-align: middle;\n",
       "    }\n",
       "\n",
       "    .dataframe tbody tr th {\n",
       "        vertical-align: top;\n",
       "    }\n",
       "\n",
       "    .dataframe thead th {\n",
       "        text-align: right;\n",
       "    }\n",
       "</style>\n",
       "<table border=\"1\" class=\"dataframe\">\n",
       "  <thead>\n",
       "    <tr style=\"text-align: right;\">\n",
       "      <th></th>\n",
       "      <th>ID</th>\n",
       "      <th>Area</th>\n",
       "      <th>Perimetro</th>\n",
       "      <th>LongitudEjeMayor</th>\n",
       "      <th>LongitudEjeMenor</th>\n",
       "      <th>RelacionAspecto</th>\n",
       "      <th>Excentricidad</th>\n",
       "      <th>AreaConvexa</th>\n",
       "      <th>DiametroEquivalente</th>\n",
       "      <th>Medida</th>\n",
       "      <th>Solidez</th>\n",
       "      <th>Redondez</th>\n",
       "      <th>Compacidad</th>\n",
       "      <th>FactorForma1</th>\n",
       "      <th>FactorForma2</th>\n",
       "      <th>FactorForma3</th>\n",
       "      <th>FactorForma4</th>\n",
       "      <th>DefectoVisible</th>\n",
       "      <th>MétodoSecado</th>\n",
       "    </tr>\n",
       "  </thead>\n",
       "  <tbody>\n",
       "    <tr>\n",
       "      <th>8414</th>\n",
       "      <td>G013208</td>\n",
       "      <td>-38311</td>\n",
       "      <td>725439.0</td>\n",
       "      <td>269.473124</td>\n",
       "      <td>181.814841</td>\n",
       "      <td>Alargado</td>\n",
       "      <td>0.738088</td>\n",
       "      <td>38713.0</td>\n",
       "      <td>220.859866</td>\n",
       "      <td>0.730276</td>\n",
       "      <td>0.989616</td>\n",
       "      <td>0.914811</td>\n",
       "      <td>0.819599</td>\n",
       "      <td>0.007034</td>\n",
       "      <td>NaN</td>\n",
       "      <td>0.671742</td>\n",
       "      <td>0.995609</td>\n",
       "      <td>normal</td>\n",
       "      <td>natural</td>\n",
       "    </tr>\n",
       "    <tr>\n",
       "      <th>11390</th>\n",
       "      <td>G003984</td>\n",
       "      <td>-62716</td>\n",
       "      <td>NaN</td>\n",
       "      <td>356.992788</td>\n",
       "      <td>224.568972</td>\n",
       "      <td>Alargado</td>\n",
       "      <td>0.777359</td>\n",
       "      <td>63313.0</td>\n",
       "      <td>282.581831</td>\n",
       "      <td>0.775037</td>\n",
       "      <td>0.990571</td>\n",
       "      <td>NaN</td>\n",
       "      <td>0.791562</td>\n",
       "      <td>NaN</td>\n",
       "      <td>0.001378</td>\n",
       "      <td>0.626570</td>\n",
       "      <td>0.996046</td>\n",
       "      <td>Normal</td>\n",
       "      <td>Lavado</td>\n",
       "    </tr>\n",
       "    <tr>\n",
       "      <th>12012</th>\n",
       "      <td>G012844</td>\n",
       "      <td>-36171</td>\n",
       "      <td>702747.0</td>\n",
       "      <td>258.201574</td>\n",
       "      <td>179.027257</td>\n",
       "      <td>Alargado</td>\n",
       "      <td>0.720589</td>\n",
       "      <td>36626.0</td>\n",
       "      <td>214.602767</td>\n",
       "      <td>0.709792</td>\n",
       "      <td>0.987577</td>\n",
       "      <td>0.920391</td>\n",
       "      <td>0.831144</td>\n",
       "      <td>0.007138</td>\n",
       "      <td>0.002101</td>\n",
       "      <td>0.690801</td>\n",
       "      <td>0.996306</td>\n",
       "      <td>Normal</td>\n",
       "      <td>Natural</td>\n",
       "    </tr>\n",
       "  </tbody>\n",
       "</table>\n",
       "</div>"
      ],
      "text/plain": [
       "            ID   Area  Perimetro  LongitudEjeMayor  LongitudEjeMenor  \\\n",
       "8414   G013208 -38311   725439.0        269.473124        181.814841   \n",
       "11390  G003984 -62716        NaN        356.992788        224.568972   \n",
       "12012  G012844 -36171   702747.0        258.201574        179.027257   \n",
       "\n",
       "      RelacionAspecto  Excentricidad  AreaConvexa  DiametroEquivalente  \\\n",
       "8414         Alargado       0.738088      38713.0           220.859866   \n",
       "11390        Alargado       0.777359      63313.0           282.581831   \n",
       "12012        Alargado       0.720589      36626.0           214.602767   \n",
       "\n",
       "         Medida   Solidez  Redondez  Compacidad  FactorForma1  FactorForma2  \\\n",
       "8414   0.730276  0.989616  0.914811    0.819599      0.007034           NaN   \n",
       "11390  0.775037  0.990571       NaN    0.791562           NaN      0.001378   \n",
       "12012  0.709792  0.987577  0.920391    0.831144      0.007138      0.002101   \n",
       "\n",
       "       FactorForma3  FactorForma4 DefectoVisible MétodoSecado  \n",
       "8414       0.671742      0.995609         normal      natural  \n",
       "11390      0.626570      0.996046         Normal       Lavado  \n",
       "12012      0.690801      0.996306         Normal      Natural  "
      ]
     },
     "execution_count": 1251,
     "metadata": {},
     "output_type": "execute_result"
    }
   ],
   "source": [
    "# Mostrar filas donde 'Area' es menor a 0\n",
    "df_original[df_original[\"Area\"] < 0]"
   ]
  },
  {
   "cell_type": "code",
   "execution_count": 1252,
   "id": "570f7aec",
   "metadata": {},
   "outputs": [
    {
     "data": {
      "text/html": [
       "<div>\n",
       "<style scoped>\n",
       "    .dataframe tbody tr th:only-of-type {\n",
       "        vertical-align: middle;\n",
       "    }\n",
       "\n",
       "    .dataframe tbody tr th {\n",
       "        vertical-align: top;\n",
       "    }\n",
       "\n",
       "    .dataframe thead th {\n",
       "        text-align: right;\n",
       "    }\n",
       "</style>\n",
       "<table border=\"1\" class=\"dataframe\">\n",
       "  <thead>\n",
       "    <tr style=\"text-align: right;\">\n",
       "      <th></th>\n",
       "      <th>ID</th>\n",
       "      <th>Area</th>\n",
       "      <th>Perimetro</th>\n",
       "      <th>LongitudEjeMayor</th>\n",
       "      <th>LongitudEjeMenor</th>\n",
       "      <th>RelacionAspecto</th>\n",
       "      <th>Excentricidad</th>\n",
       "      <th>AreaConvexa</th>\n",
       "      <th>DiametroEquivalente</th>\n",
       "      <th>Medida</th>\n",
       "      <th>Solidez</th>\n",
       "      <th>Redondez</th>\n",
       "      <th>Compacidad</th>\n",
       "      <th>FactorForma1</th>\n",
       "      <th>FactorForma2</th>\n",
       "      <th>FactorForma3</th>\n",
       "      <th>FactorForma4</th>\n",
       "      <th>DefectoVisible</th>\n",
       "      <th>MétodoSecado</th>\n",
       "    </tr>\n",
       "  </thead>\n",
       "  <tbody>\n",
       "  </tbody>\n",
       "</table>\n",
       "</div>"
      ],
      "text/plain": [
       "Empty DataFrame\n",
       "Columns: [ID, Area, Perimetro, LongitudEjeMayor, LongitudEjeMenor, RelacionAspecto, Excentricidad, AreaConvexa, DiametroEquivalente, Medida, Solidez, Redondez, Compacidad, FactorForma1, FactorForma2, FactorForma3, FactorForma4, DefectoVisible, MétodoSecado]\n",
       "Index: []"
      ]
     },
     "execution_count": 1252,
     "metadata": {},
     "output_type": "execute_result"
    }
   ],
   "source": [
    "# Eliminar filas donde 'Area' es menor a 0\n",
    "df_original = df_original[df_original[\"Area\"] >= 0]\n",
    "df_original[df_original[\"Area\"] < 0]"
   ]
  },
  {
   "cell_type": "code",
   "execution_count": 1253,
   "id": "ce9111a6",
   "metadata": {},
   "outputs": [
    {
     "data": {
      "text/plain": [
       "count     12865.000000\n",
       "mean      53577.113642\n",
       "std       29569.042519\n",
       "min      -78423.000000\n",
       "25%       36721.000000\n",
       "50%       45108.000000\n",
       "75%       62108.000000\n",
       "max      251082.000000\n",
       "Name: AreaConvexa, dtype: float64"
      ]
     },
     "execution_count": 1253,
     "metadata": {},
     "output_type": "execute_result"
    }
   ],
   "source": [
    "df_original[\"AreaConvexa\"].describe()"
   ]
  },
  {
   "cell_type": "code",
   "execution_count": 1254,
   "id": "9980ca85",
   "metadata": {},
   "outputs": [
    {
     "data": {
      "text/plain": [
       "count     12859.000000\n",
       "mean      53629.479664\n",
       "std       29473.783616\n",
       "min       20684.000000\n",
       "25%       36735.500000\n",
       "50%       45116.000000\n",
       "75%       62117.000000\n",
       "max      251082.000000\n",
       "Name: AreaConvexa, dtype: float64"
      ]
     },
     "execution_count": 1254,
     "metadata": {},
     "output_type": "execute_result"
    }
   ],
   "source": [
    "# Eliminar filas donde  es menor a 0\n",
    "df_original = df_original[df_original[\"AreaConvexa\"] >= 0]\n",
    "df_original[\"AreaConvexa\"].describe()"
   ]
  },
  {
   "cell_type": "code",
   "execution_count": 1255,
   "id": "a999117a",
   "metadata": {},
   "outputs": [
    {
     "data": {
      "text/plain": [
       "count    12279.000000\n",
       "mean         0.799420\n",
       "std          0.066648\n",
       "min         -0.843901\n",
       "25%          0.762492\n",
       "50%          0.801014\n",
       "75%          0.834503\n",
       "max          0.987303\n",
       "Name: Compacidad, dtype: float64"
      ]
     },
     "execution_count": 1255,
     "metadata": {},
     "output_type": "execute_result"
    }
   ],
   "source": [
    "df_original[\"Compacidad\"].describe()"
   ]
  },
  {
   "cell_type": "code",
   "execution_count": 1256,
   "id": "696d6d70",
   "metadata": {},
   "outputs": [
    {
     "data": {
      "text/plain": [
       "count    12276.000000\n",
       "mean         0.799807\n",
       "std          0.061866\n",
       "min          0.645368\n",
       "25%          0.762540\n",
       "50%          0.801025\n",
       "75%          0.834527\n",
       "max          0.987303\n",
       "Name: Compacidad, dtype: float64"
      ]
     },
     "execution_count": 1256,
     "metadata": {},
     "output_type": "execute_result"
    }
   ],
   "source": [
    "# Eliminar filas donde es menor a 0\n",
    "df_original = df_original[df_original[\"Compacidad\"] >= 0]\n",
    "df_original[\"Compacidad\"].describe()"
   ]
  },
  {
   "cell_type": "code",
   "execution_count": 1257,
   "id": "dda7fdff",
   "metadata": {},
   "outputs": [
    {
     "data": {
      "text/plain": [
       "count    10625.000000\n",
       "mean       252.284386\n",
       "std         59.745985\n",
       "min       -448.402605\n",
       "25%        215.201166\n",
       "50%        238.176226\n",
       "75%        278.673105\n",
       "max        562.408446\n",
       "Name: DiametroEquivalente, dtype: float64"
      ]
     },
     "execution_count": 1257,
     "metadata": {},
     "output_type": "execute_result"
    }
   ],
   "source": [
    "df_original[\"DiametroEquivalente\"].describe()"
   ]
  },
  {
   "cell_type": "code",
   "execution_count": 1258,
   "id": "60f3ed52",
   "metadata": {},
   "outputs": [
    {
     "data": {
      "text/plain": [
       "count    10618.000000\n",
       "mean       252.629197\n",
       "std         58.198634\n",
       "min        161.243764\n",
       "25%        215.249232\n",
       "50%        238.200281\n",
       "75%        278.718791\n",
       "max        562.408446\n",
       "Name: DiametroEquivalente, dtype: float64"
      ]
     },
     "execution_count": 1258,
     "metadata": {},
     "output_type": "execute_result"
    }
   ],
   "source": [
    "df_original = df_original[df_original[\"DiametroEquivalente\"] >= 0]\n",
    "df_original[\"DiametroEquivalente\"].describe()"
   ]
  },
  {
   "cell_type": "code",
   "execution_count": 1259,
   "id": "f03718e1",
   "metadata": {},
   "outputs": [
    {
     "data": {
      "text/plain": [
       "count    10160.000000\n",
       "mean         0.749376\n",
       "std          0.101819\n",
       "min         -0.835004\n",
       "25%          0.714031\n",
       "50%          0.764198\n",
       "75%          0.810564\n",
       "max          0.908167\n",
       "Name: Excentricidad, dtype: float64"
      ]
     },
     "execution_count": 1259,
     "metadata": {},
     "output_type": "execute_result"
    }
   ],
   "source": [
    "df_original[\"Excentricidad\"].describe()"
   ]
  },
  {
   "cell_type": "code",
   "execution_count": 1260,
   "id": "883d7939",
   "metadata": {},
   "outputs": [
    {
     "data": {
      "text/plain": [
       "count    10152.000000\n",
       "mean         0.750572\n",
       "std          0.092501\n",
       "min          0.218951\n",
       "25%          0.714163\n",
       "50%          0.764318\n",
       "75%          0.810587\n",
       "max          0.908167\n",
       "Name: Excentricidad, dtype: float64"
      ]
     },
     "execution_count": 1260,
     "metadata": {},
     "output_type": "execute_result"
    }
   ],
   "source": [
    "df_original = df_original[df_original[\"Excentricidad\"] >= 0]\n",
    "df_original[\"Excentricidad\"].describe()"
   ]
  },
  {
   "cell_type": "code",
   "execution_count": 1261,
   "id": "3af91d62",
   "metadata": {},
   "outputs": [
    {
     "data": {
      "text/plain": [
       "count    9353.000000\n",
       "mean        0.006564\n",
       "std         0.001164\n",
       "min        -0.007982\n",
       "25%         0.005921\n",
       "50%         0.006643\n",
       "75%         0.007268\n",
       "max         0.010451\n",
       "Name: FactorForma1, dtype: float64"
      ]
     },
     "execution_count": 1261,
     "metadata": {},
     "output_type": "execute_result"
    }
   ],
   "source": [
    "df_original[\"FactorForma1\"].describe()"
   ]
  },
  {
   "cell_type": "code",
   "execution_count": 1262,
   "id": "95482dbf",
   "metadata": {},
   "outputs": [
    {
     "data": {
      "text/plain": [
       "count    9347.000000\n",
       "mean        0.006573\n",
       "std         0.001114\n",
       "min         0.002778\n",
       "25%         0.005924\n",
       "50%         0.006644\n",
       "75%         0.007268\n",
       "max         0.010451\n",
       "Name: FactorForma1, dtype: float64"
      ]
     },
     "execution_count": 1262,
     "metadata": {},
     "output_type": "execute_result"
    }
   ],
   "source": [
    "df_original = df_original[df_original[\"FactorForma1\"] >= 0]\n",
    "df_original[\"FactorForma1\"].describe()"
   ]
  },
  {
   "cell_type": "code",
   "execution_count": 1263,
   "id": "476959ff",
   "metadata": {},
   "outputs": [
    {
     "data": {
      "text/plain": [
       "count    8626.000000\n",
       "mean        0.001718\n",
       "std         0.000596\n",
       "min         0.000564\n",
       "25%         0.001152\n",
       "50%         0.001700\n",
       "75%         0.002179\n",
       "max         0.003665\n",
       "Name: FactorForma2, dtype: float64"
      ]
     },
     "execution_count": 1263,
     "metadata": {},
     "output_type": "execute_result"
    }
   ],
   "source": [
    "df_original = df_original[df_original[\"FactorForma2\"] >= 0]\n",
    "df_original[\"FactorForma2\"].describe()"
   ]
  },
  {
   "cell_type": "code",
   "execution_count": 1264,
   "id": "4e9c8273",
   "metadata": {},
   "outputs": [
    {
     "data": {
      "text/plain": [
       "count    8353.000000\n",
       "mean        0.643549\n",
       "std         0.100035\n",
       "min        -0.518002\n",
       "25%         0.581564\n",
       "50%         0.642424\n",
       "75%         0.697091\n",
       "max         0.974767\n",
       "Name: FactorForma3, dtype: float64"
      ]
     },
     "execution_count": 1264,
     "metadata": {},
     "output_type": "execute_result"
    }
   ],
   "source": [
    "df_original[\"FactorForma3\"].describe()"
   ]
  },
  {
   "cell_type": "code",
   "execution_count": 1265,
   "id": "56b6d97f",
   "metadata": {},
   "outputs": [
    {
     "data": {
      "text/plain": [
       "count    7934.000000\n",
       "mean        0.995080\n",
       "std         0.004386\n",
       "min         0.947687\n",
       "25%         0.993667\n",
       "50%         0.996397\n",
       "75%         0.997911\n",
       "max         0.999709\n",
       "Name: FactorForma4, dtype: float64"
      ]
     },
     "execution_count": 1265,
     "metadata": {},
     "output_type": "execute_result"
    }
   ],
   "source": [
    "df_original = df_original[df_original[\"FactorForma4\"] >= 0]\n",
    "df_original[\"FactorForma4\"].describe()"
   ]
  },
  {
   "cell_type": "code",
   "execution_count": 1266,
   "id": "9a3e6f29",
   "metadata": {},
   "outputs": [
    {
     "data": {
      "text/plain": [
       "count    7705.000000\n",
       "mean      319.205420\n",
       "std        84.729456\n",
       "min      -243.375248\n",
       "25%       252.514852\n",
       "50%       296.398632\n",
       "75%       376.497678\n",
       "max       722.494068\n",
       "Name: LongitudEjeMayor, dtype: float64"
      ]
     },
     "execution_count": 1266,
     "metadata": {},
     "output_type": "execute_result"
    }
   ],
   "source": [
    "df_original[\"LongitudEjeMayor\"].describe()"
   ]
  },
  {
   "cell_type": "code",
   "execution_count": 1267,
   "id": "d530bdb6",
   "metadata": {},
   "outputs": [
    {
     "data": {
      "text/plain": [
       "count    7934.000000\n",
       "mean      201.663915\n",
       "std        43.961566\n",
       "min      -189.842876\n",
       "25%       176.103820\n",
       "50%       192.478281\n",
       "75%       216.170320\n",
       "max       446.043618\n",
       "Name: LongitudEjeMenor, dtype: float64"
      ]
     },
     "execution_count": 1267,
     "metadata": {},
     "output_type": "execute_result"
    }
   ],
   "source": [
    "df_original[\"LongitudEjeMenor\"].describe()"
   ]
  },
  {
   "cell_type": "code",
   "execution_count": 1268,
   "id": "1fa001cd",
   "metadata": {},
   "outputs": [
    {
     "data": {
      "text/plain": [
       "count    7933.000000\n",
       "mean      201.713267\n",
       "std        43.743989\n",
       "min       122.512653\n",
       "25%       176.109083\n",
       "50%       192.479822\n",
       "75%       216.170438\n",
       "max       446.043618\n",
       "Name: LongitudEjeMenor, dtype: float64"
      ]
     },
     "execution_count": 1268,
     "metadata": {},
     "output_type": "execute_result"
    }
   ],
   "source": [
    "df_original = df_original[df_original[\"LongitudEjeMenor\"] > 0]\n",
    "df_original[\"LongitudEjeMenor\"].describe()"
   ]
  },
  {
   "cell_type": "code",
   "execution_count": 1269,
   "id": "888705ec",
   "metadata": {},
   "outputs": [
    {
     "data": {
      "text/plain": [
       "count    7933.000000\n",
       "mean        0.750016\n",
       "std         0.051552\n",
       "min        -0.798706\n",
       "25%         0.719393\n",
       "50%         0.760142\n",
       "75%         0.786951\n",
       "max         0.866195\n",
       "Name: Medida, dtype: float64"
      ]
     },
     "execution_count": 1269,
     "metadata": {},
     "output_type": "execute_result"
    }
   ],
   "source": [
    "df_original[\"Medida\"].describe()"
   ]
  },
  {
   "cell_type": "code",
   "execution_count": 1270,
   "id": "7f1f05aa",
   "metadata": {},
   "outputs": [
    {
     "data": {
      "text/plain": [
       "count    7932.000000\n",
       "mean        0.750211\n",
       "std         0.048533\n",
       "min         0.555315\n",
       "25%         0.719406\n",
       "50%         0.760148\n",
       "75%         0.786952\n",
       "max         0.866195\n",
       "Name: Medida, dtype: float64"
      ]
     },
     "execution_count": 1270,
     "metadata": {},
     "output_type": "execute_result"
    }
   ],
   "source": [
    "df_original = df_original[df_original[\"Medida\"] >= 0]\n",
    "df_original[\"Medida\"].describe()"
   ]
  },
  {
   "cell_type": "code",
   "execution_count": 1271,
   "id": "9cc12589",
   "metadata": {},
   "outputs": [
    {
     "data": {
      "text/plain": [
       "count    7.265000e+03\n",
       "mean     7.696650e+05\n",
       "std      3.227511e+05\n",
       "min     -1.012143e+06\n",
       "25%      6.753850e+05\n",
       "50%      7.690730e+05\n",
       "75%      9.536640e+05\n",
       "max      1.884557e+06\n",
       "Name: Perimetro, dtype: float64"
      ]
     },
     "execution_count": 1271,
     "metadata": {},
     "output_type": "execute_result"
    }
   ],
   "source": [
    "df_original[\"Perimetro\"].describe()"
   ]
  },
  {
   "cell_type": "code",
   "execution_count": 1272,
   "id": "2a3eb5ac",
   "metadata": {},
   "outputs": [
    {
     "data": {
      "text/plain": [
       "count    7.263000e+03\n",
       "mean     7.701424e+05\n",
       "std      3.215096e+05\n",
       "min      5.536000e+02\n",
       "25%      6.754885e+05\n",
       "50%      7.691040e+05\n",
       "75%      9.536640e+05\n",
       "max      1.884557e+06\n",
       "Name: Perimetro, dtype: float64"
      ]
     },
     "execution_count": 1272,
     "metadata": {},
     "output_type": "execute_result"
    }
   ],
   "source": [
    "df_original = df_original[df_original[\"Perimetro\"] > 0]\n",
    "df_original[\"Perimetro\"].describe()"
   ]
  },
  {
   "cell_type": "code",
   "execution_count": 1273,
   "id": "3970e9e7",
   "metadata": {},
   "outputs": [
    {
     "data": {
      "text/plain": [
       "count    6193.000000\n",
       "mean        0.873248\n",
       "std         0.063498\n",
       "min        -0.896861\n",
       "25%         0.833070\n",
       "50%         0.883975\n",
       "75%         0.917076\n",
       "max         0.986103\n",
       "Name: Redondez, dtype: float64"
      ]
     },
     "execution_count": 1273,
     "metadata": {},
     "output_type": "execute_result"
    }
   ],
   "source": [
    "df_original[\"Redondez\"].describe()"
   ]
  },
  {
   "cell_type": "code",
   "execution_count": 1274,
   "id": "51d1af69",
   "metadata": {},
   "outputs": [
    {
     "data": {
      "text/plain": [
       "count    6192.000000\n",
       "mean        0.873534\n",
       "std         0.059384\n",
       "min         0.489618\n",
       "25%         0.833102\n",
       "50%         0.883975\n",
       "75%         0.917078\n",
       "max         0.986103\n",
       "Name: Redondez, dtype: float64"
      ]
     },
     "execution_count": 1274,
     "metadata": {},
     "output_type": "execute_result"
    }
   ],
   "source": [
    "df_original = df_original[df_original[\"Redondez\"] >= 0]\n",
    "df_original[\"Redondez\"].describe()"
   ]
  },
  {
   "cell_type": "code",
   "execution_count": 1275,
   "id": "56519096",
   "metadata": {},
   "outputs": [
    {
     "data": {
      "text/plain": [
       "count         6005\n",
       "unique           4\n",
       "top       Alargado\n",
       "freq          5232\n",
       "Name: RelacionAspecto, dtype: object"
      ]
     },
     "execution_count": 1275,
     "metadata": {},
     "output_type": "execute_result"
    }
   ],
   "source": [
    "df_original[\"RelacionAspecto\"].describe()"
   ]
  },
  {
   "cell_type": "code",
   "execution_count": 1276,
   "id": "f36cb186",
   "metadata": {},
   "outputs": [
    {
     "name": "stdout",
     "output_type": "stream",
     "text": [
      "count         6005\n",
      "unique           4\n",
      "top       Alargado\n",
      "freq          5232\n",
      "Name: RelacionAspecto, dtype: object\n"
     ]
    },
    {
     "data": {
      "text/plain": [
       "array(['Alargado', 'Redondeado', 'alargado', nan, 'redondeado'],\n",
       "      dtype=object)"
      ]
     },
     "execution_count": 1276,
     "metadata": {},
     "output_type": "execute_result"
    }
   ],
   "source": [
    "print(df_original[\"RelacionAspecto\"].describe())\n",
    "df_original[\"RelacionAspecto\"].unique()\n"
   ]
  },
  {
   "cell_type": "code",
   "execution_count": 1277,
   "id": "79082e42",
   "metadata": {},
   "outputs": [
    {
     "data": {
      "text/plain": [
       "count    5192.000000\n",
       "mean        0.987123\n",
       "std         0.004624\n",
       "min         0.943559\n",
       "25%         0.985719\n",
       "50%         0.988263\n",
       "75%         0.989999\n",
       "max         0.994082\n",
       "Name: Solidez, dtype: float64"
      ]
     },
     "execution_count": 1277,
     "metadata": {},
     "output_type": "execute_result"
    }
   ],
   "source": [
    "df_original[\"Solidez\"].describe()"
   ]
  },
  {
   "cell_type": "code",
   "execution_count": 1278,
   "id": "9bbc9bba",
   "metadata": {},
   "outputs": [
    {
     "data": {
      "text/plain": [
       "count    5192.000000\n",
       "mean        0.987123\n",
       "std         0.004624\n",
       "min         0.943559\n",
       "25%         0.985719\n",
       "50%         0.988263\n",
       "75%         0.989999\n",
       "max         0.994082\n",
       "Name: Solidez, dtype: float64"
      ]
     },
     "execution_count": 1278,
     "metadata": {},
     "output_type": "execute_result"
    }
   ],
   "source": [
    "df_original = df_original[df_original[\"Solidez\"] >= 0]\n",
    "df_original[\"Solidez\"].describe()"
   ]
  },
  {
   "cell_type": "code",
   "execution_count": 1279,
   "id": "c159ef73",
   "metadata": {},
   "outputs": [
    {
     "name": "stdout",
     "output_type": "stream",
     "text": [
      "DefectoVisible unique categories and description:\n",
      "['Normal' nan 'normal']\n",
      "count       4116\n",
      "unique         2\n",
      "top       Normal\n",
      "freq        3261\n",
      "Name: DefectoVisible, dtype: object\n",
      "\n",
      "MétodoSecado unique categories and description:\n",
      "['Natural' 'Lavado' 'lavado' nan 'natural' 'Honey' 'honey']\n",
      "count       4981\n",
      "unique         6\n",
      "top       Lavado\n",
      "freq        2255\n",
      "Name: MétodoSecado, dtype: object\n"
     ]
    }
   ],
   "source": [
    "print(\"DefectoVisible unique categories and description:\")\n",
    "print(df_original[\"DefectoVisible\"].unique())\n",
    "print(df_original[\"DefectoVisible\"].describe())\n",
    "\n",
    "print(\"\\nMétodoSecado unique categories and description:\")\n",
    "print(df_original[\"MétodoSecado\"].unique())\n",
    "print(df_original[\"MétodoSecado\"].describe())"
   ]
  },
  {
   "cell_type": "code",
   "execution_count": 1280,
   "id": "a69638c5",
   "metadata": {},
   "outputs": [
    {
     "data": {
      "text/plain": [
       "(5192, 19)"
      ]
     },
     "execution_count": 1280,
     "metadata": {},
     "output_type": "execute_result"
    }
   ],
   "source": [
    "df_original.shape\n"
   ]
  },
  {
   "cell_type": "code",
   "execution_count": 1281,
   "id": "4145db35",
   "metadata": {},
   "outputs": [
    {
     "data": {
      "text/html": [
       "<div>\n",
       "<style scoped>\n",
       "    .dataframe tbody tr th:only-of-type {\n",
       "        vertical-align: middle;\n",
       "    }\n",
       "\n",
       "    .dataframe tbody tr th {\n",
       "        vertical-align: top;\n",
       "    }\n",
       "\n",
       "    .dataframe thead th {\n",
       "        text-align: right;\n",
       "    }\n",
       "</style>\n",
       "<table border=\"1\" class=\"dataframe\">\n",
       "  <thead>\n",
       "    <tr style=\"text-align: right;\">\n",
       "      <th></th>\n",
       "      <th>Area</th>\n",
       "      <th>Perimetro</th>\n",
       "      <th>LongitudEjeMayor</th>\n",
       "      <th>LongitudEjeMenor</th>\n",
       "      <th>Excentricidad</th>\n",
       "      <th>AreaConvexa</th>\n",
       "      <th>DiametroEquivalente</th>\n",
       "      <th>Medida</th>\n",
       "      <th>Solidez</th>\n",
       "      <th>Redondez</th>\n",
       "      <th>Compacidad</th>\n",
       "      <th>FactorForma1</th>\n",
       "      <th>FactorForma2</th>\n",
       "      <th>FactorForma3</th>\n",
       "      <th>FactorForma4</th>\n",
       "    </tr>\n",
       "  </thead>\n",
       "  <tbody>\n",
       "    <tr>\n",
       "      <th>count</th>\n",
       "      <td>5192.000000</td>\n",
       "      <td>5.192000e+03</td>\n",
       "      <td>5036.000000</td>\n",
       "      <td>5192.000000</td>\n",
       "      <td>5192.000000</td>\n",
       "      <td>5192.000000</td>\n",
       "      <td>5192.000000</td>\n",
       "      <td>5192.000000</td>\n",
       "      <td>5192.000000</td>\n",
       "      <td>5192.000000</td>\n",
       "      <td>5192.000000</td>\n",
       "      <td>5192.000000</td>\n",
       "      <td>5192.000000</td>\n",
       "      <td>5023.000000</td>\n",
       "      <td>5192.000000</td>\n",
       "    </tr>\n",
       "    <tr>\n",
       "      <th>mean</th>\n",
       "      <td>52969.932781</td>\n",
       "      <td>7.706434e+05</td>\n",
       "      <td>319.528371</td>\n",
       "      <td>202.182764</td>\n",
       "      <td>0.750826</td>\n",
       "      <td>53691.784861</td>\n",
       "      <td>252.938039</td>\n",
       "      <td>0.750749</td>\n",
       "      <td>0.987123</td>\n",
       "      <td>0.872957</td>\n",
       "      <td>0.799986</td>\n",
       "      <td>0.006564</td>\n",
       "      <td>0.001717</td>\n",
       "      <td>0.643620</td>\n",
       "      <td>0.995083</td>\n",
       "    </tr>\n",
       "    <tr>\n",
       "      <th>std</th>\n",
       "      <td>29112.484651</td>\n",
       "      <td>3.244680e+05</td>\n",
       "      <td>85.760692</td>\n",
       "      <td>44.606278</td>\n",
       "      <td>0.091809</td>\n",
       "      <td>29572.285652</td>\n",
       "      <td>58.876390</td>\n",
       "      <td>0.048249</td>\n",
       "      <td>0.004624</td>\n",
       "      <td>0.059935</td>\n",
       "      <td>0.061507</td>\n",
       "      <td>0.001124</td>\n",
       "      <td>0.000596</td>\n",
       "      <td>0.099930</td>\n",
       "      <td>0.004339</td>\n",
       "    </tr>\n",
       "    <tr>\n",
       "      <th>min</th>\n",
       "      <td>20420.000000</td>\n",
       "      <td>5.536000e+02</td>\n",
       "      <td>-243.375248</td>\n",
       "      <td>122.512653</td>\n",
       "      <td>0.218951</td>\n",
       "      <td>20684.000000</td>\n",
       "      <td>161.243764</td>\n",
       "      <td>0.555315</td>\n",
       "      <td>0.943559</td>\n",
       "      <td>0.489618</td>\n",
       "      <td>0.645368</td>\n",
       "      <td>0.002878</td>\n",
       "      <td>0.000568</td>\n",
       "      <td>-0.518002</td>\n",
       "      <td>0.951239</td>\n",
       "    </tr>\n",
       "    <tr>\n",
       "      <th>25%</th>\n",
       "      <td>36230.000000</td>\n",
       "      <td>6.758910e+05</td>\n",
       "      <td>252.947053</td>\n",
       "      <td>176.272855</td>\n",
       "      <td>0.716145</td>\n",
       "      <td>36621.000000</td>\n",
       "      <td>214.777719</td>\n",
       "      <td>0.720507</td>\n",
       "      <td>0.985719</td>\n",
       "      <td>0.832406</td>\n",
       "      <td>0.763316</td>\n",
       "      <td>0.005894</td>\n",
       "      <td>0.001157</td>\n",
       "      <td>0.583124</td>\n",
       "      <td>0.993649</td>\n",
       "    </tr>\n",
       "    <tr>\n",
       "      <th>50%</th>\n",
       "      <td>44580.500000</td>\n",
       "      <td>7.696815e+05</td>\n",
       "      <td>296.078404</td>\n",
       "      <td>192.287286</td>\n",
       "      <td>0.763916</td>\n",
       "      <td>45113.000000</td>\n",
       "      <td>238.247047</td>\n",
       "      <td>0.760933</td>\n",
       "      <td>0.988263</td>\n",
       "      <td>0.883361</td>\n",
       "      <td>0.801575</td>\n",
       "      <td>0.006647</td>\n",
       "      <td>0.001696</td>\n",
       "      <td>0.642597</td>\n",
       "      <td>0.996387</td>\n",
       "    </tr>\n",
       "    <tr>\n",
       "      <th>75%</th>\n",
       "      <td>61366.000000</td>\n",
       "      <td>9.574998e+05</td>\n",
       "      <td>376.480183</td>\n",
       "      <td>217.185099</td>\n",
       "      <td>0.809752</td>\n",
       "      <td>62385.000000</td>\n",
       "      <td>279.523901</td>\n",
       "      <td>0.787326</td>\n",
       "      <td>0.989999</td>\n",
       "      <td>0.916820</td>\n",
       "      <td>0.834237</td>\n",
       "      <td>0.007259</td>\n",
       "      <td>0.002182</td>\n",
       "      <td>0.696095</td>\n",
       "      <td>0.997894</td>\n",
       "    </tr>\n",
       "    <tr>\n",
       "      <th>max</th>\n",
       "      <td>248424.000000</td>\n",
       "      <td>1.884557e+06</td>\n",
       "      <td>721.216098</td>\n",
       "      <td>446.043618</td>\n",
       "      <td>0.908167</td>\n",
       "      <td>251082.000000</td>\n",
       "      <td>562.408446</td>\n",
       "      <td>0.866195</td>\n",
       "      <td>0.994082</td>\n",
       "      <td>0.986103</td>\n",
       "      <td>0.987303</td>\n",
       "      <td>0.010451</td>\n",
       "      <td>0.003564</td>\n",
       "      <td>0.974767</td>\n",
       "      <td>0.999709</td>\n",
       "    </tr>\n",
       "  </tbody>\n",
       "</table>\n",
       "</div>"
      ],
      "text/plain": [
       "                Area     Perimetro  LongitudEjeMayor  LongitudEjeMenor  \\\n",
       "count    5192.000000  5.192000e+03       5036.000000       5192.000000   \n",
       "mean    52969.932781  7.706434e+05        319.528371        202.182764   \n",
       "std     29112.484651  3.244680e+05         85.760692         44.606278   \n",
       "min     20420.000000  5.536000e+02       -243.375248        122.512653   \n",
       "25%     36230.000000  6.758910e+05        252.947053        176.272855   \n",
       "50%     44580.500000  7.696815e+05        296.078404        192.287286   \n",
       "75%     61366.000000  9.574998e+05        376.480183        217.185099   \n",
       "max    248424.000000  1.884557e+06        721.216098        446.043618   \n",
       "\n",
       "       Excentricidad    AreaConvexa  DiametroEquivalente       Medida  \\\n",
       "count    5192.000000    5192.000000          5192.000000  5192.000000   \n",
       "mean        0.750826   53691.784861           252.938039     0.750749   \n",
       "std         0.091809   29572.285652            58.876390     0.048249   \n",
       "min         0.218951   20684.000000           161.243764     0.555315   \n",
       "25%         0.716145   36621.000000           214.777719     0.720507   \n",
       "50%         0.763916   45113.000000           238.247047     0.760933   \n",
       "75%         0.809752   62385.000000           279.523901     0.787326   \n",
       "max         0.908167  251082.000000           562.408446     0.866195   \n",
       "\n",
       "           Solidez     Redondez   Compacidad  FactorForma1  FactorForma2  \\\n",
       "count  5192.000000  5192.000000  5192.000000   5192.000000   5192.000000   \n",
       "mean      0.987123     0.872957     0.799986      0.006564      0.001717   \n",
       "std       0.004624     0.059935     0.061507      0.001124      0.000596   \n",
       "min       0.943559     0.489618     0.645368      0.002878      0.000568   \n",
       "25%       0.985719     0.832406     0.763316      0.005894      0.001157   \n",
       "50%       0.988263     0.883361     0.801575      0.006647      0.001696   \n",
       "75%       0.989999     0.916820     0.834237      0.007259      0.002182   \n",
       "max       0.994082     0.986103     0.987303      0.010451      0.003564   \n",
       "\n",
       "       FactorForma3  FactorForma4  \n",
       "count   5023.000000   5192.000000  \n",
       "mean       0.643620      0.995083  \n",
       "std        0.099930      0.004339  \n",
       "min       -0.518002      0.951239  \n",
       "25%        0.583124      0.993649  \n",
       "50%        0.642597      0.996387  \n",
       "75%        0.696095      0.997894  \n",
       "max        0.974767      0.999709  "
      ]
     },
     "execution_count": 1281,
     "metadata": {},
     "output_type": "execute_result"
    }
   ],
   "source": [
    "df_original.describe()"
   ]
  },
  {
   "cell_type": "markdown",
   "id": "cde2e9c4",
   "metadata": {},
   "source": [
    "## Nulos"
   ]
  },
  {
   "cell_type": "code",
   "execution_count": 1282,
   "id": "4e16a4b1",
   "metadata": {},
   "outputs": [
    {
     "name": "stdout",
     "output_type": "stream",
     "text": [
      "ID                        0\n",
      "Area                      0\n",
      "Perimetro                 0\n",
      "LongitudEjeMayor        156\n",
      "LongitudEjeMenor          0\n",
      "RelacionAspecto         162\n",
      "Excentricidad             0\n",
      "AreaConvexa               0\n",
      "DiametroEquivalente       0\n",
      "Medida                    0\n",
      "Solidez                   0\n",
      "Redondez                  0\n",
      "Compacidad                0\n",
      "FactorForma1              0\n",
      "FactorForma2              0\n",
      "FactorForma3            169\n",
      "FactorForma4              0\n",
      "DefectoVisible         1076\n",
      "MétodoSecado            211\n",
      "dtype: int64\n"
     ]
    }
   ],
   "source": [
    "print(df_original.isnull().sum())"
   ]
  },
  {
   "cell_type": "markdown",
   "id": "f36807bf",
   "metadata": {},
   "source": [
    "Como son pocos valores nulos en LogitudEjeMayor, en RelacionAspecto y en metodoSecado, vamos a eliminar las filas con estos valores nulos, para el caso de DefectoVisible, este tiene demasiados valores nulos, ademas de que nos dimos cuenta que solamente tiene valores Normal, por lo que esta variable categorica no representa una informacion relevante, debido a que todos los valores son iguales, entonces la vamos a eliminar"
   ]
  },
  {
   "cell_type": "code",
   "execution_count": 1283,
   "id": "989d19c6",
   "metadata": {
    "vscode": {
     "languageId": "ruby"
    }
   },
   "outputs": [
    {
     "name": "stdout",
     "output_type": "stream",
     "text": [
      "<class 'pandas.core.frame.DataFrame'>\n",
      "Index: 4526 entries, 2 to 14287\n",
      "Data columns (total 18 columns):\n",
      " #   Column               Non-Null Count  Dtype  \n",
      "---  ------               --------------  -----  \n",
      " 0   ID                   4526 non-null   object \n",
      " 1   Area                 4526 non-null   int64  \n",
      " 2   Perimetro            4526 non-null   float64\n",
      " 3   LongitudEjeMayor     4526 non-null   float64\n",
      " 4   LongitudEjeMenor     4526 non-null   float64\n",
      " 5   RelacionAspecto      4526 non-null   object \n",
      " 6   Excentricidad        4526 non-null   float64\n",
      " 7   AreaConvexa          4526 non-null   float64\n",
      " 8   DiametroEquivalente  4526 non-null   float64\n",
      " 9   Medida               4526 non-null   float64\n",
      " 10  Solidez              4526 non-null   float64\n",
      " 11  Redondez             4526 non-null   float64\n",
      " 12  Compacidad           4526 non-null   float64\n",
      " 13  FactorForma1         4526 non-null   float64\n",
      " 14  FactorForma2         4526 non-null   float64\n",
      " 15  FactorForma3         4526 non-null   float64\n",
      " 16  FactorForma4         4526 non-null   float64\n",
      " 17  MétodoSecado         4526 non-null   object \n",
      "dtypes: float64(14), int64(1), object(3)\n",
      "memory usage: 671.8+ KB\n",
      "Número de filas: 4526\n",
      "Número de columnas: 18\n"
     ]
    }
   ],
   "source": [
    "df_clean = df_original.copy()\n",
    "\n",
    "# Eliminar filas con valores nulos en 'LongitudEjeMayor', 'RelacionAspecto', 'MétodoSecado', 'FactorForma3'\n",
    "df_clean = df_clean.dropna(subset=['LongitudEjeMayor', 'RelacionAspecto', 'MétodoSecado', 'FactorForma3'])\n",
    "\n",
    "# Eliminar la columna 'DefectoVisible'\n",
    "df_clean = df_clean.drop('DefectoVisible', axis=1)\n",
    "\n",
    "# Mostrar información del DataFrame resultante\n",
    "df_clean.info()\n",
    "\n",
    "# Mostrar el número de filas y columnas\n",
    "print(f\"Número de filas: {df_clean.shape[0]}\")\n",
    "print(f\"Número de columnas: {df_clean.shape[1]}\")"
   ]
  },
  {
   "cell_type": "markdown",
   "id": "b1d82c45",
   "metadata": {},
   "source": [
    "## Unicidad"
   ]
  },
  {
   "cell_type": "code",
   "execution_count": 1284,
   "id": "6912311d",
   "metadata": {},
   "outputs": [
    {
     "name": "stdout",
     "output_type": "stream",
     "text": [
      "137\n"
     ]
    }
   ],
   "source": [
    "print(df_clean.duplicated().sum())"
   ]
  },
  {
   "cell_type": "code",
   "execution_count": 1285,
   "id": "d58d7fbe",
   "metadata": {},
   "outputs": [
    {
     "data": {
      "text/html": [
       "<div>\n",
       "<style scoped>\n",
       "    .dataframe tbody tr th:only-of-type {\n",
       "        vertical-align: middle;\n",
       "    }\n",
       "\n",
       "    .dataframe tbody tr th {\n",
       "        vertical-align: top;\n",
       "    }\n",
       "\n",
       "    .dataframe thead th {\n",
       "        text-align: right;\n",
       "    }\n",
       "</style>\n",
       "<table border=\"1\" class=\"dataframe\">\n",
       "  <thead>\n",
       "    <tr style=\"text-align: right;\">\n",
       "      <th></th>\n",
       "      <th>ID</th>\n",
       "      <th>Area</th>\n",
       "      <th>Perimetro</th>\n",
       "      <th>LongitudEjeMayor</th>\n",
       "      <th>LongitudEjeMenor</th>\n",
       "      <th>RelacionAspecto</th>\n",
       "      <th>Excentricidad</th>\n",
       "      <th>AreaConvexa</th>\n",
       "      <th>DiametroEquivalente</th>\n",
       "      <th>Medida</th>\n",
       "      <th>Solidez</th>\n",
       "      <th>Redondez</th>\n",
       "      <th>Compacidad</th>\n",
       "      <th>FactorForma1</th>\n",
       "      <th>FactorForma2</th>\n",
       "      <th>FactorForma3</th>\n",
       "      <th>FactorForma4</th>\n",
       "      <th>MétodoSecado</th>\n",
       "    </tr>\n",
       "  </thead>\n",
       "  <tbody>\n",
       "    <tr>\n",
       "      <th>507</th>\n",
       "      <td>G002702</td>\n",
       "      <td>69824</td>\n",
       "      <td>1055572.0</td>\n",
       "      <td>389.048708</td>\n",
       "      <td>229.112799</td>\n",
       "      <td>Alargado</td>\n",
       "      <td>0.808202</td>\n",
       "      <td>70943.0</td>\n",
       "      <td>298.165521</td>\n",
       "      <td>0.688396</td>\n",
       "      <td>0.984227</td>\n",
       "      <td>0.787479</td>\n",
       "      <td>0.766396</td>\n",
       "      <td>0.005572</td>\n",
       "      <td>0.001186</td>\n",
       "      <td>0.587363</td>\n",
       "      <td>0.997382</td>\n",
       "      <td>Natural</td>\n",
       "    </tr>\n",
       "    <tr>\n",
       "      <th>544</th>\n",
       "      <td>G003108</td>\n",
       "      <td>78848</td>\n",
       "      <td>1088405.0</td>\n",
       "      <td>388.645864</td>\n",
       "      <td>259.122237</td>\n",
       "      <td>Alargado</td>\n",
       "      <td>0.745298</td>\n",
       "      <td>79719.0</td>\n",
       "      <td>316.847584</td>\n",
       "      <td>0.734577</td>\n",
       "      <td>0.989074</td>\n",
       "      <td>0.836411</td>\n",
       "      <td>0.815260</td>\n",
       "      <td>0.004929</td>\n",
       "      <td>0.001343</td>\n",
       "      <td>0.664650</td>\n",
       "      <td>0.996878</td>\n",
       "      <td>Natural</td>\n",
       "    </tr>\n",
       "    <tr>\n",
       "      <th>569</th>\n",
       "      <td>G013443</td>\n",
       "      <td>40125</td>\n",
       "      <td>738378.0</td>\n",
       "      <td>275.637443</td>\n",
       "      <td>185.812657</td>\n",
       "      <td>Alargado</td>\n",
       "      <td>0.738622</td>\n",
       "      <td>40508.0</td>\n",
       "      <td>226.028177</td>\n",
       "      <td>0.774614</td>\n",
       "      <td>0.990545</td>\n",
       "      <td>0.924842</td>\n",
       "      <td>0.820020</td>\n",
       "      <td>0.006869</td>\n",
       "      <td>0.001916</td>\n",
       "      <td>0.672433</td>\n",
       "      <td>0.997497</td>\n",
       "      <td>Lavado</td>\n",
       "    </tr>\n",
       "    <tr>\n",
       "      <th>679</th>\n",
       "      <td>G003586</td>\n",
       "      <td>169165</td>\n",
       "      <td>1581568.0</td>\n",
       "      <td>591.855813</td>\n",
       "      <td>366.376666</td>\n",
       "      <td>Alargado</td>\n",
       "      <td>0.785367</td>\n",
       "      <td>171119.0</td>\n",
       "      <td>464.098661</td>\n",
       "      <td>0.683992</td>\n",
       "      <td>0.988581</td>\n",
       "      <td>0.849855</td>\n",
       "      <td>0.784141</td>\n",
       "      <td>0.003499</td>\n",
       "      <td>0.000816</td>\n",
       "      <td>0.614878</td>\n",
       "      <td>0.993292</td>\n",
       "      <td>Natural</td>\n",
       "    </tr>\n",
       "    <tr>\n",
       "      <th>1200</th>\n",
       "      <td>G002129</td>\n",
       "      <td>55607</td>\n",
       "      <td>898497.0</td>\n",
       "      <td>311.419759</td>\n",
       "      <td>228.719865</td>\n",
       "      <td>Alargado</td>\n",
       "      <td>0.678671</td>\n",
       "      <td>56424.0</td>\n",
       "      <td>266.084632</td>\n",
       "      <td>0.756506</td>\n",
       "      <td>0.985520</td>\n",
       "      <td>0.865578</td>\n",
       "      <td>0.854424</td>\n",
       "      <td>0.005600</td>\n",
       "      <td>0.001841</td>\n",
       "      <td>0.730041</td>\n",
       "      <td>0.994007</td>\n",
       "      <td>Lavado</td>\n",
       "    </tr>\n",
       "    <tr>\n",
       "      <th>...</th>\n",
       "      <td>...</td>\n",
       "      <td>...</td>\n",
       "      <td>...</td>\n",
       "      <td>...</td>\n",
       "      <td>...</td>\n",
       "      <td>...</td>\n",
       "      <td>...</td>\n",
       "      <td>...</td>\n",
       "      <td>...</td>\n",
       "      <td>...</td>\n",
       "      <td>...</td>\n",
       "      <td>...</td>\n",
       "      <td>...</td>\n",
       "      <td>...</td>\n",
       "      <td>...</td>\n",
       "      <td>...</td>\n",
       "      <td>...</td>\n",
       "      <td>...</td>\n",
       "    </tr>\n",
       "    <tr>\n",
       "      <th>13700</th>\n",
       "      <td>G013246</td>\n",
       "      <td>38585</td>\n",
       "      <td>735508.0</td>\n",
       "      <td>271.447538</td>\n",
       "      <td>181.487496</td>\n",
       "      <td>Alargado</td>\n",
       "      <td>0.743630</td>\n",
       "      <td>38970.0</td>\n",
       "      <td>221.648253</td>\n",
       "      <td>0.782467</td>\n",
       "      <td>0.990121</td>\n",
       "      <td>0.896300</td>\n",
       "      <td>0.816542</td>\n",
       "      <td>0.007035</td>\n",
       "      <td>0.001929</td>\n",
       "      <td>0.666740</td>\n",
       "      <td>0.997232</td>\n",
       "      <td>Lavado</td>\n",
       "    </tr>\n",
       "    <tr>\n",
       "      <th>13705</th>\n",
       "      <td>G012185</td>\n",
       "      <td>33272</td>\n",
       "      <td>671659.0</td>\n",
       "      <td>247.372938</td>\n",
       "      <td>171.976902</td>\n",
       "      <td>Alargado</td>\n",
       "      <td>0.718804</td>\n",
       "      <td>33626.0</td>\n",
       "      <td>205.823289</td>\n",
       "      <td>0.700478</td>\n",
       "      <td>0.989472</td>\n",
       "      <td>0.926811</td>\n",
       "      <td>0.832036</td>\n",
       "      <td>0.007435</td>\n",
       "      <td>0.002198</td>\n",
       "      <td>0.692285</td>\n",
       "      <td>0.995788</td>\n",
       "      <td>Natural</td>\n",
       "    </tr>\n",
       "    <tr>\n",
       "      <th>13859</th>\n",
       "      <td>G005387</td>\n",
       "      <td>89673</td>\n",
       "      <td>1175934.0</td>\n",
       "      <td>457.778517</td>\n",
       "      <td>252.674294</td>\n",
       "      <td>Alargado</td>\n",
       "      <td>0.833872</td>\n",
       "      <td>91361.0</td>\n",
       "      <td>337.898224</td>\n",
       "      <td>0.774559</td>\n",
       "      <td>0.981524</td>\n",
       "      <td>0.814903</td>\n",
       "      <td>0.738126</td>\n",
       "      <td>0.005105</td>\n",
       "      <td>0.000935</td>\n",
       "      <td>0.544830</td>\n",
       "      <td>0.987087</td>\n",
       "      <td>Lavado</td>\n",
       "    </tr>\n",
       "    <tr>\n",
       "      <th>13908</th>\n",
       "      <td>G006428</td>\n",
       "      <td>53473</td>\n",
       "      <td>899337.0</td>\n",
       "      <td>349.478217</td>\n",
       "      <td>196.154529</td>\n",
       "      <td>Alargado</td>\n",
       "      <td>0.827627</td>\n",
       "      <td>54218.0</td>\n",
       "      <td>260.928991</td>\n",
       "      <td>0.824590</td>\n",
       "      <td>0.986259</td>\n",
       "      <td>0.830806</td>\n",
       "      <td>0.746624</td>\n",
       "      <td>0.006536</td>\n",
       "      <td>0.001253</td>\n",
       "      <td>0.557448</td>\n",
       "      <td>0.993176</td>\n",
       "      <td>Lavado</td>\n",
       "    </tr>\n",
       "    <tr>\n",
       "      <th>14048</th>\n",
       "      <td>G001084</td>\n",
       "      <td>39535</td>\n",
       "      <td>723825.0</td>\n",
       "      <td>254.501909</td>\n",
       "      <td>198.291479</td>\n",
       "      <td>Redondeado</td>\n",
       "      <td>0.626856</td>\n",
       "      <td>39943.0</td>\n",
       "      <td>224.360258</td>\n",
       "      <td>0.747947</td>\n",
       "      <td>0.989785</td>\n",
       "      <td>0.948253</td>\n",
       "      <td>0.881566</td>\n",
       "      <td>0.006437</td>\n",
       "      <td>0.002398</td>\n",
       "      <td>0.777159</td>\n",
       "      <td>0.997463</td>\n",
       "      <td>Natural</td>\n",
       "    </tr>\n",
       "  </tbody>\n",
       "</table>\n",
       "<p>137 rows × 18 columns</p>\n",
       "</div>"
      ],
      "text/plain": [
       "            ID    Area  Perimetro  LongitudEjeMayor  LongitudEjeMenor  \\\n",
       "507    G002702   69824  1055572.0        389.048708        229.112799   \n",
       "544    G003108   78848  1088405.0        388.645864        259.122237   \n",
       "569    G013443   40125   738378.0        275.637443        185.812657   \n",
       "679    G003586  169165  1581568.0        591.855813        366.376666   \n",
       "1200   G002129   55607   898497.0        311.419759        228.719865   \n",
       "...        ...     ...        ...               ...               ...   \n",
       "13700  G013246   38585   735508.0        271.447538        181.487496   \n",
       "13705  G012185   33272   671659.0        247.372938        171.976902   \n",
       "13859  G005387   89673  1175934.0        457.778517        252.674294   \n",
       "13908  G006428   53473   899337.0        349.478217        196.154529   \n",
       "14048  G001084   39535   723825.0        254.501909        198.291479   \n",
       "\n",
       "      RelacionAspecto  Excentricidad  AreaConvexa  DiametroEquivalente  \\\n",
       "507          Alargado       0.808202      70943.0           298.165521   \n",
       "544          Alargado       0.745298      79719.0           316.847584   \n",
       "569          Alargado       0.738622      40508.0           226.028177   \n",
       "679          Alargado       0.785367     171119.0           464.098661   \n",
       "1200         Alargado       0.678671      56424.0           266.084632   \n",
       "...               ...            ...          ...                  ...   \n",
       "13700        Alargado       0.743630      38970.0           221.648253   \n",
       "13705        Alargado       0.718804      33626.0           205.823289   \n",
       "13859        Alargado       0.833872      91361.0           337.898224   \n",
       "13908        Alargado       0.827627      54218.0           260.928991   \n",
       "14048      Redondeado       0.626856      39943.0           224.360258   \n",
       "\n",
       "         Medida   Solidez  Redondez  Compacidad  FactorForma1  FactorForma2  \\\n",
       "507    0.688396  0.984227  0.787479    0.766396      0.005572      0.001186   \n",
       "544    0.734577  0.989074  0.836411    0.815260      0.004929      0.001343   \n",
       "569    0.774614  0.990545  0.924842    0.820020      0.006869      0.001916   \n",
       "679    0.683992  0.988581  0.849855    0.784141      0.003499      0.000816   \n",
       "1200   0.756506  0.985520  0.865578    0.854424      0.005600      0.001841   \n",
       "...         ...       ...       ...         ...           ...           ...   \n",
       "13700  0.782467  0.990121  0.896300    0.816542      0.007035      0.001929   \n",
       "13705  0.700478  0.989472  0.926811    0.832036      0.007435      0.002198   \n",
       "13859  0.774559  0.981524  0.814903    0.738126      0.005105      0.000935   \n",
       "13908  0.824590  0.986259  0.830806    0.746624      0.006536      0.001253   \n",
       "14048  0.747947  0.989785  0.948253    0.881566      0.006437      0.002398   \n",
       "\n",
       "       FactorForma3  FactorForma4 MétodoSecado  \n",
       "507        0.587363      0.997382      Natural  \n",
       "544        0.664650      0.996878      Natural  \n",
       "569        0.672433      0.997497       Lavado  \n",
       "679        0.614878      0.993292      Natural  \n",
       "1200       0.730041      0.994007       Lavado  \n",
       "...             ...           ...          ...  \n",
       "13700      0.666740      0.997232       Lavado  \n",
       "13705      0.692285      0.995788      Natural  \n",
       "13859      0.544830      0.987087       Lavado  \n",
       "13908      0.557448      0.993176       Lavado  \n",
       "14048      0.777159      0.997463      Natural  \n",
       "\n",
       "[137 rows x 18 columns]"
      ]
     },
     "execution_count": 1285,
     "metadata": {},
     "output_type": "execute_result"
    }
   ],
   "source": [
    "# Mostrar filas duplicadas\n",
    "df_clean[df_clean.duplicated()]"
   ]
  },
  {
   "cell_type": "code",
   "execution_count": 1286,
   "id": "1bae60fb",
   "metadata": {},
   "outputs": [
    {
     "name": "stdout",
     "output_type": "stream",
     "text": [
      "0\n"
     ]
    }
   ],
   "source": [
    "# Eliminar filas duplicadas\n",
    "df_clean = df_clean.drop_duplicates()\n",
    "print(df_clean.duplicated().sum())"
   ]
  },
  {
   "cell_type": "code",
   "execution_count": 1287,
   "id": "e8c362a3",
   "metadata": {},
   "outputs": [
    {
     "data": {
      "text/html": [
       "<div>\n",
       "<style scoped>\n",
       "    .dataframe tbody tr th:only-of-type {\n",
       "        vertical-align: middle;\n",
       "    }\n",
       "\n",
       "    .dataframe tbody tr th {\n",
       "        vertical-align: top;\n",
       "    }\n",
       "\n",
       "    .dataframe thead th {\n",
       "        text-align: right;\n",
       "    }\n",
       "</style>\n",
       "<table border=\"1\" class=\"dataframe\">\n",
       "  <thead>\n",
       "    <tr style=\"text-align: right;\">\n",
       "      <th></th>\n",
       "      <th>count</th>\n",
       "      <th>unique</th>\n",
       "      <th>top</th>\n",
       "      <th>freq</th>\n",
       "      <th>mean</th>\n",
       "      <th>std</th>\n",
       "      <th>min</th>\n",
       "      <th>25%</th>\n",
       "      <th>50%</th>\n",
       "      <th>75%</th>\n",
       "      <th>max</th>\n",
       "    </tr>\n",
       "  </thead>\n",
       "  <tbody>\n",
       "    <tr>\n",
       "      <th>ID</th>\n",
       "      <td>4389</td>\n",
       "      <td>4316</td>\n",
       "      <td>G004296</td>\n",
       "      <td>2</td>\n",
       "      <td>NaN</td>\n",
       "      <td>NaN</td>\n",
       "      <td>NaN</td>\n",
       "      <td>NaN</td>\n",
       "      <td>NaN</td>\n",
       "      <td>NaN</td>\n",
       "      <td>NaN</td>\n",
       "    </tr>\n",
       "    <tr>\n",
       "      <th>Area</th>\n",
       "      <td>4389.0</td>\n",
       "      <td>NaN</td>\n",
       "      <td>NaN</td>\n",
       "      <td>NaN</td>\n",
       "      <td>52696.573479</td>\n",
       "      <td>28636.388396</td>\n",
       "      <td>20420.0</td>\n",
       "      <td>36296.0</td>\n",
       "      <td>44551.0</td>\n",
       "      <td>60946.0</td>\n",
       "      <td>248424.0</td>\n",
       "    </tr>\n",
       "    <tr>\n",
       "      <th>Perimetro</th>\n",
       "      <td>4389.0</td>\n",
       "      <td>NaN</td>\n",
       "      <td>NaN</td>\n",
       "      <td>NaN</td>\n",
       "      <td>768498.538984</td>\n",
       "      <td>323411.847929</td>\n",
       "      <td>553.6</td>\n",
       "      <td>677527.0</td>\n",
       "      <td>768988.0</td>\n",
       "      <td>955639.0</td>\n",
       "      <td>1884557.0</td>\n",
       "    </tr>\n",
       "    <tr>\n",
       "      <th>LongitudEjeMayor</th>\n",
       "      <td>4389.0</td>\n",
       "      <td>NaN</td>\n",
       "      <td>NaN</td>\n",
       "      <td>NaN</td>\n",
       "      <td>318.858025</td>\n",
       "      <td>84.7095</td>\n",
       "      <td>-243.375248</td>\n",
       "      <td>252.93034</td>\n",
       "      <td>295.95799</td>\n",
       "      <td>375.980183</td>\n",
       "      <td>720.695521</td>\n",
       "    </tr>\n",
       "    <tr>\n",
       "      <th>LongitudEjeMenor</th>\n",
       "      <td>4389.0</td>\n",
       "      <td>NaN</td>\n",
       "      <td>NaN</td>\n",
       "      <td>NaN</td>\n",
       "      <td>201.964286</td>\n",
       "      <td>44.185564</td>\n",
       "      <td>122.512653</td>\n",
       "      <td>176.398977</td>\n",
       "      <td>192.313437</td>\n",
       "      <td>216.789472</td>\n",
       "      <td>446.043618</td>\n",
       "    </tr>\n",
       "    <tr>\n",
       "      <th>RelacionAspecto</th>\n",
       "      <td>4389</td>\n",
       "      <td>4</td>\n",
       "      <td>Alargado</td>\n",
       "      <td>3822</td>\n",
       "      <td>NaN</td>\n",
       "      <td>NaN</td>\n",
       "      <td>NaN</td>\n",
       "      <td>NaN</td>\n",
       "      <td>NaN</td>\n",
       "      <td>NaN</td>\n",
       "      <td>NaN</td>\n",
       "    </tr>\n",
       "    <tr>\n",
       "      <th>Excentricidad</th>\n",
       "      <td>4389.0</td>\n",
       "      <td>NaN</td>\n",
       "      <td>NaN</td>\n",
       "      <td>NaN</td>\n",
       "      <td>0.749853</td>\n",
       "      <td>0.09215</td>\n",
       "      <td>0.218951</td>\n",
       "      <td>0.714153</td>\n",
       "      <td>0.763766</td>\n",
       "      <td>0.808202</td>\n",
       "      <td>0.908167</td>\n",
       "    </tr>\n",
       "    <tr>\n",
       "      <th>AreaConvexa</th>\n",
       "      <td>4389.0</td>\n",
       "      <td>NaN</td>\n",
       "      <td>NaN</td>\n",
       "      <td>NaN</td>\n",
       "      <td>53411.690818</td>\n",
       "      <td>29081.568742</td>\n",
       "      <td>20684.0</td>\n",
       "      <td>36713.0</td>\n",
       "      <td>45054.0</td>\n",
       "      <td>61940.0</td>\n",
       "      <td>251082.0</td>\n",
       "    </tr>\n",
       "    <tr>\n",
       "      <th>DiametroEquivalente</th>\n",
       "      <td>4389.0</td>\n",
       "      <td>NaN</td>\n",
       "      <td>NaN</td>\n",
       "      <td>NaN</td>\n",
       "      <td>252.423863</td>\n",
       "      <td>58.123353</td>\n",
       "      <td>161.243764</td>\n",
       "      <td>214.97326</td>\n",
       "      <td>238.168207</td>\n",
       "      <td>278.565715</td>\n",
       "      <td>562.408446</td>\n",
       "    </tr>\n",
       "    <tr>\n",
       "      <th>Medida</th>\n",
       "      <td>4389.0</td>\n",
       "      <td>NaN</td>\n",
       "      <td>NaN</td>\n",
       "      <td>NaN</td>\n",
       "      <td>0.750961</td>\n",
       "      <td>0.048035</td>\n",
       "      <td>0.555315</td>\n",
       "      <td>0.72065</td>\n",
       "      <td>0.761155</td>\n",
       "      <td>0.787287</td>\n",
       "      <td>0.866195</td>\n",
       "    </tr>\n",
       "    <tr>\n",
       "      <th>Solidez</th>\n",
       "      <td>4389.0</td>\n",
       "      <td>NaN</td>\n",
       "      <td>NaN</td>\n",
       "      <td>NaN</td>\n",
       "      <td>0.987153</td>\n",
       "      <td>0.004645</td>\n",
       "      <td>0.943559</td>\n",
       "      <td>0.985758</td>\n",
       "      <td>0.988308</td>\n",
       "      <td>0.99002</td>\n",
       "      <td>0.994082</td>\n",
       "    </tr>\n",
       "    <tr>\n",
       "      <th>Redondez</th>\n",
       "      <td>4389.0</td>\n",
       "      <td>NaN</td>\n",
       "      <td>NaN</td>\n",
       "      <td>NaN</td>\n",
       "      <td>0.873645</td>\n",
       "      <td>0.059754</td>\n",
       "      <td>0.489618</td>\n",
       "      <td>0.833022</td>\n",
       "      <td>0.884241</td>\n",
       "      <td>0.917256</td>\n",
       "      <td>0.986103</td>\n",
       "    </tr>\n",
       "    <tr>\n",
       "      <th>Compacidad</th>\n",
       "      <td>4389.0</td>\n",
       "      <td>NaN</td>\n",
       "      <td>NaN</td>\n",
       "      <td>NaN</td>\n",
       "      <td>0.800675</td>\n",
       "      <td>0.061477</td>\n",
       "      <td>0.645368</td>\n",
       "      <td>0.764788</td>\n",
       "      <td>0.801865</td>\n",
       "      <td>0.83473</td>\n",
       "      <td>0.987303</td>\n",
       "    </tr>\n",
       "    <tr>\n",
       "      <th>FactorForma1</th>\n",
       "      <td>4389.0</td>\n",
       "      <td>NaN</td>\n",
       "      <td>NaN</td>\n",
       "      <td>NaN</td>\n",
       "      <td>0.006567</td>\n",
       "      <td>0.001117</td>\n",
       "      <td>0.002878</td>\n",
       "      <td>0.005903</td>\n",
       "      <td>0.006648</td>\n",
       "      <td>0.007245</td>\n",
       "      <td>0.010451</td>\n",
       "    </tr>\n",
       "    <tr>\n",
       "      <th>FactorForma2</th>\n",
       "      <td>4389.0</td>\n",
       "      <td>NaN</td>\n",
       "      <td>NaN</td>\n",
       "      <td>NaN</td>\n",
       "      <td>0.001723</td>\n",
       "      <td>0.000594</td>\n",
       "      <td>0.000572</td>\n",
       "      <td>0.001164</td>\n",
       "      <td>0.001702</td>\n",
       "      <td>0.002186</td>\n",
       "      <td>0.003545</td>\n",
       "    </tr>\n",
       "    <tr>\n",
       "      <th>FactorForma3</th>\n",
       "      <td>4389.0</td>\n",
       "      <td>NaN</td>\n",
       "      <td>NaN</td>\n",
       "      <td>NaN</td>\n",
       "      <td>0.644624</td>\n",
       "      <td>0.100231</td>\n",
       "      <td>-0.518002</td>\n",
       "      <td>0.584901</td>\n",
       "      <td>0.642988</td>\n",
       "      <td>0.696774</td>\n",
       "      <td>0.974767</td>\n",
       "    </tr>\n",
       "    <tr>\n",
       "      <th>FactorForma4</th>\n",
       "      <td>4389.0</td>\n",
       "      <td>NaN</td>\n",
       "      <td>NaN</td>\n",
       "      <td>NaN</td>\n",
       "      <td>0.995133</td>\n",
       "      <td>0.00435</td>\n",
       "      <td>0.951239</td>\n",
       "      <td>0.993788</td>\n",
       "      <td>0.996427</td>\n",
       "      <td>0.997899</td>\n",
       "      <td>0.999709</td>\n",
       "    </tr>\n",
       "    <tr>\n",
       "      <th>MétodoSecado</th>\n",
       "      <td>4389</td>\n",
       "      <td>6</td>\n",
       "      <td>Lavado</td>\n",
       "      <td>1992</td>\n",
       "      <td>NaN</td>\n",
       "      <td>NaN</td>\n",
       "      <td>NaN</td>\n",
       "      <td>NaN</td>\n",
       "      <td>NaN</td>\n",
       "      <td>NaN</td>\n",
       "      <td>NaN</td>\n",
       "    </tr>\n",
       "  </tbody>\n",
       "</table>\n",
       "</div>"
      ],
      "text/plain": [
       "                      count unique       top  freq           mean  \\\n",
       "ID                     4389   4316   G004296     2            NaN   \n",
       "Area                 4389.0    NaN       NaN   NaN   52696.573479   \n",
       "Perimetro            4389.0    NaN       NaN   NaN  768498.538984   \n",
       "LongitudEjeMayor     4389.0    NaN       NaN   NaN     318.858025   \n",
       "LongitudEjeMenor     4389.0    NaN       NaN   NaN     201.964286   \n",
       "RelacionAspecto        4389      4  Alargado  3822            NaN   \n",
       "Excentricidad        4389.0    NaN       NaN   NaN       0.749853   \n",
       "AreaConvexa          4389.0    NaN       NaN   NaN   53411.690818   \n",
       "DiametroEquivalente  4389.0    NaN       NaN   NaN     252.423863   \n",
       "Medida               4389.0    NaN       NaN   NaN       0.750961   \n",
       "Solidez              4389.0    NaN       NaN   NaN       0.987153   \n",
       "Redondez             4389.0    NaN       NaN   NaN       0.873645   \n",
       "Compacidad           4389.0    NaN       NaN   NaN       0.800675   \n",
       "FactorForma1         4389.0    NaN       NaN   NaN       0.006567   \n",
       "FactorForma2         4389.0    NaN       NaN   NaN       0.001723   \n",
       "FactorForma3         4389.0    NaN       NaN   NaN       0.644624   \n",
       "FactorForma4         4389.0    NaN       NaN   NaN       0.995133   \n",
       "MétodoSecado           4389      6    Lavado  1992            NaN   \n",
       "\n",
       "                               std         min         25%         50%  \\\n",
       "ID                             NaN         NaN         NaN         NaN   \n",
       "Area                  28636.388396     20420.0     36296.0     44551.0   \n",
       "Perimetro            323411.847929       553.6    677527.0    768988.0   \n",
       "LongitudEjeMayor           84.7095 -243.375248   252.93034   295.95799   \n",
       "LongitudEjeMenor         44.185564  122.512653  176.398977  192.313437   \n",
       "RelacionAspecto                NaN         NaN         NaN         NaN   \n",
       "Excentricidad              0.09215    0.218951    0.714153    0.763766   \n",
       "AreaConvexa           29081.568742     20684.0     36713.0     45054.0   \n",
       "DiametroEquivalente      58.123353  161.243764   214.97326  238.168207   \n",
       "Medida                    0.048035    0.555315     0.72065    0.761155   \n",
       "Solidez                   0.004645    0.943559    0.985758    0.988308   \n",
       "Redondez                  0.059754    0.489618    0.833022    0.884241   \n",
       "Compacidad                0.061477    0.645368    0.764788    0.801865   \n",
       "FactorForma1              0.001117    0.002878    0.005903    0.006648   \n",
       "FactorForma2              0.000594    0.000572    0.001164    0.001702   \n",
       "FactorForma3              0.100231   -0.518002    0.584901    0.642988   \n",
       "FactorForma4               0.00435    0.951239    0.993788    0.996427   \n",
       "MétodoSecado                   NaN         NaN         NaN         NaN   \n",
       "\n",
       "                            75%         max  \n",
       "ID                          NaN         NaN  \n",
       "Area                    60946.0    248424.0  \n",
       "Perimetro              955639.0   1884557.0  \n",
       "LongitudEjeMayor     375.980183  720.695521  \n",
       "LongitudEjeMenor     216.789472  446.043618  \n",
       "RelacionAspecto             NaN         NaN  \n",
       "Excentricidad          0.808202    0.908167  \n",
       "AreaConvexa             61940.0    251082.0  \n",
       "DiametroEquivalente  278.565715  562.408446  \n",
       "Medida                 0.787287    0.866195  \n",
       "Solidez                 0.99002    0.994082  \n",
       "Redondez               0.917256    0.986103  \n",
       "Compacidad              0.83473    0.987303  \n",
       "FactorForma1           0.007245    0.010451  \n",
       "FactorForma2           0.002186    0.003545  \n",
       "FactorForma3           0.696774    0.974767  \n",
       "FactorForma4           0.997899    0.999709  \n",
       "MétodoSecado                NaN         NaN  "
      ]
     },
     "execution_count": 1287,
     "metadata": {},
     "output_type": "execute_result"
    }
   ],
   "source": [
    "df_clean.describe(include=\"all\").T"
   ]
  },
  {
   "cell_type": "code",
   "execution_count": 1288,
   "id": "2d7a0373",
   "metadata": {},
   "outputs": [
    {
     "name": "stdout",
     "output_type": "stream",
     "text": [
      "['Alargado' 'Redondeado' 'alargado' 'redondeado']\n",
      "['Natural' 'Lavado' 'lavado' 'natural' 'Honey' 'honey']\n",
      "['alargado' 'redondeado']\n",
      "['natural' 'lavado' 'honey']\n",
      "<class 'pandas.core.frame.DataFrame'>\n",
      "Index: 4389 entries, 2 to 14287\n",
      "Data columns (total 18 columns):\n",
      " #   Column               Non-Null Count  Dtype  \n",
      "---  ------               --------------  -----  \n",
      " 0   ID                   4389 non-null   object \n",
      " 1   Area                 4389 non-null   int64  \n",
      " 2   Perimetro            4389 non-null   float64\n",
      " 3   LongitudEjeMayor     4389 non-null   float64\n",
      " 4   LongitudEjeMenor     4389 non-null   float64\n",
      " 5   RelacionAspecto      4389 non-null   object \n",
      " 6   Excentricidad        4389 non-null   float64\n",
      " 7   AreaConvexa          4389 non-null   float64\n",
      " 8   DiametroEquivalente  4389 non-null   float64\n",
      " 9   Medida               4389 non-null   float64\n",
      " 10  Solidez              4389 non-null   float64\n",
      " 11  Redondez             4389 non-null   float64\n",
      " 12  Compacidad           4389 non-null   float64\n",
      " 13  FactorForma1         4389 non-null   float64\n",
      " 14  FactorForma2         4389 non-null   float64\n",
      " 15  FactorForma3         4389 non-null   float64\n",
      " 16  FactorForma4         4389 non-null   float64\n",
      " 17  MétodoSecado         4389 non-null   object \n",
      "dtypes: float64(14), int64(1), object(3)\n",
      "memory usage: 651.5+ KB\n"
     ]
    }
   ],
   "source": [
    "print(df_clean[\"RelacionAspecto\"].unique())\n",
    "print(df_clean[\"MétodoSecado\"].unique())\n",
    "\n",
    "# Convertir a minúsculas la columna 'RelacionAspecto'\n",
    "df_clean['RelacionAspecto'] = df_clean['RelacionAspecto'].str.lower()\n",
    "\n",
    "# Convertir a minúsculas la columna 'MétodoSecado'\n",
    "df_clean['MétodoSecado'] = df_clean['MétodoSecado'].str.lower()\n",
    "\n",
    "print(df_clean[\"RelacionAspecto\"].unique())\n",
    "print(df_clean[\"MétodoSecado\"].unique())\n",
    "\n",
    "df_clean.info()\n"
   ]
  },
  {
   "cell_type": "markdown",
   "id": "7d5d1bb3",
   "metadata": {},
   "source": [
    "## Estandarizacion\n",
    "\n",
    "Para el dataset, Estandarización (Z-score) es lo más adecuado, porque equilibra las variables grandes (área, perímetro) con las ya normalizadas (solidez, compacidad) y es más robusto para algoritmos de clustering."
   ]
  },
  {
   "cell_type": "code",
   "execution_count": 1289,
   "id": "08613308",
   "metadata": {},
   "outputs": [
    {
     "data": {
      "text/html": [
       "<div>\n",
       "<style scoped>\n",
       "    .dataframe tbody tr th:only-of-type {\n",
       "        vertical-align: middle;\n",
       "    }\n",
       "\n",
       "    .dataframe tbody tr th {\n",
       "        vertical-align: top;\n",
       "    }\n",
       "\n",
       "    .dataframe thead th {\n",
       "        text-align: right;\n",
       "    }\n",
       "</style>\n",
       "<table border=\"1\" class=\"dataframe\">\n",
       "  <thead>\n",
       "    <tr style=\"text-align: right;\">\n",
       "      <th></th>\n",
       "      <th>ID</th>\n",
       "      <th>Area</th>\n",
       "      <th>Perimetro</th>\n",
       "      <th>LongitudEjeMayor</th>\n",
       "      <th>LongitudEjeMenor</th>\n",
       "      <th>RelacionAspecto</th>\n",
       "      <th>Excentricidad</th>\n",
       "      <th>AreaConvexa</th>\n",
       "      <th>DiametroEquivalente</th>\n",
       "      <th>Medida</th>\n",
       "      <th>Solidez</th>\n",
       "      <th>Redondez</th>\n",
       "      <th>Compacidad</th>\n",
       "      <th>FactorForma1</th>\n",
       "      <th>FactorForma2</th>\n",
       "      <th>FactorForma3</th>\n",
       "      <th>FactorForma4</th>\n",
       "      <th>MétodoSecado</th>\n",
       "    </tr>\n",
       "  </thead>\n",
       "  <tbody>\n",
       "    <tr>\n",
       "      <th>2</th>\n",
       "      <td>G007054</td>\n",
       "      <td>0.253847</td>\n",
       "      <td>0.698160</td>\n",
       "      <td>0.829169</td>\n",
       "      <td>-0.090470</td>\n",
       "      <td>alargado</td>\n",
       "      <td>1.205057</td>\n",
       "      <td>0.257867</td>\n",
       "      <td>0.411083</td>\n",
       "      <td>-1.860957</td>\n",
       "      <td>-0.574283</td>\n",
       "      <td>-1.864296</td>\n",
       "      <td>-1.472524</td>\n",
       "      <td>-0.069915</td>\n",
       "      <td>-1.187285</td>\n",
       "      <td>-1.399901</td>\n",
       "      <td>-0.901862</td>\n",
       "      <td>natural</td>\n",
       "    </tr>\n",
       "    <tr>\n",
       "      <th>4</th>\n",
       "      <td>G013353</td>\n",
       "      <td>-0.467032</td>\n",
       "      <td>-0.095015</td>\n",
       "      <td>-0.665146</td>\n",
       "      <td>-0.244167</td>\n",
       "      <td>alargado</td>\n",
       "      <td>-0.700324</td>\n",
       "      <td>-0.469550</td>\n",
       "      <td>-0.493199</td>\n",
       "      <td>0.508676</td>\n",
       "      <td>0.415848</td>\n",
       "      <td>0.572772</td>\n",
       "      <td>0.840744</td>\n",
       "      <td>0.097680</td>\n",
       "      <td>0.758844</td>\n",
       "      <td>0.817078</td>\n",
       "      <td>0.574144</td>\n",
       "      <td>lavado</td>\n",
       "    </tr>\n",
       "    <tr>\n",
       "      <th>10</th>\n",
       "      <td>G001140</td>\n",
       "      <td>-0.445239</td>\n",
       "      <td>-0.115750</td>\n",
       "      <td>-0.872362</td>\n",
       "      <td>0.135803</td>\n",
       "      <td>redondeado</td>\n",
       "      <td>-2.402495</td>\n",
       "      <td>-0.447953</td>\n",
       "      <td>-0.462772</td>\n",
       "      <td>0.438711</td>\n",
       "      <td>0.431071</td>\n",
       "      <td>1.098338</td>\n",
       "      <td>1.951634</td>\n",
       "      <td>-0.388927</td>\n",
       "      <td>1.674865</td>\n",
       "      <td>2.025145</td>\n",
       "      <td>0.751483</td>\n",
       "      <td>lavado</td>\n",
       "    </tr>\n",
       "    <tr>\n",
       "      <th>11</th>\n",
       "      <td>G007741</td>\n",
       "      <td>-0.464657</td>\n",
       "      <td>-2.374184</td>\n",
       "      <td>-0.625055</td>\n",
       "      <td>-0.290165</td>\n",
       "      <td>alargado</td>\n",
       "      <td>-0.509657</td>\n",
       "      <td>-0.466867</td>\n",
       "      <td>-0.489872</td>\n",
       "      <td>-0.534462</td>\n",
       "      <td>0.366401</td>\n",
       "      <td>0.239659</td>\n",
       "      <td>0.675505</td>\n",
       "      <td>0.164526</td>\n",
       "      <td>0.626480</td>\n",
       "      <td>0.645334</td>\n",
       "      <td>0.473784</td>\n",
       "      <td>natural</td>\n",
       "    </tr>\n",
       "    <tr>\n",
       "      <th>18</th>\n",
       "      <td>G009218</td>\n",
       "      <td>-0.207437</td>\n",
       "      <td>0.190041</td>\n",
       "      <td>-0.129359</td>\n",
       "      <td>-0.166551</td>\n",
       "      <td>alargado</td>\n",
       "      <td>0.272224</td>\n",
       "      <td>-0.210456</td>\n",
       "      <td>-0.145058</td>\n",
       "      <td>-0.641095</td>\n",
       "      <td>0.330445</td>\n",
       "      <td>-0.345527</td>\n",
       "      <td>-0.133961</td>\n",
       "      <td>0.016503</td>\n",
       "      <td>-0.204059</td>\n",
       "      <td>-0.166247</td>\n",
       "      <td>-0.364457</td>\n",
       "      <td>natural</td>\n",
       "    </tr>\n",
       "  </tbody>\n",
       "</table>\n",
       "</div>"
      ],
      "text/plain": [
       "         ID      Area  Perimetro  LongitudEjeMayor  LongitudEjeMenor  \\\n",
       "2   G007054  0.253847   0.698160          0.829169         -0.090470   \n",
       "4   G013353 -0.467032  -0.095015         -0.665146         -0.244167   \n",
       "10  G001140 -0.445239  -0.115750         -0.872362          0.135803   \n",
       "11  G007741 -0.464657  -2.374184         -0.625055         -0.290165   \n",
       "18  G009218 -0.207437   0.190041         -0.129359         -0.166551   \n",
       "\n",
       "   RelacionAspecto  Excentricidad  AreaConvexa  DiametroEquivalente    Medida  \\\n",
       "2         alargado       1.205057     0.257867             0.411083 -1.860957   \n",
       "4         alargado      -0.700324    -0.469550            -0.493199  0.508676   \n",
       "10      redondeado      -2.402495    -0.447953            -0.462772  0.438711   \n",
       "11        alargado      -0.509657    -0.466867            -0.489872 -0.534462   \n",
       "18        alargado       0.272224    -0.210456            -0.145058 -0.641095   \n",
       "\n",
       "     Solidez  Redondez  Compacidad  FactorForma1  FactorForma2  FactorForma3  \\\n",
       "2  -0.574283 -1.864296   -1.472524     -0.069915     -1.187285     -1.399901   \n",
       "4   0.415848  0.572772    0.840744      0.097680      0.758844      0.817078   \n",
       "10  0.431071  1.098338    1.951634     -0.388927      1.674865      2.025145   \n",
       "11  0.366401  0.239659    0.675505      0.164526      0.626480      0.645334   \n",
       "18  0.330445 -0.345527   -0.133961      0.016503     -0.204059     -0.166247   \n",
       "\n",
       "    FactorForma4 MétodoSecado  \n",
       "2      -0.901862      natural  \n",
       "4       0.574144       lavado  \n",
       "10      0.751483       lavado  \n",
       "11      0.473784      natural  \n",
       "18     -0.364457      natural  "
      ]
     },
     "execution_count": 1289,
     "metadata": {},
     "output_type": "execute_result"
    }
   ],
   "source": [
    "from sklearn.preprocessing import StandardScaler\n",
    "\n",
    "# Seleccionar las columnas numéricas\n",
    "numerical_cols = df_clean.select_dtypes(include=np.number).columns\n",
    "\n",
    "# Crear el StandardScaler\n",
    "scaler = StandardScaler()\n",
    "\n",
    "# Ajustar el StandardScaler a los datos numéricos y transformarlos\n",
    "df_clean[numerical_cols] = scaler.fit_transform(df_clean[numerical_cols])\n",
    "\n",
    "# Mostrar el DataFrame con las columnas numéricas estandarizadas\n",
    "df_clean.head()"
   ]
  },
  {
   "cell_type": "markdown",
   "id": "d59a5e7b",
   "metadata": {},
   "source": [
    "## One hot encoding para variables categoricas"
   ]
  },
  {
   "cell_type": "code",
   "execution_count": 1290,
   "id": "559c2b51",
   "metadata": {},
   "outputs": [
    {
     "data": {
      "text/html": [
       "<div>\n",
       "<style scoped>\n",
       "    .dataframe tbody tr th:only-of-type {\n",
       "        vertical-align: middle;\n",
       "    }\n",
       "\n",
       "    .dataframe tbody tr th {\n",
       "        vertical-align: top;\n",
       "    }\n",
       "\n",
       "    .dataframe thead th {\n",
       "        text-align: right;\n",
       "    }\n",
       "</style>\n",
       "<table border=\"1\" class=\"dataframe\">\n",
       "  <thead>\n",
       "    <tr style=\"text-align: right;\">\n",
       "      <th></th>\n",
       "      <th>ID</th>\n",
       "      <th>Area</th>\n",
       "      <th>Perimetro</th>\n",
       "      <th>LongitudEjeMayor</th>\n",
       "      <th>LongitudEjeMenor</th>\n",
       "      <th>Excentricidad</th>\n",
       "      <th>AreaConvexa</th>\n",
       "      <th>DiametroEquivalente</th>\n",
       "      <th>Medida</th>\n",
       "      <th>Solidez</th>\n",
       "      <th>...</th>\n",
       "      <th>Compacidad</th>\n",
       "      <th>FactorForma1</th>\n",
       "      <th>FactorForma2</th>\n",
       "      <th>FactorForma3</th>\n",
       "      <th>FactorForma4</th>\n",
       "      <th>MétodoSecado_honey</th>\n",
       "      <th>MétodoSecado_lavado</th>\n",
       "      <th>MétodoSecado_natural</th>\n",
       "      <th>RelacionAspecto_alargado</th>\n",
       "      <th>RelacionAspecto_redondeado</th>\n",
       "    </tr>\n",
       "  </thead>\n",
       "  <tbody>\n",
       "    <tr>\n",
       "      <th>2</th>\n",
       "      <td>G007054</td>\n",
       "      <td>0.253847</td>\n",
       "      <td>0.698160</td>\n",
       "      <td>0.829169</td>\n",
       "      <td>-0.090470</td>\n",
       "      <td>1.205057</td>\n",
       "      <td>0.257867</td>\n",
       "      <td>0.411083</td>\n",
       "      <td>-1.860957</td>\n",
       "      <td>-0.574283</td>\n",
       "      <td>...</td>\n",
       "      <td>-1.472524</td>\n",
       "      <td>-0.069915</td>\n",
       "      <td>-1.187285</td>\n",
       "      <td>-1.399901</td>\n",
       "      <td>-0.901862</td>\n",
       "      <td>False</td>\n",
       "      <td>False</td>\n",
       "      <td>True</td>\n",
       "      <td>True</td>\n",
       "      <td>False</td>\n",
       "    </tr>\n",
       "    <tr>\n",
       "      <th>4</th>\n",
       "      <td>G013353</td>\n",
       "      <td>-0.467032</td>\n",
       "      <td>-0.095015</td>\n",
       "      <td>-0.665146</td>\n",
       "      <td>-0.244167</td>\n",
       "      <td>-0.700324</td>\n",
       "      <td>-0.469550</td>\n",
       "      <td>-0.493199</td>\n",
       "      <td>0.508676</td>\n",
       "      <td>0.415848</td>\n",
       "      <td>...</td>\n",
       "      <td>0.840744</td>\n",
       "      <td>0.097680</td>\n",
       "      <td>0.758844</td>\n",
       "      <td>0.817078</td>\n",
       "      <td>0.574144</td>\n",
       "      <td>False</td>\n",
       "      <td>True</td>\n",
       "      <td>False</td>\n",
       "      <td>True</td>\n",
       "      <td>False</td>\n",
       "    </tr>\n",
       "    <tr>\n",
       "      <th>10</th>\n",
       "      <td>G001140</td>\n",
       "      <td>-0.445239</td>\n",
       "      <td>-0.115750</td>\n",
       "      <td>-0.872362</td>\n",
       "      <td>0.135803</td>\n",
       "      <td>-2.402495</td>\n",
       "      <td>-0.447953</td>\n",
       "      <td>-0.462772</td>\n",
       "      <td>0.438711</td>\n",
       "      <td>0.431071</td>\n",
       "      <td>...</td>\n",
       "      <td>1.951634</td>\n",
       "      <td>-0.388927</td>\n",
       "      <td>1.674865</td>\n",
       "      <td>2.025145</td>\n",
       "      <td>0.751483</td>\n",
       "      <td>False</td>\n",
       "      <td>True</td>\n",
       "      <td>False</td>\n",
       "      <td>False</td>\n",
       "      <td>True</td>\n",
       "    </tr>\n",
       "    <tr>\n",
       "      <th>11</th>\n",
       "      <td>G007741</td>\n",
       "      <td>-0.464657</td>\n",
       "      <td>-2.374184</td>\n",
       "      <td>-0.625055</td>\n",
       "      <td>-0.290165</td>\n",
       "      <td>-0.509657</td>\n",
       "      <td>-0.466867</td>\n",
       "      <td>-0.489872</td>\n",
       "      <td>-0.534462</td>\n",
       "      <td>0.366401</td>\n",
       "      <td>...</td>\n",
       "      <td>0.675505</td>\n",
       "      <td>0.164526</td>\n",
       "      <td>0.626480</td>\n",
       "      <td>0.645334</td>\n",
       "      <td>0.473784</td>\n",
       "      <td>False</td>\n",
       "      <td>False</td>\n",
       "      <td>True</td>\n",
       "      <td>True</td>\n",
       "      <td>False</td>\n",
       "    </tr>\n",
       "    <tr>\n",
       "      <th>18</th>\n",
       "      <td>G009218</td>\n",
       "      <td>-0.207437</td>\n",
       "      <td>0.190041</td>\n",
       "      <td>-0.129359</td>\n",
       "      <td>-0.166551</td>\n",
       "      <td>0.272224</td>\n",
       "      <td>-0.210456</td>\n",
       "      <td>-0.145058</td>\n",
       "      <td>-0.641095</td>\n",
       "      <td>0.330445</td>\n",
       "      <td>...</td>\n",
       "      <td>-0.133961</td>\n",
       "      <td>0.016503</td>\n",
       "      <td>-0.204059</td>\n",
       "      <td>-0.166247</td>\n",
       "      <td>-0.364457</td>\n",
       "      <td>False</td>\n",
       "      <td>False</td>\n",
       "      <td>True</td>\n",
       "      <td>True</td>\n",
       "      <td>False</td>\n",
       "    </tr>\n",
       "  </tbody>\n",
       "</table>\n",
       "<p>5 rows × 21 columns</p>\n",
       "</div>"
      ],
      "text/plain": [
       "         ID      Area  Perimetro  LongitudEjeMayor  LongitudEjeMenor  \\\n",
       "2   G007054  0.253847   0.698160          0.829169         -0.090470   \n",
       "4   G013353 -0.467032  -0.095015         -0.665146         -0.244167   \n",
       "10  G001140 -0.445239  -0.115750         -0.872362          0.135803   \n",
       "11  G007741 -0.464657  -2.374184         -0.625055         -0.290165   \n",
       "18  G009218 -0.207437   0.190041         -0.129359         -0.166551   \n",
       "\n",
       "    Excentricidad  AreaConvexa  DiametroEquivalente    Medida   Solidez  ...  \\\n",
       "2        1.205057     0.257867             0.411083 -1.860957 -0.574283  ...   \n",
       "4       -0.700324    -0.469550            -0.493199  0.508676  0.415848  ...   \n",
       "10      -2.402495    -0.447953            -0.462772  0.438711  0.431071  ...   \n",
       "11      -0.509657    -0.466867            -0.489872 -0.534462  0.366401  ...   \n",
       "18       0.272224    -0.210456            -0.145058 -0.641095  0.330445  ...   \n",
       "\n",
       "    Compacidad  FactorForma1  FactorForma2  FactorForma3  FactorForma4  \\\n",
       "2    -1.472524     -0.069915     -1.187285     -1.399901     -0.901862   \n",
       "4     0.840744      0.097680      0.758844      0.817078      0.574144   \n",
       "10    1.951634     -0.388927      1.674865      2.025145      0.751483   \n",
       "11    0.675505      0.164526      0.626480      0.645334      0.473784   \n",
       "18   -0.133961      0.016503     -0.204059     -0.166247     -0.364457   \n",
       "\n",
       "    MétodoSecado_honey  MétodoSecado_lavado  MétodoSecado_natural  \\\n",
       "2                False                False                  True   \n",
       "4                False                 True                 False   \n",
       "10               False                 True                 False   \n",
       "11               False                False                  True   \n",
       "18               False                False                  True   \n",
       "\n",
       "    RelacionAspecto_alargado  RelacionAspecto_redondeado  \n",
       "2                       True                       False  \n",
       "4                       True                       False  \n",
       "10                     False                        True  \n",
       "11                      True                       False  \n",
       "18                      True                       False  \n",
       "\n",
       "[5 rows x 21 columns]"
      ]
     },
     "execution_count": 1290,
     "metadata": {},
     "output_type": "execute_result"
    }
   ],
   "source": [
    "# Aplicar one-hot encoding a las columnas categóricas seleccionadas\n",
    "df_clean = pd.get_dummies(df_clean, columns=['MétodoSecado','RelacionAspecto'])\n",
    "\n",
    "# Mostrar el DataFrame resultante con las columnas codificadas\n",
    "df_clean.head()"
   ]
  },
  {
   "cell_type": "markdown",
   "id": "0f8a241d",
   "metadata": {},
   "source": [
    "## Modelo 1: K-MEANS"
   ]
  },
  {
   "cell_type": "code",
   "execution_count": 1291,
   "id": "49863fb0",
   "metadata": {},
   "outputs": [
    {
     "data": {
      "text/html": [
       "<div>\n",
       "<style scoped>\n",
       "    .dataframe tbody tr th:only-of-type {\n",
       "        vertical-align: middle;\n",
       "    }\n",
       "\n",
       "    .dataframe tbody tr th {\n",
       "        vertical-align: top;\n",
       "    }\n",
       "\n",
       "    .dataframe thead th {\n",
       "        text-align: right;\n",
       "    }\n",
       "</style>\n",
       "<table border=\"1\" class=\"dataframe\">\n",
       "  <thead>\n",
       "    <tr style=\"text-align: right;\">\n",
       "      <th></th>\n",
       "      <th>Area</th>\n",
       "      <th>Perimetro</th>\n",
       "      <th>LongitudEjeMayor</th>\n",
       "      <th>LongitudEjeMenor</th>\n",
       "      <th>Excentricidad</th>\n",
       "      <th>AreaConvexa</th>\n",
       "      <th>DiametroEquivalente</th>\n",
       "      <th>Medida</th>\n",
       "      <th>Solidez</th>\n",
       "      <th>Redondez</th>\n",
       "      <th>Compacidad</th>\n",
       "      <th>FactorForma1</th>\n",
       "      <th>FactorForma2</th>\n",
       "      <th>FactorForma3</th>\n",
       "      <th>FactorForma4</th>\n",
       "      <th>MétodoSecado_honey</th>\n",
       "      <th>MétodoSecado_lavado</th>\n",
       "      <th>MétodoSecado_natural</th>\n",
       "      <th>RelacionAspecto_alargado</th>\n",
       "      <th>RelacionAspecto_redondeado</th>\n",
       "    </tr>\n",
       "  </thead>\n",
       "  <tbody>\n",
       "    <tr>\n",
       "      <th>2</th>\n",
       "      <td>0.253847</td>\n",
       "      <td>0.698160</td>\n",
       "      <td>0.829169</td>\n",
       "      <td>-0.090470</td>\n",
       "      <td>1.205057</td>\n",
       "      <td>0.257867</td>\n",
       "      <td>0.411083</td>\n",
       "      <td>-1.860957</td>\n",
       "      <td>-0.574283</td>\n",
       "      <td>-1.864296</td>\n",
       "      <td>-1.472524</td>\n",
       "      <td>-0.069915</td>\n",
       "      <td>-1.187285</td>\n",
       "      <td>-1.399901</td>\n",
       "      <td>-0.901862</td>\n",
       "      <td>False</td>\n",
       "      <td>False</td>\n",
       "      <td>True</td>\n",
       "      <td>True</td>\n",
       "      <td>False</td>\n",
       "    </tr>\n",
       "    <tr>\n",
       "      <th>4</th>\n",
       "      <td>-0.467032</td>\n",
       "      <td>-0.095015</td>\n",
       "      <td>-0.665146</td>\n",
       "      <td>-0.244167</td>\n",
       "      <td>-0.700324</td>\n",
       "      <td>-0.469550</td>\n",
       "      <td>-0.493199</td>\n",
       "      <td>0.508676</td>\n",
       "      <td>0.415848</td>\n",
       "      <td>0.572772</td>\n",
       "      <td>0.840744</td>\n",
       "      <td>0.097680</td>\n",
       "      <td>0.758844</td>\n",
       "      <td>0.817078</td>\n",
       "      <td>0.574144</td>\n",
       "      <td>False</td>\n",
       "      <td>True</td>\n",
       "      <td>False</td>\n",
       "      <td>True</td>\n",
       "      <td>False</td>\n",
       "    </tr>\n",
       "    <tr>\n",
       "      <th>10</th>\n",
       "      <td>-0.445239</td>\n",
       "      <td>-0.115750</td>\n",
       "      <td>-0.872362</td>\n",
       "      <td>0.135803</td>\n",
       "      <td>-2.402495</td>\n",
       "      <td>-0.447953</td>\n",
       "      <td>-0.462772</td>\n",
       "      <td>0.438711</td>\n",
       "      <td>0.431071</td>\n",
       "      <td>1.098338</td>\n",
       "      <td>1.951634</td>\n",
       "      <td>-0.388927</td>\n",
       "      <td>1.674865</td>\n",
       "      <td>2.025145</td>\n",
       "      <td>0.751483</td>\n",
       "      <td>False</td>\n",
       "      <td>True</td>\n",
       "      <td>False</td>\n",
       "      <td>False</td>\n",
       "      <td>True</td>\n",
       "    </tr>\n",
       "    <tr>\n",
       "      <th>11</th>\n",
       "      <td>-0.464657</td>\n",
       "      <td>-2.374184</td>\n",
       "      <td>-0.625055</td>\n",
       "      <td>-0.290165</td>\n",
       "      <td>-0.509657</td>\n",
       "      <td>-0.466867</td>\n",
       "      <td>-0.489872</td>\n",
       "      <td>-0.534462</td>\n",
       "      <td>0.366401</td>\n",
       "      <td>0.239659</td>\n",
       "      <td>0.675505</td>\n",
       "      <td>0.164526</td>\n",
       "      <td>0.626480</td>\n",
       "      <td>0.645334</td>\n",
       "      <td>0.473784</td>\n",
       "      <td>False</td>\n",
       "      <td>False</td>\n",
       "      <td>True</td>\n",
       "      <td>True</td>\n",
       "      <td>False</td>\n",
       "    </tr>\n",
       "    <tr>\n",
       "      <th>18</th>\n",
       "      <td>-0.207437</td>\n",
       "      <td>0.190041</td>\n",
       "      <td>-0.129359</td>\n",
       "      <td>-0.166551</td>\n",
       "      <td>0.272224</td>\n",
       "      <td>-0.210456</td>\n",
       "      <td>-0.145058</td>\n",
       "      <td>-0.641095</td>\n",
       "      <td>0.330445</td>\n",
       "      <td>-0.345527</td>\n",
       "      <td>-0.133961</td>\n",
       "      <td>0.016503</td>\n",
       "      <td>-0.204059</td>\n",
       "      <td>-0.166247</td>\n",
       "      <td>-0.364457</td>\n",
       "      <td>False</td>\n",
       "      <td>False</td>\n",
       "      <td>True</td>\n",
       "      <td>True</td>\n",
       "      <td>False</td>\n",
       "    </tr>\n",
       "  </tbody>\n",
       "</table>\n",
       "</div>"
      ],
      "text/plain": [
       "        Area  Perimetro  LongitudEjeMayor  LongitudEjeMenor  Excentricidad  \\\n",
       "2   0.253847   0.698160          0.829169         -0.090470       1.205057   \n",
       "4  -0.467032  -0.095015         -0.665146         -0.244167      -0.700324   \n",
       "10 -0.445239  -0.115750         -0.872362          0.135803      -2.402495   \n",
       "11 -0.464657  -2.374184         -0.625055         -0.290165      -0.509657   \n",
       "18 -0.207437   0.190041         -0.129359         -0.166551       0.272224   \n",
       "\n",
       "    AreaConvexa  DiametroEquivalente    Medida   Solidez  Redondez  \\\n",
       "2      0.257867             0.411083 -1.860957 -0.574283 -1.864296   \n",
       "4     -0.469550            -0.493199  0.508676  0.415848  0.572772   \n",
       "10    -0.447953            -0.462772  0.438711  0.431071  1.098338   \n",
       "11    -0.466867            -0.489872 -0.534462  0.366401  0.239659   \n",
       "18    -0.210456            -0.145058 -0.641095  0.330445 -0.345527   \n",
       "\n",
       "    Compacidad  FactorForma1  FactorForma2  FactorForma3  FactorForma4  \\\n",
       "2    -1.472524     -0.069915     -1.187285     -1.399901     -0.901862   \n",
       "4     0.840744      0.097680      0.758844      0.817078      0.574144   \n",
       "10    1.951634     -0.388927      1.674865      2.025145      0.751483   \n",
       "11    0.675505      0.164526      0.626480      0.645334      0.473784   \n",
       "18   -0.133961      0.016503     -0.204059     -0.166247     -0.364457   \n",
       "\n",
       "    MétodoSecado_honey  MétodoSecado_lavado  MétodoSecado_natural  \\\n",
       "2                False                False                  True   \n",
       "4                False                 True                 False   \n",
       "10               False                 True                 False   \n",
       "11               False                False                  True   \n",
       "18               False                False                  True   \n",
       "\n",
       "    RelacionAspecto_alargado  RelacionAspecto_redondeado  \n",
       "2                       True                       False  \n",
       "4                       True                       False  \n",
       "10                     False                        True  \n",
       "11                      True                       False  \n",
       "18                      True                       False  "
      ]
     },
     "execution_count": 1291,
     "metadata": {},
     "output_type": "execute_result"
    }
   ],
   "source": [
    "df = df_clean.copy()\n",
    "df.drop(columns=['ID'], inplace=True)\n",
    "\n",
    "import pandas as pd\n",
    "from sklearn.cluster import KMeans\n",
    "from sklearn.metrics import silhouette_score\n",
    "import matplotlib.pyplot as plt\n",
    "df.head()"
   ]
  },
  {
   "cell_type": "markdown",
   "id": "c40f2b8e",
   "metadata": {},
   "source": [
    "# Elección de # de clusters"
   ]
  },
  {
   "cell_type": "code",
   "execution_count": 1292,
   "id": "641ec4a4",
   "metadata": {},
   "outputs": [
    {
     "data": {
      "image/png": "[encoded data removed]",
      "text/plain": [
       "<Figure size 640x480 with 1 Axes>"
      ]
     },
     "metadata": {},
     "output_type": "display_data"
    }
   ],
   "source": [
    "X = df.values \n",
    "inertia = []\n",
    "K = range(2, 11)  \n",
    "\n",
    "for k in K:\n",
    "    kmeans = KMeans(n_clusters=k, random_state=42)\n",
    "    kmeans.fit(X)\n",
    "    inertia.append(kmeans.inertia_)\n",
    "\n",
    "plt.plot(K, inertia, 'bx-')\n",
    "plt.xlabel(\"Número de clusters (k)\")\n",
    "plt.ylabel(\"Inercia (Suma de distancias al centroide)\")\n",
    "plt.title(\"Método del Codo\")\n",
    "plt.show()\n",
    "\n"
   ]
  },
  {
   "cell_type": "code",
   "execution_count": 1293,
   "id": "3885af15",
   "metadata": {},
   "outputs": [
    {
     "data": {
      "image/png": "[encoded data removed]",
      "text/plain": [
       "<Figure size 640x480 with 1 Axes>"
      ]
     },
     "metadata": {},
     "output_type": "display_data"
    }
   ],
   "source": [
    "silhouette_scores = []\n",
    "for k in range(2, 11):\n",
    "    kmeans = KMeans(n_clusters=k, random_state=42)\n",
    "    labels = kmeans.fit_predict(X)\n",
    "    score = silhouette_score(X, labels)\n",
    "    silhouette_scores.append(score)\n",
    "\n",
    "plt.plot(range(2, 11), silhouette_scores, 'bo-')\n",
    "plt.xlabel(\"Número de clusters (k)\")\n",
    "plt.ylabel(\"Coeficiente de Silueta\")\n",
    "plt.title(\"Análisis de Silueta\")\n",
    "plt.show()\n"
   ]
  },
  {
   "cell_type": "markdown",
   "id": "32d1cf34",
   "metadata": {},
   "source": [
    "# Entrenamiento"
   ]
  },
  {
   "cell_type": "code",
   "execution_count": 1294,
   "id": "dac0d863",
   "metadata": {},
   "outputs": [
    {
     "name": "stdout",
     "output_type": "stream",
     "text": [
      "Centroides de los clusters:\n",
      " [[-5.37746345e-01 -3.99936977e-01 -7.01862507e-01 -4.43344063e-01\n",
      "  -5.52504554e-01 -5.39896457e-01 -6.09794485e-01  1.85246378e-01\n",
      "   3.89462124e-01  6.83084363e-01  6.04824555e-01  4.66478153e-01\n",
      "   7.41839662e-01  5.92311625e-01  4.63065384e-01  9.01269971e-03\n",
      "   6.40721016e-01  3.50266284e-01  7.73453503e-01  2.26546497e-01]\n",
      " [ 3.58084052e-01  3.61955609e-01  6.70212148e-01  2.54472036e-01\n",
      "   7.36664946e-01  3.61825498e-01  4.99328875e-01 -3.01820960e-01\n",
      "  -5.28069172e-01 -9.21055003e-01 -8.17211330e-01 -3.84455645e-01\n",
      "  -8.81054017e-01 -7.97888291e-01 -5.64168008e-01  5.60224090e-04\n",
      "   4.73389356e-01  5.26050420e-01  9.98319328e-01  1.68067227e-03]\n",
      " [ 4.13164906e+00  2.02549323e+00  3.17127421e+00  3.85257837e+00\n",
      "   2.06850842e-01  4.12287570e+00  3.66384230e+00  5.31067513e-01\n",
      "  -4.95311185e-02 -1.43102756e-01 -1.08309902e-01 -2.77558187e+00\n",
      "  -1.46103801e+00 -1.32528079e-01 -7.56458332e-01 -2.60208521e-18\n",
      "   7.60736196e-01  2.39263804e-01  9.93865031e-01  6.13496933e-03]]\n"
     ]
    }
   ],
   "source": [
    "kmeans = KMeans(init='k-means++',n_init=50,n_clusters=3, random_state=42)\n",
    "labels = kmeans.fit_predict(X)\n",
    "\n",
    "# Agregar etiquetas al DataFrame original\n",
    "df[\"Cluster\"] = labels\n",
    "centroids = kmeans.cluster_centers_\n",
    "print(\"Centroides de los clusters:\\n\", centroids)\n"
   ]
  },
  {
   "cell_type": "code",
   "execution_count": 1295,
   "id": "328df6d4",
   "metadata": {},
   "outputs": [
    {
     "name": "stdout",
     "output_type": "stream",
     "text": [
      "Cluster\n",
      "0    2440\n",
      "1    1786\n",
      "2     163\n",
      "Name: count, dtype: int64\n"
     ]
    }
   ],
   "source": [
    "print(df[\"Cluster\"].value_counts())"
   ]
  },
  {
   "cell_type": "code",
   "execution_count": 1296,
   "id": "420a0137",
   "metadata": {},
   "outputs": [
    {
     "data": {
      "image/png": "[encoded data removed]",
      "text/plain": [
       "<Figure size 640x480 with 1 Axes>"
      ]
     },
     "metadata": {},
     "output_type": "display_data"
    }
   ],
   "source": [
    "from sklearn.decomposition import PCA\n",
    "\n",
    "pca = PCA(n_components=2)\n",
    "X_pca = pca.fit_transform(X)\n",
    "\n",
    "plt.scatter(X_pca[:,0], X_pca[:,1], c=labels, cmap='viridis')\n",
    "plt.scatter(pca.transform(centroids)[:,0], pca.transform(centroids)[:,1], \n",
    "            c='red', marker='X', s=200, label='Centroides')\n",
    "plt.legend()\n",
    "plt.title(\"Clusters en 2D con PCA\")\n",
    "plt.show()\n"
   ]
  },
  {
   "cell_type": "code",
   "execution_count": 1297,
   "id": "91b6761a",
   "metadata": {},
   "outputs": [
    {
     "name": "stdout",
     "output_type": "stream",
     "text": [
      "Coeficiente de silueta: 0.358\n"
     ]
    }
   ],
   "source": [
    "from sklearn.metrics import silhouette_score\n",
    "\n",
    "# Calcula el coeficiente de silueta para los clusters encontrados\n",
    "score = silhouette_score(X, labels)\n",
    "print(f\"Coeficiente de silueta: {score:.3f}\")"
   ]
  },
  {
   "cell_type": "markdown",
   "id": "e278ae95",
   "metadata": {},
   "source": [
    "## Hiperparámetros\n",
    "\n",
    "Para los hiperparámetros principales: el número de clusters se eligió usando el coeficiente de silueta.\n",
    "\n",
    "| Número de clusters | Coeficiente de silueta |\n",
    "|--------------------|------------------------|\n",
    "|         2          |         0.356          |\n",
    "|         3          |             0.358           |\n",
    "|         4          |         0.316               |"
   ]
  },
  {
   "cell_type": "markdown",
   "id": "76717c97",
   "metadata": {},
   "source": []
  }
 ],
 "metadata": {
  "kernelspec": {
   "display_name": "base",
   "language": "python",
   "name": "python3"
  },
  "language_info": {
   "codemirror_mode": {
    "name": "ipython",
    "version": 3
   },
   "file_extension": ".py",
   "mimetype": "text/x-python",
   "name": "python",
   "nbconvert_exporter": "python",
   "pygments_lexer": "ipython3",
   "version": "3.13.5"
  }
 },
 "nbformat": 4,
 "nbformat_minor": 5
}
