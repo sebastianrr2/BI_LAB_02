{
 "cells": [
  {
   "cell_type": "markdown",
   "id": "8a77807f92f26ee",
   "metadata": {},
   "source": [
    "# Laboratorio 2 - BI\n",
    "\n",
    "| ID | Nombre            | Código        | Correo                        |\n",
    "|----|-------------------|---------------|-------------------------------|\n",
    "| 1  | Adrian Velasquez  | 202222737     | a.velasquezs@uniandes.edu.co  |\n",
    "| 2  | Andres Molano     | 202215460     | a.molanob@uniandes.edu.co     |\n",
    "| 3  | Sebastian Ramirez | 202123415     | s.ramirez112@uniandes.edu.co  |"
   ]
  },
  {
   "cell_type": "code",
   "execution_count": 1038,
   "id": "d55cc46cf8cab755",
   "metadata": {
    "ExecuteTime": {
     "end_time": "2025-09-17T22:14:47.576248Z",
     "start_time": "2025-09-17T22:14:47.574608Z"
    }
   },
   "outputs": [],
   "source": [
    "import pandas as pd\n",
    "import matplotlib.pyplot as plt\n",
    "import numpy as np\n",
    "import seaborn as sns"
   ]
  },
  {
   "cell_type": "code",
   "execution_count": 1039,
   "id": "5d94cea613489416",
   "metadata": {
    "ExecuteTime": {
     "end_time": "2025-09-17T22:14:47.604197Z",
     "start_time": "2025-09-17T22:14:47.586921Z"
    }
   },
   "outputs": [
    {
     "data": {
      "text/plain": [
       "(14291, 16)"
      ]
     },
     "execution_count": 1039,
     "metadata": {},
     "output_type": "execute_result"
    }
   ],
   "source": [
    "TRAIN = \"data/train.csv\"\n",
    "df_original = pd.read_csv(TRAIN)\n",
    "df_original.head()\n",
    "df_original.shape"
   ]
  },
  {
   "cell_type": "code",
   "execution_count": 1040,
   "id": "218a6180f1651c58",
   "metadata": {
    "ExecuteTime": {
     "end_time": "2025-09-17T22:14:47.625147Z",
     "start_time": "2025-09-17T22:14:47.623694Z"
    }
   },
   "outputs": [
    {
     "name": "stdout",
     "output_type": "stream",
     "text": [
      "tamaño original: 14291\n",
      "columnas original: 16\n"
     ]
    }
   ],
   "source": [
    "size_og, cols_og = df_original.shape\n",
    "print(f\"tamaño original: {size_og}\\ncolumnas original: {cols_og}\")"
   ]
  },
  {
   "cell_type": "code",
   "execution_count": 1041,
   "id": "2d129ed71601f8f8",
   "metadata": {
    "ExecuteTime": {
     "end_time": "2025-09-17T22:14:47.653442Z",
     "start_time": "2025-09-17T22:14:47.651866Z"
    }
   },
   "outputs": [],
   "source": [
    "cat_cols = df_original.select_dtypes(include=\"object\")\n",
    "num_cols = df_original.select_dtypes(include=\"number\")"
   ]
  },
  {
   "cell_type": "code",
   "execution_count": 1042,
   "id": "29d25691da547d3d",
   "metadata": {
    "ExecuteTime": {
     "end_time": "2025-09-17T22:14:58.454698Z",
     "start_time": "2025-09-17T22:14:58.451897Z"
    }
   },
   "outputs": [
    {
     "name": "stdout",
     "output_type": "stream",
     "text": [
      "<class 'pandas.core.frame.DataFrame'>\n",
      "RangeIndex: 14291 entries, 0 to 14290\n",
      "Empty DataFrame\n"
     ]
    }
   ],
   "source": [
    "cat_cols.info()"
   ]
  },
  {
   "cell_type": "code",
   "execution_count": 1043,
   "id": "e738758512c3a0ed",
   "metadata": {
    "ExecuteTime": {
     "end_time": "2025-09-17T22:14:47.662891Z",
     "start_time": "2025-09-17T22:14:47.659859Z"
    }
   },
   "outputs": [
    {
     "name": "stdout",
     "output_type": "stream",
     "text": [
      "<class 'pandas.core.frame.DataFrame'>\n",
      "RangeIndex: 14291 entries, 0 to 14290\n",
      "Data columns (total 16 columns):\n",
      " #   Column               Non-Null Count  Dtype  \n",
      "---  ------               --------------  -----  \n",
      " 0   Area                 13381 non-null  float64\n",
      " 1   Perimetro            14291 non-null  float64\n",
      " 2   LongitudEjeMayor     13361 non-null  float64\n",
      " 3   LongitudEjeMenor     13365 non-null  float64\n",
      " 4   RelacionAspecto      13608 non-null  float64\n",
      " 5   Excentricidad        14291 non-null  float64\n",
      " 6   AreaConvexa          14291 non-null  int64  \n",
      " 7   DiametroEquivalente  14291 non-null  float64\n",
      " 8   Medida               14291 non-null  float64\n",
      " 9   Solidez              12991 non-null  float64\n",
      " 10  Redondez             11729 non-null  float64\n",
      " 11  Compacidad           12845 non-null  float64\n",
      " 12  FactorForma1         14291 non-null  float64\n",
      " 13  FactorForma2         14291 non-null  float64\n",
      " 14  FactorForma3         14291 non-null  float64\n",
      " 15  FactorForma4         14291 non-null  float64\n",
      "dtypes: float64(15), int64(1)\n",
      "memory usage: 1.7 MB\n"
     ]
    }
   ],
   "source": [
    "num_cols.info()"
   ]
  },
  {
   "cell_type": "code",
   "execution_count": 1044,
   "id": "f1d9a98b23be07a7",
   "metadata": {
    "ExecuteTime": {
     "end_time": "2025-09-17T22:15:44.413473Z",
     "start_time": "2025-09-17T22:15:44.407536Z"
    }
   },
   "outputs": [
    {
     "name": "stdout",
     "output_type": "stream",
     "text": [
      "<class 'pandas.core.frame.DataFrame'>\n",
      "RangeIndex: 14291 entries, 0 to 14290\n",
      "Data columns (total 16 columns):\n",
      " #   Column               Non-Null Count  Dtype  \n",
      "---  ------               --------------  -----  \n",
      " 0   Area                 13381 non-null  float64\n",
      " 1   Perimetro            14291 non-null  float64\n",
      " 2   LongitudEjeMayor     13361 non-null  float64\n",
      " 3   LongitudEjeMenor     13365 non-null  float64\n",
      " 4   RelacionAspecto      13608 non-null  float64\n",
      " 5   Excentricidad        14291 non-null  float64\n",
      " 6   AreaConvexa          14291 non-null  int64  \n",
      " 7   DiametroEquivalente  14291 non-null  float64\n",
      " 8   Medida               14291 non-null  float64\n",
      " 9   Solidez              12991 non-null  float64\n",
      " 10  Redondez             11729 non-null  float64\n",
      " 11  Compacidad           12845 non-null  float64\n",
      " 12  FactorForma1         14291 non-null  float64\n",
      " 13  FactorForma2         14291 non-null  float64\n",
      " 14  FactorForma3         14291 non-null  float64\n",
      " 15  FactorForma4         14291 non-null  float64\n",
      "dtypes: float64(15), int64(1)\n",
      "memory usage: 1.7 MB\n"
     ]
    }
   ],
   "source": [
    "df_original.info()"
   ]
  },
  {
   "cell_type": "code",
   "execution_count": 1045,
   "id": "fdecaee05b5d6be9",
   "metadata": {
    "ExecuteTime": {
     "end_time": "2025-09-17T22:16:37.996162Z",
     "start_time": "2025-09-17T22:16:37.991612Z"
    }
   },
   "outputs": [
    {
     "data": {
      "text/plain": [
       "Area                    910\n",
       "Perimetro                 0\n",
       "LongitudEjeMayor        930\n",
       "LongitudEjeMenor        926\n",
       "RelacionAspecto         683\n",
       "Excentricidad             0\n",
       "AreaConvexa               0\n",
       "DiametroEquivalente       0\n",
       "Medida                    0\n",
       "Solidez                1300\n",
       "Redondez               2562\n",
       "Compacidad             1446\n",
       "FactorForma1              0\n",
       "FactorForma2              0\n",
       "FactorForma3              0\n",
       "FactorForma4              0\n",
       "dtype: int64"
      ]
     },
     "execution_count": 1045,
     "metadata": {},
     "output_type": "execute_result"
    }
   ],
   "source": [
    "df_original.isnull().sum()"
   ]
  },
  {
   "cell_type": "code",
   "execution_count": 1046,
   "id": "e8a3ef1f9eb934a8",
   "metadata": {
    "ExecuteTime": {
     "end_time": "2025-09-17T22:14:47.751326Z",
     "start_time": "2025-09-17T22:14:47.745478Z"
    }
   },
   "outputs": [
    {
     "name": "stdout",
     "output_type": "stream",
     "text": [
      "duplicados totales: 692\n"
     ]
    }
   ],
   "source": [
    "dupes = df_original.duplicated().sum()\n",
    "print(f\"duplicados totales: {dupes}\")"
   ]
  },
  {
   "cell_type": "code",
   "execution_count": 1047,
   "id": "a73d9ca6",
   "metadata": {},
   "outputs": [
    {
     "data": {
      "text/plain": [
       "(14291, 16)"
      ]
     },
     "execution_count": 1047,
     "metadata": {},
     "output_type": "execute_result"
    }
   ],
   "source": [
    "df_original.shape"
   ]
  },
  {
   "cell_type": "markdown",
   "id": "c1b45d00",
   "metadata": {},
   "source": [
    "## Validez"
   ]
  },
  {
   "cell_type": "code",
   "execution_count": 1048,
   "id": "9e3138c0",
   "metadata": {},
   "outputs": [
    {
     "data": {
      "text/plain": [
       "count     13381.000000\n",
       "mean      53110.818250\n",
       "std       29415.098108\n",
       "min      -77622.000000\n",
       "25%       36351.000000\n",
       "50%       44738.000000\n",
       "75%       61608.000000\n",
       "max      254616.000000\n",
       "Name: Area, dtype: float64"
      ]
     },
     "execution_count": 1048,
     "metadata": {},
     "output_type": "execute_result"
    }
   ],
   "source": [
    "df_original[\"Area\"].describe()\n"
   ]
  },
  {
   "cell_type": "code",
   "execution_count": 1049,
   "id": "de0829c7",
   "metadata": {},
   "outputs": [
    {
     "data": {
      "text/html": [
       "<div>\n",
       "<style scoped>\n",
       "    .dataframe tbody tr th:only-of-type {\n",
       "        vertical-align: middle;\n",
       "    }\n",
       "\n",
       "    .dataframe tbody tr th {\n",
       "        vertical-align: top;\n",
       "    }\n",
       "\n",
       "    .dataframe thead th {\n",
       "        text-align: right;\n",
       "    }\n",
       "</style>\n",
       "<table border=\"1\" class=\"dataframe\">\n",
       "  <thead>\n",
       "    <tr style=\"text-align: right;\">\n",
       "      <th></th>\n",
       "      <th>Area</th>\n",
       "      <th>Perimetro</th>\n",
       "      <th>LongitudEjeMayor</th>\n",
       "      <th>LongitudEjeMenor</th>\n",
       "      <th>RelacionAspecto</th>\n",
       "      <th>Excentricidad</th>\n",
       "      <th>AreaConvexa</th>\n",
       "      <th>DiametroEquivalente</th>\n",
       "      <th>Medida</th>\n",
       "      <th>Solidez</th>\n",
       "      <th>Redondez</th>\n",
       "      <th>Compacidad</th>\n",
       "      <th>FactorForma1</th>\n",
       "      <th>FactorForma2</th>\n",
       "      <th>FactorForma3</th>\n",
       "      <th>FactorForma4</th>\n",
       "    </tr>\n",
       "  </thead>\n",
       "  <tbody>\n",
       "    <tr>\n",
       "      <th>996</th>\n",
       "      <td>-77622.0</td>\n",
       "      <td>1072203.0</td>\n",
       "      <td>420.789767</td>\n",
       "      <td>238.097277</td>\n",
       "      <td>1.767302</td>\n",
       "      <td>0.824519</td>\n",
       "      <td>79514</td>\n",
       "      <td>314.374617</td>\n",
       "      <td>0.744254</td>\n",
       "      <td>0.976205</td>\n",
       "      <td>0.848478</td>\n",
       "      <td>0.747106</td>\n",
       "      <td>0.005421</td>\n",
       "      <td>0.001042</td>\n",
       "      <td>0.558168</td>\n",
       "      <td>0.986451</td>\n",
       "    </tr>\n",
       "    <tr>\n",
       "      <th>997</th>\n",
       "      <td>-46442.0</td>\n",
       "      <td>815309.0</td>\n",
       "      <td>306.445157</td>\n",
       "      <td>193.482477</td>\n",
       "      <td>NaN</td>\n",
       "      <td>0.775476</td>\n",
       "      <td>47004</td>\n",
       "      <td>243.170292</td>\n",
       "      <td>0.723396</td>\n",
       "      <td>0.988044</td>\n",
       "      <td>0.877963</td>\n",
       "      <td>0.793520</td>\n",
       "      <td>0.006598</td>\n",
       "      <td>0.001614</td>\n",
       "      <td>0.629674</td>\n",
       "      <td>0.997302</td>\n",
       "    </tr>\n",
       "    <tr>\n",
       "      <th>998</th>\n",
       "      <td>-33556.0</td>\n",
       "      <td>689294.0</td>\n",
       "      <td>264.630743</td>\n",
       "      <td>161.705471</td>\n",
       "      <td>1.636498</td>\n",
       "      <td>0.791584</td>\n",
       "      <td>33892</td>\n",
       "      <td>206.699846</td>\n",
       "      <td>0.774072</td>\n",
       "      <td>0.990086</td>\n",
       "      <td>0.887506</td>\n",
       "      <td>NaN</td>\n",
       "      <td>0.007886</td>\n",
       "      <td>0.001811</td>\n",
       "      <td>0.610098</td>\n",
       "      <td>0.998425</td>\n",
       "    </tr>\n",
       "    <tr>\n",
       "      <th>999</th>\n",
       "      <td>-43303.0</td>\n",
       "      <td>762695.0</td>\n",
       "      <td>265.164283</td>\n",
       "      <td>208.437374</td>\n",
       "      <td>1.272153</td>\n",
       "      <td>0.618139</td>\n",
       "      <td>43727</td>\n",
       "      <td>234.808628</td>\n",
       "      <td>0.749576</td>\n",
       "      <td>0.990303</td>\n",
       "      <td>NaN</td>\n",
       "      <td>0.885521</td>\n",
       "      <td>0.006123</td>\n",
       "      <td>0.002323</td>\n",
       "      <td>0.784148</td>\n",
       "      <td>0.997556</td>\n",
       "    </tr>\n",
       "    <tr>\n",
       "      <th>1000</th>\n",
       "      <td>-46892.0</td>\n",
       "      <td>834759.0</td>\n",
       "      <td>330.650375</td>\n",
       "      <td>181.543648</td>\n",
       "      <td>1.821327</td>\n",
       "      <td>0.835789</td>\n",
       "      <td>47506</td>\n",
       "      <td>244.345552</td>\n",
       "      <td>0.712255</td>\n",
       "      <td>0.987075</td>\n",
       "      <td>0.845642</td>\n",
       "      <td>NaN</td>\n",
       "      <td>0.007051</td>\n",
       "      <td>0.001297</td>\n",
       "      <td>0.546098</td>\n",
       "      <td>0.994624</td>\n",
       "    </tr>\n",
       "  </tbody>\n",
       "</table>\n",
       "</div>"
      ],
      "text/plain": [
       "         Area  Perimetro  LongitudEjeMayor  LongitudEjeMenor  RelacionAspecto  \\\n",
       "996  -77622.0  1072203.0        420.789767        238.097277         1.767302   \n",
       "997  -46442.0   815309.0        306.445157        193.482477              NaN   \n",
       "998  -33556.0   689294.0        264.630743        161.705471         1.636498   \n",
       "999  -43303.0   762695.0        265.164283        208.437374         1.272153   \n",
       "1000 -46892.0   834759.0        330.650375        181.543648         1.821327   \n",
       "\n",
       "      Excentricidad  AreaConvexa  DiametroEquivalente    Medida   Solidez  \\\n",
       "996        0.824519        79514           314.374617  0.744254  0.976205   \n",
       "997        0.775476        47004           243.170292  0.723396  0.988044   \n",
       "998        0.791584        33892           206.699846  0.774072  0.990086   \n",
       "999        0.618139        43727           234.808628  0.749576  0.990303   \n",
       "1000       0.835789        47506           244.345552  0.712255  0.987075   \n",
       "\n",
       "      Redondez  Compacidad  FactorForma1  FactorForma2  FactorForma3  \\\n",
       "996   0.848478    0.747106      0.005421      0.001042      0.558168   \n",
       "997   0.877963    0.793520      0.006598      0.001614      0.629674   \n",
       "998   0.887506         NaN      0.007886      0.001811      0.610098   \n",
       "999        NaN    0.885521      0.006123      0.002323      0.784148   \n",
       "1000  0.845642         NaN      0.007051      0.001297      0.546098   \n",
       "\n",
       "      FactorForma4  \n",
       "996       0.986451  \n",
       "997       0.997302  \n",
       "998       0.998425  \n",
       "999       0.997556  \n",
       "1000      0.994624  "
      ]
     },
     "execution_count": 1049,
     "metadata": {},
     "output_type": "execute_result"
    }
   ],
   "source": [
    "# Mostrar filas donde 'Area' es menor a 0\n",
    "df_original[df_original[\"Area\"] < 0]"
   ]
  },
  {
   "cell_type": "code",
   "execution_count": 1050,
   "id": "570f7aec",
   "metadata": {},
   "outputs": [
    {
     "data": {
      "text/html": [
       "<div>\n",
       "<style scoped>\n",
       "    .dataframe tbody tr th:only-of-type {\n",
       "        vertical-align: middle;\n",
       "    }\n",
       "\n",
       "    .dataframe tbody tr th {\n",
       "        vertical-align: top;\n",
       "    }\n",
       "\n",
       "    .dataframe thead th {\n",
       "        text-align: right;\n",
       "    }\n",
       "</style>\n",
       "<table border=\"1\" class=\"dataframe\">\n",
       "  <thead>\n",
       "    <tr style=\"text-align: right;\">\n",
       "      <th></th>\n",
       "      <th>Area</th>\n",
       "      <th>Perimetro</th>\n",
       "      <th>LongitudEjeMayor</th>\n",
       "      <th>LongitudEjeMenor</th>\n",
       "      <th>RelacionAspecto</th>\n",
       "      <th>Excentricidad</th>\n",
       "      <th>AreaConvexa</th>\n",
       "      <th>DiametroEquivalente</th>\n",
       "      <th>Medida</th>\n",
       "      <th>Solidez</th>\n",
       "      <th>Redondez</th>\n",
       "      <th>Compacidad</th>\n",
       "      <th>FactorForma1</th>\n",
       "      <th>FactorForma2</th>\n",
       "      <th>FactorForma3</th>\n",
       "      <th>FactorForma4</th>\n",
       "    </tr>\n",
       "  </thead>\n",
       "  <tbody>\n",
       "  </tbody>\n",
       "</table>\n",
       "</div>"
      ],
      "text/plain": [
       "Empty DataFrame\n",
       "Columns: [Area, Perimetro, LongitudEjeMayor, LongitudEjeMenor, RelacionAspecto, Excentricidad, AreaConvexa, DiametroEquivalente, Medida, Solidez, Redondez, Compacidad, FactorForma1, FactorForma2, FactorForma3, FactorForma4]\n",
       "Index: []"
      ]
     },
     "execution_count": 1050,
     "metadata": {},
     "output_type": "execute_result"
    }
   ],
   "source": [
    "# Eliminar filas donde 'Area' es menor a 0\n",
    "df_original = df_original[df_original[\"Area\"] >= 0]\n",
    "df_original[df_original[\"Area\"] < 0]"
   ]
  },
  {
   "cell_type": "code",
   "execution_count": 1051,
   "id": "ce9111a6",
   "metadata": {},
   "outputs": [
    {
     "data": {
      "text/plain": [
       "count     13376.000000\n",
       "mean      53859.850404\n",
       "std       29824.813823\n",
       "min      -38038.000000\n",
       "25%       36738.750000\n",
       "50%       45291.500000\n",
       "75%       62622.500000\n",
       "max      263261.000000\n",
       "Name: AreaConvexa, dtype: float64"
      ]
     },
     "execution_count": 1051,
     "metadata": {},
     "output_type": "execute_result"
    }
   ],
   "source": [
    "df_original[\"AreaConvexa\"].describe()"
   ]
  },
  {
   "cell_type": "code",
   "execution_count": 1052,
   "id": "9980ca85",
   "metadata": {},
   "outputs": [
    {
     "data": {
      "text/plain": [
       "count     13374.000000\n",
       "mean      53873.337521\n",
       "std       29806.634512\n",
       "min       20684.000000\n",
       "25%       36746.000000\n",
       "50%       45293.000000\n",
       "75%       62625.500000\n",
       "max      263261.000000\n",
       "Name: AreaConvexa, dtype: float64"
      ]
     },
     "execution_count": 1052,
     "metadata": {},
     "output_type": "execute_result"
    }
   ],
   "source": [
    "# Eliminar filas donde  es menor a 0\n",
    "df_original = df_original[df_original[\"AreaConvexa\"] >= 0]\n",
    "df_original[\"AreaConvexa\"].describe()"
   ]
  },
  {
   "cell_type": "code",
   "execution_count": 1053,
   "id": "a999117a",
   "metadata": {},
   "outputs": [
    {
     "data": {
      "text/plain": [
       "count    12023.000000\n",
       "mean         0.799270\n",
       "std          0.071517\n",
       "min         -0.886125\n",
       "25%          0.762149\n",
       "50%          0.801475\n",
       "75%          0.834534\n",
       "max          0.987303\n",
       "Name: Compacidad, dtype: float64"
      ]
     },
     "execution_count": 1053,
     "metadata": {},
     "output_type": "execute_result"
    }
   ],
   "source": [
    "df_original[\"Compacidad\"].describe()"
   ]
  },
  {
   "cell_type": "code",
   "execution_count": 1054,
   "id": "696d6d70",
   "metadata": {},
   "outputs": [
    {
     "data": {
      "text/plain": [
       "count    12017.000000\n",
       "mean         0.800074\n",
       "std          0.061808\n",
       "min          0.640577\n",
       "25%          0.762249\n",
       "50%          0.801505\n",
       "75%          0.834562\n",
       "max          0.987303\n",
       "Name: Compacidad, dtype: float64"
      ]
     },
     "execution_count": 1054,
     "metadata": {},
     "output_type": "execute_result"
    }
   ],
   "source": [
    "# Eliminar filas donde es menor a 0\n",
    "df_original = df_original[df_original[\"Compacidad\"] >= 0]\n",
    "df_original[\"Compacidad\"].describe()"
   ]
  },
  {
   "cell_type": "code",
   "execution_count": 1055,
   "id": "dda7fdff",
   "metadata": {},
   "outputs": [
    {
     "data": {
      "text/plain": [
       "count    12017.000000\n",
       "mean       253.259268\n",
       "std         59.346568\n",
       "min       -271.627843\n",
       "25%        215.165664\n",
       "50%        238.779536\n",
       "75%        280.213150\n",
       "max        569.374358\n",
       "Name: DiametroEquivalente, dtype: float64"
      ]
     },
     "execution_count": 1055,
     "metadata": {},
     "output_type": "execute_result"
    }
   ],
   "source": [
    "df_original[\"DiametroEquivalente\"].describe()"
   ]
  },
  {
   "cell_type": "code",
   "execution_count": 1056,
   "id": "60f3ed52",
   "metadata": {},
   "outputs": [
    {
     "data": {
      "text/plain": [
       "count    12016.000000\n",
       "mean       253.302950\n",
       "std         59.155525\n",
       "min        161.243764\n",
       "25%        215.167883\n",
       "50%        238.782202\n",
       "75%        280.214286\n",
       "max        569.374358\n",
       "Name: DiametroEquivalente, dtype: float64"
      ]
     },
     "execution_count": 1056,
     "metadata": {},
     "output_type": "execute_result"
    }
   ],
   "source": [
    "df_original = df_original[df_original[\"DiametroEquivalente\"] >= 0]\n",
    "df_original[\"DiametroEquivalente\"].describe()"
   ]
  },
  {
   "cell_type": "code",
   "execution_count": 1057,
   "id": "f03718e1",
   "metadata": {},
   "outputs": [
    {
     "data": {
      "text/plain": [
       "count    12016.000000\n",
       "mean         0.749883\n",
       "std          0.097286\n",
       "min         -0.883505\n",
       "25%          0.714992\n",
       "50%          0.763974\n",
       "75%          0.810629\n",
       "max          0.911423\n",
       "Name: Excentricidad, dtype: float64"
      ]
     },
     "execution_count": 1057,
     "metadata": {},
     "output_type": "execute_result"
    }
   ],
   "source": [
    "df_original[\"Excentricidad\"].describe()"
   ]
  },
  {
   "cell_type": "code",
   "execution_count": 1058,
   "id": "883d7939",
   "metadata": {},
   "outputs": [
    {
     "data": {
      "text/plain": [
       "count    12011.000000\n",
       "mean         0.750515\n",
       "std          0.092232\n",
       "min          0.218951\n",
       "25%          0.715072\n",
       "50%          0.763997\n",
       "75%          0.810644\n",
       "max          0.911423\n",
       "Name: Excentricidad, dtype: float64"
      ]
     },
     "execution_count": 1058,
     "metadata": {},
     "output_type": "execute_result"
    }
   ],
   "source": [
    "df_original = df_original[df_original[\"Excentricidad\"] >= 0]\n",
    "df_original[\"Excentricidad\"].describe()"
   ]
  },
  {
   "cell_type": "code",
   "execution_count": 1059,
   "id": "3af91d62",
   "metadata": {},
   "outputs": [
    {
     "data": {
      "text/plain": [
       "count    12011.000000\n",
       "mean         0.006552\n",
       "std          0.001146\n",
       "min         -0.007527\n",
       "25%          0.005883\n",
       "50%          0.006636\n",
       "75%          0.007264\n",
       "max          0.010451\n",
       "Name: FactorForma1, dtype: float64"
      ]
     },
     "execution_count": 1059,
     "metadata": {},
     "output_type": "execute_result"
    }
   ],
   "source": [
    "df_original[\"FactorForma1\"].describe()"
   ]
  },
  {
   "cell_type": "code",
   "execution_count": 1060,
   "id": "95482dbf",
   "metadata": {},
   "outputs": [
    {
     "data": {
      "text/plain": [
       "count    12008.000000\n",
       "mean         0.006556\n",
       "std          0.001128\n",
       "min          0.002778\n",
       "25%          0.005884\n",
       "50%          0.006636\n",
       "75%          0.007264\n",
       "max          0.010451\n",
       "Name: FactorForma1, dtype: float64"
      ]
     },
     "execution_count": 1060,
     "metadata": {},
     "output_type": "execute_result"
    }
   ],
   "source": [
    "df_original = df_original[df_original[\"FactorForma1\"] >= 0]\n",
    "df_original[\"FactorForma1\"].describe()"
   ]
  },
  {
   "cell_type": "code",
   "execution_count": 1061,
   "id": "476959ff",
   "metadata": {},
   "outputs": [
    {
     "data": {
      "text/plain": [
       "count    12006.000000\n",
       "mean         0.001716\n",
       "std          0.000597\n",
       "min          0.000567\n",
       "25%          0.001154\n",
       "50%          0.001689\n",
       "75%          0.002174\n",
       "max          0.003665\n",
       "Name: FactorForma2, dtype: float64"
      ]
     },
     "execution_count": 1061,
     "metadata": {},
     "output_type": "execute_result"
    }
   ],
   "source": [
    "df_original = df_original[df_original[\"FactorForma2\"] >= 0]\n",
    "df_original[\"FactorForma2\"].describe()"
   ]
  },
  {
   "cell_type": "code",
   "execution_count": 1062,
   "id": "4e9c8273",
   "metadata": {},
   "outputs": [
    {
     "data": {
      "text/plain": [
       "count    12006.000000\n",
       "mean         0.643955\n",
       "std          0.099177\n",
       "min          0.410339\n",
       "25%          0.581028\n",
       "50%          0.642417\n",
       "75%          0.696488\n",
       "max          0.974767\n",
       "Name: FactorForma3, dtype: float64"
      ]
     },
     "execution_count": 1062,
     "metadata": {},
     "output_type": "execute_result"
    }
   ],
   "source": [
    "df_original[\"FactorForma3\"].describe()"
   ]
  },
  {
   "cell_type": "code",
   "execution_count": 1063,
   "id": "56b6d97f",
   "metadata": {},
   "outputs": [
    {
     "data": {
      "text/plain": [
       "count    12005.000000\n",
       "mean         0.995049\n",
       "std          0.004343\n",
       "min          0.947687\n",
       "25%          0.993635\n",
       "50%          0.996364\n",
       "75%          0.997872\n",
       "max          0.999733\n",
       "Name: FactorForma4, dtype: float64"
      ]
     },
     "execution_count": 1063,
     "metadata": {},
     "output_type": "execute_result"
    }
   ],
   "source": [
    "df_original = df_original[df_original[\"FactorForma4\"] >= 0]\n",
    "df_original[\"FactorForma4\"].describe()"
   ]
  },
  {
   "cell_type": "code",
   "execution_count": 1064,
   "id": "9a3e6f29",
   "metadata": {},
   "outputs": [
    {
     "data": {
      "text/plain": [
       "count    11214.000000\n",
       "mean       320.323441\n",
       "std         85.528143\n",
       "min        183.601165\n",
       "25%        253.133078\n",
       "50%        297.799507\n",
       "75%        376.590038\n",
       "max        738.860153\n",
       "Name: LongitudEjeMayor, dtype: float64"
      ]
     },
     "execution_count": 1064,
     "metadata": {},
     "output_type": "execute_result"
    }
   ],
   "source": [
    "df_original[\"LongitudEjeMayor\"].describe()"
   ]
  },
  {
   "cell_type": "code",
   "execution_count": 1065,
   "id": "d530bdb6",
   "metadata": {},
   "outputs": [
    {
     "data": {
      "text/plain": [
       "count    11221.000000\n",
       "mean       202.147538\n",
       "std         45.874648\n",
       "min       -345.222852\n",
       "25%        175.977650\n",
       "50%        192.756394\n",
       "75%        217.015749\n",
       "max        460.198497\n",
       "Name: LongitudEjeMenor, dtype: float64"
      ]
     },
     "execution_count": 1065,
     "metadata": {},
     "output_type": "execute_result"
    }
   ],
   "source": [
    "df_original[\"LongitudEjeMenor\"].describe()"
   ]
  },
  {
   "cell_type": "code",
   "execution_count": 1066,
   "id": "1fa001cd",
   "metadata": {},
   "outputs": [
    {
     "data": {
      "text/plain": [
       "count    11216.000000\n",
       "mean       202.347440\n",
       "std         44.879573\n",
       "min        122.512653\n",
       "25%        176.065877\n",
       "50%        192.771821\n",
       "75%        217.036082\n",
       "max        460.198497\n",
       "Name: LongitudEjeMenor, dtype: float64"
      ]
     },
     "execution_count": 1066,
     "metadata": {},
     "output_type": "execute_result"
    }
   ],
   "source": [
    "df_original = df_original[df_original[\"LongitudEjeMenor\"] > 0]\n",
    "df_original[\"LongitudEjeMenor\"].describe()"
   ]
  },
  {
   "cell_type": "code",
   "execution_count": 1067,
   "id": "888705ec",
   "metadata": {},
   "outputs": [
    {
     "data": {
      "text/plain": [
       "count    11216.000000\n",
       "mean         0.748878\n",
       "std          0.056943\n",
       "min         -0.781682\n",
       "25%          0.717962\n",
       "50%          0.759197\n",
       "75%          0.786822\n",
       "max          0.866195\n",
       "Name: Medida, dtype: float64"
      ]
     },
     "execution_count": 1067,
     "metadata": {},
     "output_type": "execute_result"
    }
   ],
   "source": [
    "df_original[\"Medida\"].describe()"
   ]
  },
  {
   "cell_type": "code",
   "execution_count": 1068,
   "id": "7f1f05aa",
   "metadata": {},
   "outputs": [
    {
     "data": {
      "text/plain": [
       "count    11212.000000\n",
       "mean         0.749419\n",
       "std          0.049226\n",
       "min          0.566669\n",
       "25%          0.718022\n",
       "50%          0.759216\n",
       "75%          0.786824\n",
       "max          0.866195\n",
       "Name: Medida, dtype: float64"
      ]
     },
     "execution_count": 1068,
     "metadata": {},
     "output_type": "execute_result"
    }
   ],
   "source": [
    "df_original = df_original[df_original[\"Medida\"] >= 0]\n",
    "df_original[\"Medida\"].describe()"
   ]
  },
  {
   "cell_type": "code",
   "execution_count": 1069,
   "id": "9cc12589",
   "metadata": {},
   "outputs": [
    {
     "data": {
      "text/plain": [
       "count    1.121200e+04\n",
       "mean     7.721891e+05\n",
       "std      3.236777e+05\n",
       "min     -1.076649e+06\n",
       "25%      6.767148e+05\n",
       "50%      7.728325e+05\n",
       "75%      9.539768e+05\n",
       "max      1.919868e+06\n",
       "Name: Perimetro, dtype: float64"
      ]
     },
     "execution_count": 1069,
     "metadata": {},
     "output_type": "execute_result"
    }
   ],
   "source": [
    "df_original[\"Perimetro\"].describe()"
   ]
  },
  {
   "cell_type": "code",
   "execution_count": 1070,
   "id": "2a3eb5ac",
   "metadata": {},
   "outputs": [
    {
     "data": {
      "text/plain": [
       "count    1.121000e+04\n",
       "mean     7.725158e+05\n",
       "std      3.227806e+05\n",
       "min      5.536000e+02\n",
       "25%      6.767418e+05\n",
       "50%      7.728430e+05\n",
       "75%      9.540942e+05\n",
       "max      1.919868e+06\n",
       "Name: Perimetro, dtype: float64"
      ]
     },
     "execution_count": 1070,
     "metadata": {},
     "output_type": "execute_result"
    }
   ],
   "source": [
    "df_original = df_original[df_original[\"Perimetro\"] > 0]\n",
    "df_original[\"Perimetro\"].describe()"
   ]
  },
  {
   "cell_type": "code",
   "execution_count": 1071,
   "id": "3970e9e7",
   "metadata": {},
   "outputs": [
    {
     "data": {
      "text/plain": [
       "count    9165.000000\n",
       "mean        0.873023\n",
       "std         0.069780\n",
       "min        -0.897638\n",
       "25%         0.832728\n",
       "50%         0.883137\n",
       "75%         0.917163\n",
       "max         0.990685\n",
       "Name: Redondez, dtype: float64"
      ]
     },
     "execution_count": 1071,
     "metadata": {},
     "output_type": "execute_result"
    }
   ],
   "source": [
    "df_original[\"Redondez\"].describe()"
   ]
  },
  {
   "cell_type": "code",
   "execution_count": 1072,
   "id": "51d1af69",
   "metadata": {},
   "outputs": [
    {
     "data": {
      "text/plain": [
       "count    9161.000000\n",
       "mean        0.873787\n",
       "std         0.059429\n",
       "min         0.489618\n",
       "25%         0.832771\n",
       "50%         0.883168\n",
       "75%         0.917163\n",
       "max         0.990685\n",
       "Name: Redondez, dtype: float64"
      ]
     },
     "execution_count": 1072,
     "metadata": {},
     "output_type": "execute_result"
    }
   ],
   "source": [
    "df_original = df_original[df_original[\"Redondez\"] >= 0]\n",
    "df_original[\"Redondez\"].describe()"
   ]
  },
  {
   "cell_type": "code",
   "execution_count": 1073,
   "id": "56519096",
   "metadata": {},
   "outputs": [
    {
     "data": {
      "text/plain": [
       "count    8727.000000\n",
       "mean        1.577748\n",
       "std         0.253528\n",
       "min        -1.622123\n",
       "25%         1.427000\n",
       "50%         1.547318\n",
       "75%         1.702761\n",
       "max         2.430306\n",
       "Name: RelacionAspecto, dtype: float64"
      ]
     },
     "execution_count": 1073,
     "metadata": {},
     "output_type": "execute_result"
    }
   ],
   "source": [
    "df_original[\"RelacionAspecto\"].describe()"
   ]
  },
  {
   "cell_type": "code",
   "execution_count": 1074,
   "id": "f36cb186",
   "metadata": {},
   "outputs": [
    {
     "data": {
      "text/plain": [
       "count    8724.000000\n",
       "mean        1.578774\n",
       "std         0.247443\n",
       "min         1.024868\n",
       "25%         1.427057\n",
       "50%         1.547417\n",
       "75%         1.702965\n",
       "max         2.430306\n",
       "Name: RelacionAspecto, dtype: float64"
      ]
     },
     "execution_count": 1074,
     "metadata": {},
     "output_type": "execute_result"
    }
   ],
   "source": [
    "df_original = df_original[df_original[\"RelacionAspecto\"] >= 1]\n",
    "df_original[\"RelacionAspecto\"].describe()"
   ]
  },
  {
   "cell_type": "code",
   "execution_count": 1075,
   "id": "79082e42",
   "metadata": {},
   "outputs": [
    {
     "data": {
      "text/plain": [
       "count    7917.000000\n",
       "mean        0.985158\n",
       "std         0.062878\n",
       "min        -0.993609\n",
       "25%         0.985605\n",
       "50%         0.988280\n",
       "75%         0.990007\n",
       "max         0.994378\n",
       "Name: Solidez, dtype: float64"
      ]
     },
     "execution_count": 1075,
     "metadata": {},
     "output_type": "execute_result"
    }
   ],
   "source": [
    "df_original[\"Solidez\"].describe()"
   ]
  },
  {
   "cell_type": "code",
   "execution_count": 1076,
   "id": "9bbc9bba",
   "metadata": {},
   "outputs": [
    {
     "data": {
      "text/plain": [
       "count    7909.000000\n",
       "mean        0.987153\n",
       "std         0.004587\n",
       "min         0.947667\n",
       "25%         0.985629\n",
       "50%         0.988283\n",
       "75%         0.990008\n",
       "max         0.994378\n",
       "Name: Solidez, dtype: float64"
      ]
     },
     "execution_count": 1076,
     "metadata": {},
     "output_type": "execute_result"
    }
   ],
   "source": [
    "df_original = df_original[df_original[\"Solidez\"] >= 0]\n",
    "df_original[\"Solidez\"].describe()"
   ]
  },
  {
   "cell_type": "code",
   "execution_count": 1077,
   "id": "a69638c5",
   "metadata": {},
   "outputs": [
    {
     "data": {
      "text/plain": [
       "(7909, 16)"
      ]
     },
     "execution_count": 1077,
     "metadata": {},
     "output_type": "execute_result"
    }
   ],
   "source": [
    "df_original.shape\n"
   ]
  },
  {
   "cell_type": "code",
   "execution_count": 1078,
   "id": "4145db35",
   "metadata": {},
   "outputs": [
    {
     "data": {
      "text/html": [
       "<div>\n",
       "<style scoped>\n",
       "    .dataframe tbody tr th:only-of-type {\n",
       "        vertical-align: middle;\n",
       "    }\n",
       "\n",
       "    .dataframe tbody tr th {\n",
       "        vertical-align: top;\n",
       "    }\n",
       "\n",
       "    .dataframe thead th {\n",
       "        text-align: right;\n",
       "    }\n",
       "</style>\n",
       "<table border=\"1\" class=\"dataframe\">\n",
       "  <thead>\n",
       "    <tr style=\"text-align: right;\">\n",
       "      <th></th>\n",
       "      <th>Area</th>\n",
       "      <th>Perimetro</th>\n",
       "      <th>LongitudEjeMayor</th>\n",
       "      <th>LongitudEjeMenor</th>\n",
       "      <th>RelacionAspecto</th>\n",
       "      <th>Excentricidad</th>\n",
       "      <th>AreaConvexa</th>\n",
       "      <th>DiametroEquivalente</th>\n",
       "      <th>Medida</th>\n",
       "      <th>Solidez</th>\n",
       "      <th>Redondez</th>\n",
       "      <th>Compacidad</th>\n",
       "      <th>FactorForma1</th>\n",
       "      <th>FactorForma2</th>\n",
       "      <th>FactorForma3</th>\n",
       "      <th>FactorForma4</th>\n",
       "    </tr>\n",
       "  </thead>\n",
       "  <tbody>\n",
       "    <tr>\n",
       "      <th>count</th>\n",
       "      <td>7909.000000</td>\n",
       "      <td>7.909000e+03</td>\n",
       "      <td>7363.000000</td>\n",
       "      <td>7909.000000</td>\n",
       "      <td>7909.000000</td>\n",
       "      <td>7909.000000</td>\n",
       "      <td>7909.000000</td>\n",
       "      <td>7909.000000</td>\n",
       "      <td>7909.000000</td>\n",
       "      <td>7909.000000</td>\n",
       "      <td>7909.000000</td>\n",
       "      <td>7909.000000</td>\n",
       "      <td>7909.000000</td>\n",
       "      <td>7909.000000</td>\n",
       "      <td>7909.000000</td>\n",
       "      <td>7909.000000</td>\n",
       "    </tr>\n",
       "    <tr>\n",
       "      <th>mean</th>\n",
       "      <td>53127.206853</td>\n",
       "      <td>7.728815e+05</td>\n",
       "      <td>319.956812</td>\n",
       "      <td>202.614153</td>\n",
       "      <td>1.578888</td>\n",
       "      <td>0.748949</td>\n",
       "      <td>53848.958781</td>\n",
       "      <td>253.140085</td>\n",
       "      <td>0.749769</td>\n",
       "      <td>0.987153</td>\n",
       "      <td>0.873948</td>\n",
       "      <td>0.801047</td>\n",
       "      <td>0.006555</td>\n",
       "      <td>0.001724</td>\n",
       "      <td>0.645533</td>\n",
       "      <td>0.995095</td>\n",
       "    </tr>\n",
       "    <tr>\n",
       "      <th>std</th>\n",
       "      <td>29712.741888</td>\n",
       "      <td>3.232888e+05</td>\n",
       "      <td>86.477085</td>\n",
       "      <td>45.431151</td>\n",
       "      <td>0.247164</td>\n",
       "      <td>0.093445</td>\n",
       "      <td>30172.154587</td>\n",
       "      <td>59.700994</td>\n",
       "      <td>0.049064</td>\n",
       "      <td>0.004587</td>\n",
       "      <td>0.059319</td>\n",
       "      <td>0.062104</td>\n",
       "      <td>0.001130</td>\n",
       "      <td>0.000601</td>\n",
       "      <td>0.099782</td>\n",
       "      <td>0.004334</td>\n",
       "    </tr>\n",
       "    <tr>\n",
       "      <th>min</th>\n",
       "      <td>20420.000000</td>\n",
       "      <td>5.536000e+02</td>\n",
       "      <td>183.601165</td>\n",
       "      <td>129.576207</td>\n",
       "      <td>1.024868</td>\n",
       "      <td>0.218951</td>\n",
       "      <td>20684.000000</td>\n",
       "      <td>161.243764</td>\n",
       "      <td>0.566669</td>\n",
       "      <td>0.947667</td>\n",
       "      <td>0.556766</td>\n",
       "      <td>0.640577</td>\n",
       "      <td>0.002878</td>\n",
       "      <td>0.000567</td>\n",
       "      <td>0.410339</td>\n",
       "      <td>0.955032</td>\n",
       "    </tr>\n",
       "    <tr>\n",
       "      <th>25%</th>\n",
       "      <td>36346.000000</td>\n",
       "      <td>6.763920e+05</td>\n",
       "      <td>252.251531</td>\n",
       "      <td>176.139436</td>\n",
       "      <td>1.427055</td>\n",
       "      <td>0.713413</td>\n",
       "      <td>36730.000000</td>\n",
       "      <td>215.121279</td>\n",
       "      <td>0.718361</td>\n",
       "      <td>0.985629</td>\n",
       "      <td>0.833227</td>\n",
       "      <td>0.763423</td>\n",
       "      <td>0.005911</td>\n",
       "      <td>0.001160</td>\n",
       "      <td>0.582814</td>\n",
       "      <td>0.993733</td>\n",
       "    </tr>\n",
       "    <tr>\n",
       "      <th>50%</th>\n",
       "      <td>44704.000000</td>\n",
       "      <td>7.715890e+05</td>\n",
       "      <td>296.899313</td>\n",
       "      <td>192.864876</td>\n",
       "      <td>1.547182</td>\n",
       "      <td>0.763053</td>\n",
       "      <td>45238.000000</td>\n",
       "      <td>238.576823</td>\n",
       "      <td>0.759627</td>\n",
       "      <td>0.988283</td>\n",
       "      <td>0.883490</td>\n",
       "      <td>0.802370</td>\n",
       "      <td>0.006632</td>\n",
       "      <td>0.001698</td>\n",
       "      <td>0.643798</td>\n",
       "      <td>0.996422</td>\n",
       "    </tr>\n",
       "    <tr>\n",
       "      <th>75%</th>\n",
       "      <td>61152.000000</td>\n",
       "      <td>9.521770e+05</td>\n",
       "      <td>375.697889</td>\n",
       "      <td>216.530093</td>\n",
       "      <td>1.703062</td>\n",
       "      <td>0.809458</td>\n",
       "      <td>62108.000000</td>\n",
       "      <td>279.036099</td>\n",
       "      <td>0.787019</td>\n",
       "      <td>0.990008</td>\n",
       "      <td>0.917366</td>\n",
       "      <td>0.835518</td>\n",
       "      <td>0.007265</td>\n",
       "      <td>0.002193</td>\n",
       "      <td>0.698091</td>\n",
       "      <td>0.997912</td>\n",
       "    </tr>\n",
       "    <tr>\n",
       "      <th>max</th>\n",
       "      <td>254616.000000</td>\n",
       "      <td>1.884557e+06</td>\n",
       "      <td>738.860153</td>\n",
       "      <td>447.418329</td>\n",
       "      <td>2.430306</td>\n",
       "      <td>0.911423</td>\n",
       "      <td>263261.000000</td>\n",
       "      <td>569.374358</td>\n",
       "      <td>0.866195</td>\n",
       "      <td>0.994378</td>\n",
       "      <td>0.986103</td>\n",
       "      <td>0.987303</td>\n",
       "      <td>0.009897</td>\n",
       "      <td>0.003665</td>\n",
       "      <td>0.974767</td>\n",
       "      <td>0.999733</td>\n",
       "    </tr>\n",
       "  </tbody>\n",
       "</table>\n",
       "</div>"
      ],
      "text/plain": [
       "                Area     Perimetro  LongitudEjeMayor  LongitudEjeMenor  \\\n",
       "count    7909.000000  7.909000e+03       7363.000000       7909.000000   \n",
       "mean    53127.206853  7.728815e+05        319.956812        202.614153   \n",
       "std     29712.741888  3.232888e+05         86.477085         45.431151   \n",
       "min     20420.000000  5.536000e+02        183.601165        129.576207   \n",
       "25%     36346.000000  6.763920e+05        252.251531        176.139436   \n",
       "50%     44704.000000  7.715890e+05        296.899313        192.864876   \n",
       "75%     61152.000000  9.521770e+05        375.697889        216.530093   \n",
       "max    254616.000000  1.884557e+06        738.860153        447.418329   \n",
       "\n",
       "       RelacionAspecto  Excentricidad    AreaConvexa  DiametroEquivalente  \\\n",
       "count      7909.000000    7909.000000    7909.000000          7909.000000   \n",
       "mean          1.578888       0.748949   53848.958781           253.140085   \n",
       "std           0.247164       0.093445   30172.154587            59.700994   \n",
       "min           1.024868       0.218951   20684.000000           161.243764   \n",
       "25%           1.427055       0.713413   36730.000000           215.121279   \n",
       "50%           1.547182       0.763053   45238.000000           238.576823   \n",
       "75%           1.703062       0.809458   62108.000000           279.036099   \n",
       "max           2.430306       0.911423  263261.000000           569.374358   \n",
       "\n",
       "            Medida      Solidez     Redondez   Compacidad  FactorForma1  \\\n",
       "count  7909.000000  7909.000000  7909.000000  7909.000000   7909.000000   \n",
       "mean      0.749769     0.987153     0.873948     0.801047      0.006555   \n",
       "std       0.049064     0.004587     0.059319     0.062104      0.001130   \n",
       "min       0.566669     0.947667     0.556766     0.640577      0.002878   \n",
       "25%       0.718361     0.985629     0.833227     0.763423      0.005911   \n",
       "50%       0.759627     0.988283     0.883490     0.802370      0.006632   \n",
       "75%       0.787019     0.990008     0.917366     0.835518      0.007265   \n",
       "max       0.866195     0.994378     0.986103     0.987303      0.009897   \n",
       "\n",
       "       FactorForma2  FactorForma3  FactorForma4  \n",
       "count   7909.000000   7909.000000   7909.000000  \n",
       "mean       0.001724      0.645533      0.995095  \n",
       "std        0.000601      0.099782      0.004334  \n",
       "min        0.000567      0.410339      0.955032  \n",
       "25%        0.001160      0.582814      0.993733  \n",
       "50%        0.001698      0.643798      0.996422  \n",
       "75%        0.002193      0.698091      0.997912  \n",
       "max        0.003665      0.974767      0.999733  "
      ]
     },
     "execution_count": 1078,
     "metadata": {},
     "output_type": "execute_result"
    }
   ],
   "source": [
    "df_original.describe()"
   ]
  },
  {
   "cell_type": "markdown",
   "id": "cde2e9c4",
   "metadata": {},
   "source": [
    "## Nulos"
   ]
  },
  {
   "cell_type": "code",
   "execution_count": 1079,
   "id": "4e16a4b1",
   "metadata": {},
   "outputs": [
    {
     "name": "stdout",
     "output_type": "stream",
     "text": [
      "Area                     0\n",
      "Perimetro                0\n",
      "LongitudEjeMayor       546\n",
      "LongitudEjeMenor         0\n",
      "RelacionAspecto          0\n",
      "Excentricidad            0\n",
      "AreaConvexa              0\n",
      "DiametroEquivalente      0\n",
      "Medida                   0\n",
      "Solidez                  0\n",
      "Redondez                 0\n",
      "Compacidad               0\n",
      "FactorForma1             0\n",
      "FactorForma2             0\n",
      "FactorForma3             0\n",
      "FactorForma4             0\n",
      "dtype: int64\n"
     ]
    }
   ],
   "source": [
    "print(df_original.isnull().sum())"
   ]
  },
  {
   "cell_type": "code",
   "execution_count": 1080,
   "id": "d0d8f3c0",
   "metadata": {},
   "outputs": [],
   "source": [
    "# Reemplazar nulos en 'LongitudEjeMayor' usando 'RelacionAspecto' y 'LongitudEjeMenor'\n",
    "mask = df_original[\"LongitudEjeMayor\"].isnull()\n",
    "df_original.loc[mask, \"LongitudEjeMayor\"] = (\n",
    "    df_original.loc[mask, \"RelacionAspecto\"] * df_original.loc[mask, \"LongitudEjeMenor\"]\n",
    ")\n"
   ]
  },
  {
   "cell_type": "code",
   "execution_count": 1081,
   "id": "0cf4d5f0",
   "metadata": {},
   "outputs": [
    {
     "data": {
      "text/plain": [
       "(7909, 16)"
      ]
     },
     "execution_count": 1081,
     "metadata": {},
     "output_type": "execute_result"
    }
   ],
   "source": [
    "df_original.shape"
   ]
  },
  {
   "cell_type": "code",
   "execution_count": 1082,
   "id": "80b8ffa4",
   "metadata": {},
   "outputs": [
    {
     "name": "stdout",
     "output_type": "stream",
     "text": [
      "<class 'pandas.core.frame.DataFrame'>\n",
      "Index: 7909 entries, 0 to 14290\n",
      "Data columns (total 16 columns):\n",
      " #   Column               Non-Null Count  Dtype  \n",
      "---  ------               --------------  -----  \n",
      " 0   Area                 7909 non-null   float64\n",
      " 1   Perimetro            7909 non-null   float64\n",
      " 2   LongitudEjeMayor     7909 non-null   float64\n",
      " 3   LongitudEjeMenor     7909 non-null   float64\n",
      " 4   RelacionAspecto      7909 non-null   float64\n",
      " 5   Excentricidad        7909 non-null   float64\n",
      " 6   AreaConvexa          7909 non-null   int64  \n",
      " 7   DiametroEquivalente  7909 non-null   float64\n",
      " 8   Medida               7909 non-null   float64\n",
      " 9   Solidez              7909 non-null   float64\n",
      " 10  Redondez             7909 non-null   float64\n",
      " 11  Compacidad           7909 non-null   float64\n",
      " 12  FactorForma1         7909 non-null   float64\n",
      " 13  FactorForma2         7909 non-null   float64\n",
      " 14  FactorForma3         7909 non-null   float64\n",
      " 15  FactorForma4         7909 non-null   float64\n",
      "dtypes: float64(15), int64(1)\n",
      "memory usage: 1.0 MB\n"
     ]
    }
   ],
   "source": [
    "df_original.info()"
   ]
  },
  {
   "cell_type": "markdown",
   "id": "b1d82c45",
   "metadata": {},
   "source": [
    "## Unicidad"
   ]
  },
  {
   "cell_type": "code",
   "execution_count": 1083,
   "id": "6912311d",
   "metadata": {},
   "outputs": [
    {
     "name": "stdout",
     "output_type": "stream",
     "text": [
      "383\n"
     ]
    }
   ],
   "source": [
    "print(df_original.duplicated().sum())"
   ]
  },
  {
   "cell_type": "code",
   "execution_count": 1084,
   "id": "d58d7fbe",
   "metadata": {},
   "outputs": [
    {
     "data": {
      "text/html": [
       "<div>\n",
       "<style scoped>\n",
       "    .dataframe tbody tr th:only-of-type {\n",
       "        vertical-align: middle;\n",
       "    }\n",
       "\n",
       "    .dataframe tbody tr th {\n",
       "        vertical-align: top;\n",
       "    }\n",
       "\n",
       "    .dataframe thead th {\n",
       "        text-align: right;\n",
       "    }\n",
       "</style>\n",
       "<table border=\"1\" class=\"dataframe\">\n",
       "  <thead>\n",
       "    <tr style=\"text-align: right;\">\n",
       "      <th></th>\n",
       "      <th>Area</th>\n",
       "      <th>Perimetro</th>\n",
       "      <th>LongitudEjeMayor</th>\n",
       "      <th>LongitudEjeMenor</th>\n",
       "      <th>RelacionAspecto</th>\n",
       "      <th>Excentricidad</th>\n",
       "      <th>AreaConvexa</th>\n",
       "      <th>DiametroEquivalente</th>\n",
       "      <th>Medida</th>\n",
       "      <th>Solidez</th>\n",
       "      <th>Redondez</th>\n",
       "      <th>Compacidad</th>\n",
       "      <th>FactorForma1</th>\n",
       "      <th>FactorForma2</th>\n",
       "      <th>FactorForma3</th>\n",
       "      <th>FactorForma4</th>\n",
       "    </tr>\n",
       "  </thead>\n",
       "  <tbody>\n",
       "    <tr>\n",
       "      <th>250</th>\n",
       "      <td>46155.0</td>\n",
       "      <td>807795.0</td>\n",
       "      <td>308.769858</td>\n",
       "      <td>191.218890</td>\n",
       "      <td>1.614746</td>\n",
       "      <td>0.785160</td>\n",
       "      <td>46538</td>\n",
       "      <td>242.417762</td>\n",
       "      <td>0.830604</td>\n",
       "      <td>0.991770</td>\n",
       "      <td>0.888846</td>\n",
       "      <td>0.785108</td>\n",
       "      <td>0.006690</td>\n",
       "      <td>0.001568</td>\n",
       "      <td>0.616395</td>\n",
       "      <td>0.995321</td>\n",
       "    </tr>\n",
       "    <tr>\n",
       "      <th>352</th>\n",
       "      <td>27528.0</td>\n",
       "      <td>621479.0</td>\n",
       "      <td>240.164654</td>\n",
       "      <td>146.183777</td>\n",
       "      <td>1.642895</td>\n",
       "      <td>0.793415</td>\n",
       "      <td>27819</td>\n",
       "      <td>187.215753</td>\n",
       "      <td>0.786829</td>\n",
       "      <td>0.989540</td>\n",
       "      <td>0.895636</td>\n",
       "      <td>0.779531</td>\n",
       "      <td>0.008724</td>\n",
       "      <td>0.001987</td>\n",
       "      <td>0.607668</td>\n",
       "      <td>0.998335</td>\n",
       "    </tr>\n",
       "    <tr>\n",
       "      <th>604</th>\n",
       "      <td>25792.0</td>\n",
       "      <td>597381.0</td>\n",
       "      <td>214.522310</td>\n",
       "      <td>153.371986</td>\n",
       "      <td>1.398706</td>\n",
       "      <td>0.699179</td>\n",
       "      <td>26121</td>\n",
       "      <td>181.216430</td>\n",
       "      <td>0.725922</td>\n",
       "      <td>0.987405</td>\n",
       "      <td>0.908222</td>\n",
       "      <td>0.844744</td>\n",
       "      <td>0.008317</td>\n",
       "      <td>0.002613</td>\n",
       "      <td>0.713592</td>\n",
       "      <td>0.998106</td>\n",
       "    </tr>\n",
       "    <tr>\n",
       "      <th>1468</th>\n",
       "      <td>68234.0</td>\n",
       "      <td>988005.0</td>\n",
       "      <td>383.972464</td>\n",
       "      <td>228.175213</td>\n",
       "      <td>1.682797</td>\n",
       "      <td>0.804281</td>\n",
       "      <td>69335</td>\n",
       "      <td>294.751127</td>\n",
       "      <td>0.788103</td>\n",
       "      <td>0.984121</td>\n",
       "      <td>0.878400</td>\n",
       "      <td>0.767636</td>\n",
       "      <td>0.005627</td>\n",
       "      <td>0.001205</td>\n",
       "      <td>0.589265</td>\n",
       "      <td>0.991613</td>\n",
       "    </tr>\n",
       "    <tr>\n",
       "      <th>1578</th>\n",
       "      <td>23310.0</td>\n",
       "      <td>567128.0</td>\n",
       "      <td>216.482636</td>\n",
       "      <td>137.559066</td>\n",
       "      <td>1.573743</td>\n",
       "      <td>0.772160</td>\n",
       "      <td>23537</td>\n",
       "      <td>172.276562</td>\n",
       "      <td>0.806854</td>\n",
       "      <td>0.990356</td>\n",
       "      <td>0.910731</td>\n",
       "      <td>0.795799</td>\n",
       "      <td>0.009287</td>\n",
       "      <td>0.002298</td>\n",
       "      <td>0.633295</td>\n",
       "      <td>0.996644</td>\n",
       "    </tr>\n",
       "    <tr>\n",
       "      <th>...</th>\n",
       "      <td>...</td>\n",
       "      <td>...</td>\n",
       "      <td>...</td>\n",
       "      <td>...</td>\n",
       "      <td>...</td>\n",
       "      <td>...</td>\n",
       "      <td>...</td>\n",
       "      <td>...</td>\n",
       "      <td>...</td>\n",
       "      <td>...</td>\n",
       "      <td>...</td>\n",
       "      <td>...</td>\n",
       "      <td>...</td>\n",
       "      <td>...</td>\n",
       "      <td>...</td>\n",
       "      <td>...</td>\n",
       "    </tr>\n",
       "    <tr>\n",
       "      <th>14207</th>\n",
       "      <td>38290.0</td>\n",
       "      <td>708533.0</td>\n",
       "      <td>244.957709</td>\n",
       "      <td>199.238526</td>\n",
       "      <td>1.229470</td>\n",
       "      <td>0.581762</td>\n",
       "      <td>38631</td>\n",
       "      <td>220.799326</td>\n",
       "      <td>0.749799</td>\n",
       "      <td>0.991173</td>\n",
       "      <td>0.958462</td>\n",
       "      <td>0.901377</td>\n",
       "      <td>0.006397</td>\n",
       "      <td>0.002605</td>\n",
       "      <td>0.812481</td>\n",
       "      <td>0.998921</td>\n",
       "    </tr>\n",
       "    <tr>\n",
       "      <th>14211</th>\n",
       "      <td>62353.0</td>\n",
       "      <td>974133.0</td>\n",
       "      <td>336.414515</td>\n",
       "      <td>236.400622</td>\n",
       "      <td>1.423070</td>\n",
       "      <td>0.711480</td>\n",
       "      <td>63337</td>\n",
       "      <td>281.762853</td>\n",
       "      <td>0.767422</td>\n",
       "      <td>0.984464</td>\n",
       "      <td>0.825716</td>\n",
       "      <td>0.837547</td>\n",
       "      <td>0.005395</td>\n",
       "      <td>0.001638</td>\n",
       "      <td>0.701484</td>\n",
       "      <td>0.998261</td>\n",
       "    </tr>\n",
       "    <tr>\n",
       "      <th>14214</th>\n",
       "      <td>38222.0</td>\n",
       "      <td>701048.0</td>\n",
       "      <td>241.243876</td>\n",
       "      <td>201.875526</td>\n",
       "      <td>1.195013</td>\n",
       "      <td>0.547492</td>\n",
       "      <td>38491</td>\n",
       "      <td>220.603177</td>\n",
       "      <td>0.792330</td>\n",
       "      <td>0.993011</td>\n",
       "      <td>0.977300</td>\n",
       "      <td>0.914441</td>\n",
       "      <td>0.006312</td>\n",
       "      <td>0.002722</td>\n",
       "      <td>0.836201</td>\n",
       "      <td>0.999272</td>\n",
       "    </tr>\n",
       "    <tr>\n",
       "      <th>14228</th>\n",
       "      <td>173108.0</td>\n",
       "      <td>1591411.0</td>\n",
       "      <td>572.661655</td>\n",
       "      <td>388.984863</td>\n",
       "      <td>1.472195</td>\n",
       "      <td>0.733900</td>\n",
       "      <td>175235</td>\n",
       "      <td>469.476252</td>\n",
       "      <td>0.761169</td>\n",
       "      <td>0.987862</td>\n",
       "      <td>0.858939</td>\n",
       "      <td>0.819814</td>\n",
       "      <td>0.003308</td>\n",
       "      <td>0.000922</td>\n",
       "      <td>0.672096</td>\n",
       "      <td>0.989456</td>\n",
       "    </tr>\n",
       "    <tr>\n",
       "      <th>14230</th>\n",
       "      <td>75510.0</td>\n",
       "      <td>1068728.0</td>\n",
       "      <td>415.245585</td>\n",
       "      <td>232.596373</td>\n",
       "      <td>1.785263</td>\n",
       "      <td>0.828397</td>\n",
       "      <td>76172</td>\n",
       "      <td>310.068247</td>\n",
       "      <td>0.709021</td>\n",
       "      <td>0.991309</td>\n",
       "      <td>0.830768</td>\n",
       "      <td>0.746711</td>\n",
       "      <td>0.005499</td>\n",
       "      <td>0.001055</td>\n",
       "      <td>0.557577</td>\n",
       "      <td>0.995421</td>\n",
       "    </tr>\n",
       "  </tbody>\n",
       "</table>\n",
       "<p>383 rows × 16 columns</p>\n",
       "</div>"
      ],
      "text/plain": [
       "           Area  Perimetro  LongitudEjeMayor  LongitudEjeMenor  \\\n",
       "250     46155.0   807795.0        308.769858        191.218890   \n",
       "352     27528.0   621479.0        240.164654        146.183777   \n",
       "604     25792.0   597381.0        214.522310        153.371986   \n",
       "1468    68234.0   988005.0        383.972464        228.175213   \n",
       "1578    23310.0   567128.0        216.482636        137.559066   \n",
       "...         ...        ...               ...               ...   \n",
       "14207   38290.0   708533.0        244.957709        199.238526   \n",
       "14211   62353.0   974133.0        336.414515        236.400622   \n",
       "14214   38222.0   701048.0        241.243876        201.875526   \n",
       "14228  173108.0  1591411.0        572.661655        388.984863   \n",
       "14230   75510.0  1068728.0        415.245585        232.596373   \n",
       "\n",
       "       RelacionAspecto  Excentricidad  AreaConvexa  DiametroEquivalente  \\\n",
       "250           1.614746       0.785160        46538           242.417762   \n",
       "352           1.642895       0.793415        27819           187.215753   \n",
       "604           1.398706       0.699179        26121           181.216430   \n",
       "1468          1.682797       0.804281        69335           294.751127   \n",
       "1578          1.573743       0.772160        23537           172.276562   \n",
       "...                ...            ...          ...                  ...   \n",
       "14207         1.229470       0.581762        38631           220.799326   \n",
       "14211         1.423070       0.711480        63337           281.762853   \n",
       "14214         1.195013       0.547492        38491           220.603177   \n",
       "14228         1.472195       0.733900       175235           469.476252   \n",
       "14230         1.785263       0.828397        76172           310.068247   \n",
       "\n",
       "         Medida   Solidez  Redondez  Compacidad  FactorForma1  FactorForma2  \\\n",
       "250    0.830604  0.991770  0.888846    0.785108      0.006690      0.001568   \n",
       "352    0.786829  0.989540  0.895636    0.779531      0.008724      0.001987   \n",
       "604    0.725922  0.987405  0.908222    0.844744      0.008317      0.002613   \n",
       "1468   0.788103  0.984121  0.878400    0.767636      0.005627      0.001205   \n",
       "1578   0.806854  0.990356  0.910731    0.795799      0.009287      0.002298   \n",
       "...         ...       ...       ...         ...           ...           ...   \n",
       "14207  0.749799  0.991173  0.958462    0.901377      0.006397      0.002605   \n",
       "14211  0.767422  0.984464  0.825716    0.837547      0.005395      0.001638   \n",
       "14214  0.792330  0.993011  0.977300    0.914441      0.006312      0.002722   \n",
       "14228  0.761169  0.987862  0.858939    0.819814      0.003308      0.000922   \n",
       "14230  0.709021  0.991309  0.830768    0.746711      0.005499      0.001055   \n",
       "\n",
       "       FactorForma3  FactorForma4  \n",
       "250        0.616395      0.995321  \n",
       "352        0.607668      0.998335  \n",
       "604        0.713592      0.998106  \n",
       "1468       0.589265      0.991613  \n",
       "1578       0.633295      0.996644  \n",
       "...             ...           ...  \n",
       "14207      0.812481      0.998921  \n",
       "14211      0.701484      0.998261  \n",
       "14214      0.836201      0.999272  \n",
       "14228      0.672096      0.989456  \n",
       "14230      0.557577      0.995421  \n",
       "\n",
       "[383 rows x 16 columns]"
      ]
     },
     "execution_count": 1084,
     "metadata": {},
     "output_type": "execute_result"
    }
   ],
   "source": [
    "# Mostrar filas duplicadas\n",
    "df_original[df_original.duplicated()]"
   ]
  },
  {
   "cell_type": "code",
   "execution_count": 1085,
   "id": "1bae60fb",
   "metadata": {},
   "outputs": [
    {
     "name": "stdout",
     "output_type": "stream",
     "text": [
      "0\n"
     ]
    }
   ],
   "source": [
    "# Eliminar filas duplicadas\n",
    "df_original = df_original.drop_duplicates()\n",
    "print(df_original.duplicated().sum())"
   ]
  },
  {
   "cell_type": "code",
   "execution_count": 1086,
   "id": "e8c362a3",
   "metadata": {},
   "outputs": [
    {
     "data": {
      "text/html": [
       "<div>\n",
       "<style scoped>\n",
       "    .dataframe tbody tr th:only-of-type {\n",
       "        vertical-align: middle;\n",
       "    }\n",
       "\n",
       "    .dataframe tbody tr th {\n",
       "        vertical-align: top;\n",
       "    }\n",
       "\n",
       "    .dataframe thead th {\n",
       "        text-align: right;\n",
       "    }\n",
       "</style>\n",
       "<table border=\"1\" class=\"dataframe\">\n",
       "  <thead>\n",
       "    <tr style=\"text-align: right;\">\n",
       "      <th></th>\n",
       "      <th>count</th>\n",
       "      <th>mean</th>\n",
       "      <th>std</th>\n",
       "      <th>min</th>\n",
       "      <th>25%</th>\n",
       "      <th>50%</th>\n",
       "      <th>75%</th>\n",
       "      <th>max</th>\n",
       "    </tr>\n",
       "  </thead>\n",
       "  <tbody>\n",
       "    <tr>\n",
       "      <th>Area</th>\n",
       "      <td>7526.0</td>\n",
       "      <td>53171.450173</td>\n",
       "      <td>29919.855090</td>\n",
       "      <td>20420.000000</td>\n",
       "      <td>36302.750000</td>\n",
       "      <td>44649.500000</td>\n",
       "      <td>61135.000000</td>\n",
       "      <td>2.546160e+05</td>\n",
       "    </tr>\n",
       "    <tr>\n",
       "      <th>Perimetro</th>\n",
       "      <td>7526.0</td>\n",
       "      <td>772918.367130</td>\n",
       "      <td>324010.908924</td>\n",
       "      <td>553.600000</td>\n",
       "      <td>676057.000000</td>\n",
       "      <td>770811.000000</td>\n",
       "      <td>951802.500000</td>\n",
       "      <td>1.884557e+06</td>\n",
       "    </tr>\n",
       "    <tr>\n",
       "      <th>LongitudEjeMayor</th>\n",
       "      <td>7526.0</td>\n",
       "      <td>319.795228</td>\n",
       "      <td>86.615657</td>\n",
       "      <td>183.601165</td>\n",
       "      <td>252.153425</td>\n",
       "      <td>296.429807</td>\n",
       "      <td>375.643305</td>\n",
       "      <td>7.388602e+02</td>\n",
       "    </tr>\n",
       "    <tr>\n",
       "      <th>LongitudEjeMenor</th>\n",
       "      <td>7526.0</td>\n",
       "      <td>202.661097</td>\n",
       "      <td>45.675167</td>\n",
       "      <td>129.576207</td>\n",
       "      <td>176.009785</td>\n",
       "      <td>192.812135</td>\n",
       "      <td>216.680650</td>\n",
       "      <td>4.474183e+02</td>\n",
       "    </tr>\n",
       "    <tr>\n",
       "      <th>RelacionAspecto</th>\n",
       "      <td>7526.0</td>\n",
       "      <td>1.578380</td>\n",
       "      <td>0.246292</td>\n",
       "      <td>1.024868</td>\n",
       "      <td>1.427292</td>\n",
       "      <td>1.547183</td>\n",
       "      <td>1.701466</td>\n",
       "      <td>2.430306e+00</td>\n",
       "    </tr>\n",
       "    <tr>\n",
       "      <th>Excentricidad</th>\n",
       "      <td>7526.0</td>\n",
       "      <td>0.748944</td>\n",
       "      <td>0.093103</td>\n",
       "      <td>0.218951</td>\n",
       "      <td>0.713527</td>\n",
       "      <td>0.763053</td>\n",
       "      <td>0.809058</td>\n",
       "      <td>9.114230e-01</td>\n",
       "    </tr>\n",
       "    <tr>\n",
       "      <th>AreaConvexa</th>\n",
       "      <td>7526.0</td>\n",
       "      <td>53893.494286</td>\n",
       "      <td>30381.020608</td>\n",
       "      <td>20684.000000</td>\n",
       "      <td>36704.500000</td>\n",
       "      <td>45158.500000</td>\n",
       "      <td>62047.500000</td>\n",
       "      <td>2.632610e+05</td>\n",
       "    </tr>\n",
       "    <tr>\n",
       "      <th>DiametroEquivalente</th>\n",
       "      <td>7526.0</td>\n",
       "      <td>253.174377</td>\n",
       "      <td>60.026717</td>\n",
       "      <td>161.243764</td>\n",
       "      <td>214.993248</td>\n",
       "      <td>238.431351</td>\n",
       "      <td>278.997311</td>\n",
       "      <td>5.693744e+02</td>\n",
       "    </tr>\n",
       "    <tr>\n",
       "      <th>Medida</th>\n",
       "      <td>7526.0</td>\n",
       "      <td>0.749738</td>\n",
       "      <td>0.048962</td>\n",
       "      <td>0.566669</td>\n",
       "      <td>0.718399</td>\n",
       "      <td>0.759733</td>\n",
       "      <td>0.786852</td>\n",
       "      <td>8.661946e-01</td>\n",
       "    </tr>\n",
       "    <tr>\n",
       "      <th>Solidez</th>\n",
       "      <td>7526.0</td>\n",
       "      <td>0.987158</td>\n",
       "      <td>0.004563</td>\n",
       "      <td>0.947667</td>\n",
       "      <td>0.985637</td>\n",
       "      <td>0.988280</td>\n",
       "      <td>0.990010</td>\n",
       "      <td>9.943782e-01</td>\n",
       "    </tr>\n",
       "    <tr>\n",
       "      <th>Redondez</th>\n",
       "      <td>7526.0</td>\n",
       "      <td>0.874063</td>\n",
       "      <td>0.059234</td>\n",
       "      <td>0.556766</td>\n",
       "      <td>0.833442</td>\n",
       "      <td>0.883479</td>\n",
       "      <td>0.917365</td>\n",
       "      <td>9.861030e-01</td>\n",
       "    </tr>\n",
       "    <tr>\n",
       "      <th>Compacidad</th>\n",
       "      <td>7526.0</td>\n",
       "      <td>0.801133</td>\n",
       "      <td>0.061896</td>\n",
       "      <td>0.640577</td>\n",
       "      <td>0.763587</td>\n",
       "      <td>0.802361</td>\n",
       "      <td>0.835518</td>\n",
       "      <td>9.873030e-01</td>\n",
       "    </tr>\n",
       "    <tr>\n",
       "      <th>FactorForma1</th>\n",
       "      <td>7526.0</td>\n",
       "      <td>0.006556</td>\n",
       "      <td>0.001135</td>\n",
       "      <td>0.002878</td>\n",
       "      <td>0.005908</td>\n",
       "      <td>0.006633</td>\n",
       "      <td>0.007267</td>\n",
       "      <td>9.897003e-03</td>\n",
       "    </tr>\n",
       "    <tr>\n",
       "      <th>FactorForma2</th>\n",
       "      <td>7526.0</td>\n",
       "      <td>0.001725</td>\n",
       "      <td>0.000600</td>\n",
       "      <td>0.000567</td>\n",
       "      <td>0.001162</td>\n",
       "      <td>0.001701</td>\n",
       "      <td>0.002192</td>\n",
       "      <td>3.664972e-03</td>\n",
       "    </tr>\n",
       "    <tr>\n",
       "      <th>FactorForma3</th>\n",
       "      <td>7526.0</td>\n",
       "      <td>0.645644</td>\n",
       "      <td>0.099449</td>\n",
       "      <td>0.410339</td>\n",
       "      <td>0.583066</td>\n",
       "      <td>0.643783</td>\n",
       "      <td>0.698090</td>\n",
       "      <td>9.747672e-01</td>\n",
       "    </tr>\n",
       "    <tr>\n",
       "      <th>FactorForma4</th>\n",
       "      <td>7526.0</td>\n",
       "      <td>0.995109</td>\n",
       "      <td>0.004302</td>\n",
       "      <td>0.955032</td>\n",
       "      <td>0.993756</td>\n",
       "      <td>0.996424</td>\n",
       "      <td>0.997913</td>\n",
       "      <td>9.997325e-01</td>\n",
       "    </tr>\n",
       "  </tbody>\n",
       "</table>\n",
       "</div>"
      ],
      "text/plain": [
       "                      count           mean            std           min  \\\n",
       "Area                 7526.0   53171.450173   29919.855090  20420.000000   \n",
       "Perimetro            7526.0  772918.367130  324010.908924    553.600000   \n",
       "LongitudEjeMayor     7526.0     319.795228      86.615657    183.601165   \n",
       "LongitudEjeMenor     7526.0     202.661097      45.675167    129.576207   \n",
       "RelacionAspecto      7526.0       1.578380       0.246292      1.024868   \n",
       "Excentricidad        7526.0       0.748944       0.093103      0.218951   \n",
       "AreaConvexa          7526.0   53893.494286   30381.020608  20684.000000   \n",
       "DiametroEquivalente  7526.0     253.174377      60.026717    161.243764   \n",
       "Medida               7526.0       0.749738       0.048962      0.566669   \n",
       "Solidez              7526.0       0.987158       0.004563      0.947667   \n",
       "Redondez             7526.0       0.874063       0.059234      0.556766   \n",
       "Compacidad           7526.0       0.801133       0.061896      0.640577   \n",
       "FactorForma1         7526.0       0.006556       0.001135      0.002878   \n",
       "FactorForma2         7526.0       0.001725       0.000600      0.000567   \n",
       "FactorForma3         7526.0       0.645644       0.099449      0.410339   \n",
       "FactorForma4         7526.0       0.995109       0.004302      0.955032   \n",
       "\n",
       "                               25%            50%            75%           max  \n",
       "Area                  36302.750000   44649.500000   61135.000000  2.546160e+05  \n",
       "Perimetro            676057.000000  770811.000000  951802.500000  1.884557e+06  \n",
       "LongitudEjeMayor        252.153425     296.429807     375.643305  7.388602e+02  \n",
       "LongitudEjeMenor        176.009785     192.812135     216.680650  4.474183e+02  \n",
       "RelacionAspecto           1.427292       1.547183       1.701466  2.430306e+00  \n",
       "Excentricidad             0.713527       0.763053       0.809058  9.114230e-01  \n",
       "AreaConvexa           36704.500000   45158.500000   62047.500000  2.632610e+05  \n",
       "DiametroEquivalente     214.993248     238.431351     278.997311  5.693744e+02  \n",
       "Medida                    0.718399       0.759733       0.786852  8.661946e-01  \n",
       "Solidez                   0.985637       0.988280       0.990010  9.943782e-01  \n",
       "Redondez                  0.833442       0.883479       0.917365  9.861030e-01  \n",
       "Compacidad                0.763587       0.802361       0.835518  9.873030e-01  \n",
       "FactorForma1              0.005908       0.006633       0.007267  9.897003e-03  \n",
       "FactorForma2              0.001162       0.001701       0.002192  3.664972e-03  \n",
       "FactorForma3              0.583066       0.643783       0.698090  9.747672e-01  \n",
       "FactorForma4              0.993756       0.996424       0.997913  9.997325e-01  "
      ]
     },
     "execution_count": 1086,
     "metadata": {},
     "output_type": "execute_result"
    }
   ],
   "source": [
    "df_original.describe(include=\"all\").T"
   ]
  },
  {
   "cell_type": "code",
   "execution_count": 1087,
   "id": "746e4061",
   "metadata": {},
   "outputs": [
    {
     "data": {
      "text/html": [
       "<div>\n",
       "<style scoped>\n",
       "    .dataframe tbody tr th:only-of-type {\n",
       "        vertical-align: middle;\n",
       "    }\n",
       "\n",
       "    .dataframe tbody tr th {\n",
       "        vertical-align: top;\n",
       "    }\n",
       "\n",
       "    .dataframe thead th {\n",
       "        text-align: right;\n",
       "    }\n",
       "</style>\n",
       "<table border=\"1\" class=\"dataframe\">\n",
       "  <thead>\n",
       "    <tr style=\"text-align: right;\">\n",
       "      <th></th>\n",
       "      <th>Area</th>\n",
       "      <th>Perimetro</th>\n",
       "      <th>LongitudEjeMayor</th>\n",
       "      <th>LongitudEjeMenor</th>\n",
       "      <th>RelacionAspecto</th>\n",
       "      <th>Excentricidad</th>\n",
       "      <th>AreaConvexa</th>\n",
       "      <th>DiametroEquivalente</th>\n",
       "      <th>Medida</th>\n",
       "      <th>Solidez</th>\n",
       "      <th>Redondez</th>\n",
       "      <th>Compacidad</th>\n",
       "      <th>FactorForma1</th>\n",
       "      <th>FactorForma2</th>\n",
       "      <th>FactorForma3</th>\n",
       "      <th>FactorForma4</th>\n",
       "    </tr>\n",
       "  </thead>\n",
       "  <tbody>\n",
       "    <tr>\n",
       "      <th>0</th>\n",
       "      <td>44974.0</td>\n",
       "      <td>791935.0</td>\n",
       "      <td>297.061200</td>\n",
       "      <td>193.430071</td>\n",
       "      <td>1.535755</td>\n",
       "      <td>0.758953</td>\n",
       "      <td>45499</td>\n",
       "      <td>239.296208</td>\n",
       "      <td>0.779162</td>\n",
       "      <td>0.988461</td>\n",
       "      <td>0.901140</td>\n",
       "      <td>0.805545</td>\n",
       "      <td>0.006605</td>\n",
       "      <td>0.001716</td>\n",
       "      <td>0.648903</td>\n",
       "      <td>0.996556</td>\n",
       "    </tr>\n",
       "    <tr>\n",
       "      <th>8</th>\n",
       "      <td>29261.0</td>\n",
       "      <td>633967.0</td>\n",
       "      <td>231.707309</td>\n",
       "      <td>161.302987</td>\n",
       "      <td>1.436473</td>\n",
       "      <td>0.717897</td>\n",
       "      <td>29600</td>\n",
       "      <td>193.018813</td>\n",
       "      <td>0.772506</td>\n",
       "      <td>0.988547</td>\n",
       "      <td>0.914883</td>\n",
       "      <td>0.833029</td>\n",
       "      <td>0.007919</td>\n",
       "      <td>0.002352</td>\n",
       "      <td>0.693937</td>\n",
       "      <td>0.996821</td>\n",
       "    </tr>\n",
       "    <tr>\n",
       "      <th>9</th>\n",
       "      <td>54064.0</td>\n",
       "      <td>893898.0</td>\n",
       "      <td>338.767370</td>\n",
       "      <td>207.774948</td>\n",
       "      <td>1.630453</td>\n",
       "      <td>0.789830</td>\n",
       "      <td>55194</td>\n",
       "      <td>262.366962</td>\n",
       "      <td>0.724272</td>\n",
       "      <td>0.979527</td>\n",
       "      <td>0.850241</td>\n",
       "      <td>0.774475</td>\n",
       "      <td>0.006266</td>\n",
       "      <td>0.001391</td>\n",
       "      <td>0.599812</td>\n",
       "      <td>0.977966</td>\n",
       "    </tr>\n",
       "    <tr>\n",
       "      <th>13</th>\n",
       "      <td>168744.0</td>\n",
       "      <td>1573509.0</td>\n",
       "      <td>602.362491</td>\n",
       "      <td>357.827818</td>\n",
       "      <td>1.683386</td>\n",
       "      <td>0.804435</td>\n",
       "      <td>170252</td>\n",
       "      <td>463.520802</td>\n",
       "      <td>0.735133</td>\n",
       "      <td>0.991143</td>\n",
       "      <td>0.856446</td>\n",
       "      <td>0.769505</td>\n",
       "      <td>0.003570</td>\n",
       "      <td>0.000772</td>\n",
       "      <td>0.592138</td>\n",
       "      <td>0.996796</td>\n",
       "    </tr>\n",
       "    <tr>\n",
       "      <th>14</th>\n",
       "      <td>47180.0</td>\n",
       "      <td>850406.0</td>\n",
       "      <td>348.615238</td>\n",
       "      <td>172.904633</td>\n",
       "      <td>2.016228</td>\n",
       "      <td>0.868336</td>\n",
       "      <td>47729</td>\n",
       "      <td>245.094761</td>\n",
       "      <td>0.710040</td>\n",
       "      <td>0.988498</td>\n",
       "      <td>0.819814</td>\n",
       "      <td>0.703052</td>\n",
       "      <td>0.007389</td>\n",
       "      <td>0.001114</td>\n",
       "      <td>0.494283</td>\n",
       "      <td>0.996587</td>\n",
       "    </tr>\n",
       "  </tbody>\n",
       "</table>\n",
       "</div>"
      ],
      "text/plain": [
       "        Area  Perimetro  LongitudEjeMayor  LongitudEjeMenor  RelacionAspecto  \\\n",
       "0    44974.0   791935.0        297.061200        193.430071         1.535755   \n",
       "8    29261.0   633967.0        231.707309        161.302987         1.436473   \n",
       "9    54064.0   893898.0        338.767370        207.774948         1.630453   \n",
       "13  168744.0  1573509.0        602.362491        357.827818         1.683386   \n",
       "14   47180.0   850406.0        348.615238        172.904633         2.016228   \n",
       "\n",
       "    Excentricidad  AreaConvexa  DiametroEquivalente    Medida   Solidez  \\\n",
       "0        0.758953        45499           239.296208  0.779162  0.988461   \n",
       "8        0.717897        29600           193.018813  0.772506  0.988547   \n",
       "9        0.789830        55194           262.366962  0.724272  0.979527   \n",
       "13       0.804435       170252           463.520802  0.735133  0.991143   \n",
       "14       0.868336        47729           245.094761  0.710040  0.988498   \n",
       "\n",
       "    Redondez  Compacidad  FactorForma1  FactorForma2  FactorForma3  \\\n",
       "0   0.901140    0.805545      0.006605      0.001716      0.648903   \n",
       "8   0.914883    0.833029      0.007919      0.002352      0.693937   \n",
       "9   0.850241    0.774475      0.006266      0.001391      0.599812   \n",
       "13  0.856446    0.769505      0.003570      0.000772      0.592138   \n",
       "14  0.819814    0.703052      0.007389      0.001114      0.494283   \n",
       "\n",
       "    FactorForma4  \n",
       "0       0.996556  \n",
       "8       0.996821  \n",
       "9       0.977966  \n",
       "13      0.996796  \n",
       "14      0.996587  "
      ]
     },
     "execution_count": 1087,
     "metadata": {},
     "output_type": "execute_result"
    }
   ],
   "source": [
    "df_original.head()"
   ]
  },
  {
   "cell_type": "code",
   "execution_count": 1088,
   "id": "1ff83723",
   "metadata": {},
   "outputs": [
    {
     "name": "stdout",
     "output_type": "stream",
     "text": [
      "<class 'pandas.core.frame.DataFrame'>\n",
      "Index: 7526 entries, 0 to 14290\n",
      "Data columns (total 16 columns):\n",
      " #   Column               Non-Null Count  Dtype  \n",
      "---  ------               --------------  -----  \n",
      " 0   Area                 7526 non-null   float64\n",
      " 1   Perimetro            7526 non-null   float64\n",
      " 2   LongitudEjeMayor     7526 non-null   float64\n",
      " 3   LongitudEjeMenor     7526 non-null   float64\n",
      " 4   RelacionAspecto      7526 non-null   float64\n",
      " 5   Excentricidad        7526 non-null   float64\n",
      " 6   AreaConvexa          7526 non-null   int64  \n",
      " 7   DiametroEquivalente  7526 non-null   float64\n",
      " 8   Medida               7526 non-null   float64\n",
      " 9   Solidez              7526 non-null   float64\n",
      " 10  Redondez             7526 non-null   float64\n",
      " 11  Compacidad           7526 non-null   float64\n",
      " 12  FactorForma1         7526 non-null   float64\n",
      " 13  FactorForma2         7526 non-null   float64\n",
      " 14  FactorForma3         7526 non-null   float64\n",
      " 15  FactorForma4         7526 non-null   float64\n",
      "dtypes: float64(15), int64(1)\n",
      "memory usage: 999.5 KB\n"
     ]
    }
   ],
   "source": [
    "df_original.info()"
   ]
  },
  {
   "cell_type": "markdown",
   "id": "7d5d1bb3",
   "metadata": {},
   "source": [
    "## Normalizar"
   ]
  },
  {
   "cell_type": "code",
   "execution_count": 1089,
   "id": "08613308",
   "metadata": {},
   "outputs": [
    {
     "data": {
      "text/html": [
       "<div>\n",
       "<style scoped>\n",
       "    .dataframe tbody tr th:only-of-type {\n",
       "        vertical-align: middle;\n",
       "    }\n",
       "\n",
       "    .dataframe tbody tr th {\n",
       "        vertical-align: top;\n",
       "    }\n",
       "\n",
       "    .dataframe thead th {\n",
       "        text-align: right;\n",
       "    }\n",
       "</style>\n",
       "<table border=\"1\" class=\"dataframe\">\n",
       "  <thead>\n",
       "    <tr style=\"text-align: right;\">\n",
       "      <th></th>\n",
       "      <th>Area</th>\n",
       "      <th>Perimetro</th>\n",
       "      <th>LongitudEjeMayor</th>\n",
       "      <th>LongitudEjeMenor</th>\n",
       "      <th>RelacionAspecto</th>\n",
       "      <th>Excentricidad</th>\n",
       "      <th>AreaConvexa</th>\n",
       "      <th>DiametroEquivalente</th>\n",
       "      <th>Medida</th>\n",
       "      <th>Solidez</th>\n",
       "      <th>Redondez</th>\n",
       "      <th>Compacidad</th>\n",
       "      <th>FactorForma1</th>\n",
       "      <th>FactorForma2</th>\n",
       "      <th>FactorForma3</th>\n",
       "      <th>FactorForma4</th>\n",
       "    </tr>\n",
       "  </thead>\n",
       "  <tbody>\n",
       "    <tr>\n",
       "      <th>0</th>\n",
       "      <td>-0.273998</td>\n",
       "      <td>0.058695</td>\n",
       "      <td>-0.262488</td>\n",
       "      <td>-0.202115</td>\n",
       "      <td>-0.173080</td>\n",
       "      <td>0.107516</td>\n",
       "      <td>-0.276326</td>\n",
       "      <td>-0.231215</td>\n",
       "      <td>0.600991</td>\n",
       "      <td>0.285557</td>\n",
       "      <td>0.457152</td>\n",
       "      <td>0.071293</td>\n",
       "      <td>0.043670</td>\n",
       "      <td>-0.015487</td>\n",
       "      <td>0.032770</td>\n",
       "      <td>0.336448</td>\n",
       "    </tr>\n",
       "    <tr>\n",
       "      <th>1</th>\n",
       "      <td>-0.799203</td>\n",
       "      <td>-0.428876</td>\n",
       "      <td>-1.017065</td>\n",
       "      <td>-0.905544</td>\n",
       "      <td>-0.576216</td>\n",
       "      <td>-0.333490</td>\n",
       "      <td>-0.799680</td>\n",
       "      <td>-1.002213</td>\n",
       "      <td>0.465055</td>\n",
       "      <td>0.304407</td>\n",
       "      <td>0.689183</td>\n",
       "      <td>0.515349</td>\n",
       "      <td>1.201228</td>\n",
       "      <td>1.045618</td>\n",
       "      <td>0.485631</td>\n",
       "      <td>0.398029</td>\n",
       "    </tr>\n",
       "    <tr>\n",
       "      <th>2</th>\n",
       "      <td>0.029833</td>\n",
       "      <td>0.373406</td>\n",
       "      <td>0.219053</td>\n",
       "      <td>0.111969</td>\n",
       "      <td>0.211442</td>\n",
       "      <td>0.439177</td>\n",
       "      <td>0.042809</td>\n",
       "      <td>0.153152</td>\n",
       "      <td>-0.520144</td>\n",
       "      <td>-1.672511</td>\n",
       "      <td>-0.402189</td>\n",
       "      <td>-0.430710</td>\n",
       "      <td>-0.255208</td>\n",
       "      <td>-0.557297</td>\n",
       "      <td>-0.460891</td>\n",
       "      <td>-3.985315</td>\n",
       "    </tr>\n",
       "    <tr>\n",
       "      <th>3</th>\n",
       "      <td>3.862994</td>\n",
       "      <td>2.471040</td>\n",
       "      <td>3.262528</td>\n",
       "      <td>3.397405</td>\n",
       "      <td>0.426376</td>\n",
       "      <td>0.596061</td>\n",
       "      <td>3.830228</td>\n",
       "      <td>3.504446</td>\n",
       "      <td>-0.298296</td>\n",
       "      <td>0.873174</td>\n",
       "      <td>-0.297439</td>\n",
       "      <td>-0.511020</td>\n",
       "      <td>-2.631516</td>\n",
       "      <td>-1.588382</td>\n",
       "      <td>-0.538066</td>\n",
       "      <td>0.392319</td>\n",
       "    </tr>\n",
       "    <tr>\n",
       "      <th>4</th>\n",
       "      <td>-0.200263</td>\n",
       "      <td>0.239167</td>\n",
       "      <td>0.332757</td>\n",
       "      <td>-0.651523</td>\n",
       "      <td>1.777878</td>\n",
       "      <td>1.282458</td>\n",
       "      <td>-0.202920</td>\n",
       "      <td>-0.134609</td>\n",
       "      <td>-0.810842</td>\n",
       "      <td>0.293506</td>\n",
       "      <td>-0.915904</td>\n",
       "      <td>-1.584707</td>\n",
       "      <td>0.734497</td>\n",
       "      <td>-1.019099</td>\n",
       "      <td>-1.522101</td>\n",
       "      <td>0.343568</td>\n",
       "    </tr>\n",
       "  </tbody>\n",
       "</table>\n",
       "</div>"
      ],
      "text/plain": [
       "       Area  Perimetro  LongitudEjeMayor  LongitudEjeMenor  RelacionAspecto  \\\n",
       "0 -0.273998   0.058695         -0.262488         -0.202115        -0.173080   \n",
       "1 -0.799203  -0.428876         -1.017065         -0.905544        -0.576216   \n",
       "2  0.029833   0.373406          0.219053          0.111969         0.211442   \n",
       "3  3.862994   2.471040          3.262528          3.397405         0.426376   \n",
       "4 -0.200263   0.239167          0.332757         -0.651523         1.777878   \n",
       "\n",
       "   Excentricidad  AreaConvexa  DiametroEquivalente    Medida   Solidez  \\\n",
       "0       0.107516    -0.276326            -0.231215  0.600991  0.285557   \n",
       "1      -0.333490    -0.799680            -1.002213  0.465055  0.304407   \n",
       "2       0.439177     0.042809             0.153152 -0.520144 -1.672511   \n",
       "3       0.596061     3.830228             3.504446 -0.298296  0.873174   \n",
       "4       1.282458    -0.202920            -0.134609 -0.810842  0.293506   \n",
       "\n",
       "   Redondez  Compacidad  FactorForma1  FactorForma2  FactorForma3  \\\n",
       "0  0.457152    0.071293      0.043670     -0.015487      0.032770   \n",
       "1  0.689183    0.515349      1.201228      1.045618      0.485631   \n",
       "2 -0.402189   -0.430710     -0.255208     -0.557297     -0.460891   \n",
       "3 -0.297439   -0.511020     -2.631516     -1.588382     -0.538066   \n",
       "4 -0.915904   -1.584707      0.734497     -1.019099     -1.522101   \n",
       "\n",
       "   FactorForma4  \n",
       "0      0.336448  \n",
       "1      0.398029  \n",
       "2     -3.985315  \n",
       "3      0.392319  \n",
       "4      0.343568  "
      ]
     },
     "execution_count": 1089,
     "metadata": {},
     "output_type": "execute_result"
    }
   ],
   "source": [
    "df = df_original.copy() \n",
    "from sklearn.preprocessing import StandardScaler\n",
    "\n",
    "\n",
    "\n",
    "scaler = StandardScaler()\n",
    "df_scaled = scaler.fit_transform(df)\n",
    "\n",
    "df_scaled = pd.DataFrame(df_scaled, columns=df.columns)\n",
    "df_scaled.head()"
   ]
  },
  {
   "cell_type": "code",
   "execution_count": null,
   "id": "559c2b51",
   "metadata": {},
   "outputs": [],
   "source": []
  }
 ],
 "metadata": {
  "kernelspec": {
   "display_name": "base",
   "language": "python",
   "name": "python3"
  },
  "language_info": {
   "codemirror_mode": {
    "name": "ipython",
    "version": 3
   },
   "file_extension": ".py",
   "mimetype": "text/x-python",
   "name": "python",
   "nbconvert_exporter": "python",
   "pygments_lexer": "ipython3",
   "version": "3.13.5"
  }
 },
 "nbformat": 4,
 "nbformat_minor": 5
}
